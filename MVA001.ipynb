{
  "nbformat": 4,
  "nbformat_minor": 0,
  "metadata": {
    "colab": {
      "name": "Untitled4.ipynb",
      "provenance": [],
      "authorship_tag": "ABX9TyPX4Jb5/9De9ZaqF30PQAcR",
      "include_colab_link": true
    },
    "kernelspec": {
      "name": "python3",
      "display_name": "Python 3"
    }
  },
  "cells": [
    {
      "cell_type": "markdown",
      "metadata": {
        "id": "view-in-github",
        "colab_type": "text"
      },
      "source": [
        "<a href=\"https://colab.research.google.com/github/team0243/multivariate/blob/main/MVA001.ipynb\" target=\"_parent\"><img src=\"https://colab.research.google.com/assets/colab-badge.svg\" alt=\"Open In Colab\"/></a>"
      ]
    },
    {
      "cell_type": "markdown",
      "metadata": {
        "id": "SJhH17tnwClW"
      },
      "source": [
        "Scalar, Vector, Matrix"
      ]
    },
    {
      "cell_type": "code",
      "metadata": {
        "id": "g3MxARJlwDA1"
      },
      "source": [
        "import numpy as np"
      ],
      "execution_count": null,
      "outputs": []
    },
    {
      "cell_type": "code",
      "metadata": {
        "colab": {
          "base_uri": "https://localhost:8080/"
        },
        "id": "SxlhJ5pjwE4m",
        "outputId": "1b9d0078-1f2d-4c51-e959-fa9f6a84f69b"
      },
      "source": [
        "scalar_a = 10 \r\n",
        "print(scalar_a)"
      ],
      "execution_count": null,
      "outputs": [
        {
          "output_type": "stream",
          "text": [
            "10\n"
          ],
          "name": "stdout"
        }
      ]
    },
    {
      "cell_type": "code",
      "metadata": {
        "colab": {
          "base_uri": "https://localhost:8080/"
        },
        "id": "dPSoeScvwI-2",
        "outputId": "3ebbda67-4cd5-4cc1-ae4b-a03ee6b996bc"
      },
      "source": [
        "vector_b = np.zeros([2,1])\r\n",
        "vector_b[0,0] = 2\r\n",
        "vector_b[1,0] = 3\r\n",
        "print(vector_b)\r\n",
        "print(vector_b.shape)"
      ],
      "execution_count": null,
      "outputs": [
        {
          "output_type": "stream",
          "text": [
            "[[2.]\n",
            " [3.]]\n",
            "(2, 1)\n"
          ],
          "name": "stdout"
        }
      ]
    },
    {
      "cell_type": "code",
      "metadata": {
        "colab": {
          "base_uri": "https://localhost:8080/"
        },
        "id": "oMZswD6RwLG3",
        "outputId": "a4c74c55-a510-4c87-f67e-769dc74e4066"
      },
      "source": [
        "vector_c = np.array([[1],[2]])\r\n",
        "print(vector_c)\r\n",
        "print(vector_c.shape)"
      ],
      "execution_count": null,
      "outputs": [
        {
          "output_type": "stream",
          "text": [
            "[[1]\n",
            " [2]]\n",
            "(2, 1)\n"
          ],
          "name": "stdout"
        }
      ]
    },
    {
      "cell_type": "code",
      "metadata": {
        "id": "I9E3jSdewMnV"
      },
      "source": [
        "from matplotlib import pyplot as plt"
      ],
      "execution_count": null,
      "outputs": []
    },
    {
      "cell_type": "code",
      "metadata": {
        "colab": {
          "base_uri": "https://localhost:8080/",
          "height": 282
        },
        "id": "RvtG7mxXwOXu",
        "outputId": "75f5cb9f-6c3b-4e51-ed84-78c44ae58b5a"
      },
      "source": [
        "plt.plot(vector_b[0,0],vector_b[1,0],'or')"
      ],
      "execution_count": null,
      "outputs": [
        {
          "output_type": "execute_result",
          "data": {
            "text/plain": [
              "[<matplotlib.lines.Line2D at 0x7fa0a10a6748>]"
            ]
          },
          "metadata": {
            "tags": []
          },
          "execution_count": 14
        },
        {
          "output_type": "display_data",
          "data": {
            "image/png": "[encoded data removed]",
            "text/plain": [
              "<Figure size 432x288 with 1 Axes>"
            ]
          },
          "metadata": {
            "tags": [],
            "needs_background": "light"
          }
        }
      ]
    },
    {
      "cell_type": "code",
      "metadata": {
        "colab": {
          "base_uri": "https://localhost:8080/",
          "height": 282
        },
        "id": "lHO9x-SZwm-O",
        "outputId": "f8c4825e-a850-4201-db53-a1914ecaecbc"
      },
      "source": [
        "plt.quiver(0,0,vector_b[0,0],vector_b[1,0])"
      ],
      "execution_count": null,
      "outputs": [
        {
          "output_type": "execute_result",
          "data": {
            "text/plain": [
              "<matplotlib.quiver.Quiver at 0x7fa0a1016ef0>"
            ]
          },
          "metadata": {
            "tags": []
          },
          "execution_count": 15
        },
        {
          "output_type": "display_data",
          "data": {
            "image/png": "[encoded data removed]",
            "text/plain": [
              "<Figure size 432x288 with 1 Axes>"
            ]
          },
          "metadata": {
            "tags": [],
            "needs_background": "light"
          }
        }
      ]
    },
    {
      "cell_type": "markdown",
      "metadata": {
        "id": "tv3cfuvrwpl4"
      },
      "source": [
        "ขนาดของ vector คำนวณได้โดย พิธากอรัส"
      ]
    },
    {
      "cell_type": "code",
      "metadata": {
        "id": "diGkWsYywsJ3",
        "colab": {
          "base_uri": "https://localhost:8080/"
        },
        "outputId": "1ffcee37-df0b-452d-8c97-d013a92897b2"
      },
      "source": [
        "vector_b_size = ((vector_b[0,0]**2) + (vector_b[1,0]**2))**0.5\r\n",
        "print(vector_b_size)"
      ],
      "execution_count": null,
      "outputs": [
        {
          "output_type": "stream",
          "text": [
            "3.605551275463989\n"
          ],
          "name": "stdout"
        }
      ]
    },
    {
      "cell_type": "code",
      "metadata": {
        "id": "7F8pQTV2wtfh"
      },
      "source": [
        ""
      ],
      "execution_count": null,
      "outputs": []
    },
    {
      "cell_type": "markdown",
      "metadata": {
        "id": "FEpqbz3cwwB-"
      },
      "source": [
        "#Matrix"
      ]
    },
    {
      "cell_type": "code",
      "metadata": {
        "colab": {
          "base_uri": "https://localhost:8080/"
        },
        "id": "iW_Ty25-wxt2",
        "outputId": "14699329-5a98-4bc8-8475-838d2db482fb"
      },
      "source": [
        "matrix_d = np.array([[2,3],[1,4],[-1,1]])\r\n",
        "print(matrix_d)"
      ],
      "execution_count": null,
      "outputs": [
        {
          "output_type": "stream",
          "text": [
            "[[ 2  3]\n",
            " [ 1  4]\n",
            " [-1  1]]\n"
          ],
          "name": "stdout"
        }
      ]
    },
    {
      "cell_type": "code",
      "metadata": {
        "colab": {
          "base_uri": "https://localhost:8080/"
        },
        "id": "q7-uAuPxwzn_",
        "outputId": "8d49bad1-0fe6-4d61-9aef-21bcd5d51a17"
      },
      "source": [
        "matrix_d = matrix_d.T\r\n",
        "print(matrix_d)"
      ],
      "execution_count": null,
      "outputs": [
        {
          "output_type": "stream",
          "text": [
            "[[ 2  1 -1]\n",
            " [ 3  4  1]]\n"
          ],
          "name": "stdout"
        }
      ]
    },
    {
      "cell_type": "code",
      "metadata": {
        "colab": {
          "base_uri": "https://localhost:8080/",
          "height": 282
        },
        "id": "DIldYbMDw2Fe",
        "outputId": "0e3b8171-2ac7-4592-ddf9-231fc5267c77"
      },
      "source": [
        "plt.plot(matrix_d[0,:],matrix_d[1,:],'or') ## plot(ค่าx,ค่าy,หน้าตาของจุด)\r\n",
        "plt.plot(0,0,'.b') ## plot(ค่าx,ค่าy,หน้าตาของจุด)\r\n",
        "plt.plot([0,0],[-1,5],'--b')\r\n",
        "plt.plot([-1.5,2.5],[0,0],'--b')"
      ],
      "execution_count": null,
      "outputs": [
        {
          "output_type": "execute_result",
          "data": {
            "text/plain": [
              "[<matplotlib.lines.Line2D at 0x7fa098363048>]"
            ]
          },
          "metadata": {
            "tags": []
          },
          "execution_count": 19
        },
        {
          "output_type": "display_data",
          "data": {
            "image/png": "[encoded data removed]",
            "text/plain": [
              "<Figure size 432x288 with 1 Axes>"
            ]
          },
          "metadata": {
            "tags": [],
            "needs_background": "light"
          }
        }
      ]
    },
    {
      "cell_type": "markdown",
      "metadata": {
        "id": "x9PcQ2fww491"
      },
      "source": [
        "#Transpose"
      ]
    },
    {
      "cell_type": "code",
      "metadata": {
        "colab": {
          "base_uri": "https://localhost:8080/"
        },
        "id": "uvk7bz8Aw6MI",
        "outputId": "66f19f42-e725-497a-e0ac-934b8ed69ec2"
      },
      "source": [
        "A = np.array([[3,-1,2],[1,5,4]])\r\n",
        "print(A)"
      ],
      "execution_count": null,
      "outputs": [
        {
          "output_type": "stream",
          "text": [
            "[[ 3 -1  2]\n",
            " [ 1  5  4]]\n"
          ],
          "name": "stdout"
        }
      ]
    },
    {
      "cell_type": "code",
      "metadata": {
        "id": "PhoTcbvFw8lm",
        "colab": {
          "base_uri": "https://localhost:8080/"
        },
        "outputId": "c52c1816-27ed-4ca1-8431-748a4d18d768"
      },
      "source": [
        "A.T"
      ],
      "execution_count": null,
      "outputs": [
        {
          "output_type": "execute_result",
          "data": {
            "text/plain": [
              "array([[ 3,  1],\n",
              "       [-1,  5],\n",
              "       [ 2,  4]])"
            ]
          },
          "metadata": {
            "tags": []
          },
          "execution_count": 21
        }
      ]
    },
    {
      "cell_type": "markdown",
      "metadata": {
        "id": "ZdIzHAp3w9-6"
      },
      "source": [
        "#Matrix Multiply\r\n",
        "\r\n",
        "B = A*A'"
      ]
    },
    {
      "cell_type": "code",
      "metadata": {
        "colab": {
          "base_uri": "https://localhost:8080/"
        },
        "id": "SXIQiztcw_Vn",
        "outputId": "b057ae53-ac1e-45e0-cfd3-0d0f1fb34efc"
      },
      "source": [
        "B = np.dot(A,A.T)\r\n",
        "print(B)"
      ],
      "execution_count": null,
      "outputs": [
        {
          "output_type": "stream",
          "text": [
            "[[14  6]\n",
            " [ 6 42]]\n"
          ],
          "name": "stdout"
        }
      ]
    },
    {
      "cell_type": "code",
      "metadata": {
        "id": "Ee2NumZDxEXA"
      },
      "source": [
        ""
      ],
      "execution_count": null,
      "outputs": []
    },
    {
      "cell_type": "markdown",
      "metadata": {
        "id": "2JNrszzoxGlW"
      },
      "source": [
        "#Determinant\r\n",
        "\r\n",
        "*Det ( ฺB )*"
      ]
    },
    {
      "cell_type": "code",
      "metadata": {
        "colab": {
          "base_uri": "https://localhost:8080/"
        },
        "id": "su-ZL4TQxQCH",
        "outputId": "11a3c9c8-6282-44cf-fc25-0b54fcad4e34"
      },
      "source": [
        "np.linalg.det(B)"
      ],
      "execution_count": null,
      "outputs": [
        {
          "output_type": "execute_result",
          "data": {
            "text/plain": [
              "551.9999999999998"
            ]
          },
          "metadata": {
            "tags": []
          },
          "execution_count": 23
        }
      ]
    },
    {
      "cell_type": "markdown",
      "metadata": {
        "id": "AArwdU4b-vE7"
      },
      "source": [
        "linalg = linear algebra"
      ]
    },
    {
      "cell_type": "markdown",
      "metadata": {
        "id": "gYRibBdW-ypQ"
      },
      "source": [
        "matrix algebra เพิ่มเติม"
      ]
    },
    {
      "cell_type": "code",
      "metadata": {
        "id": "j77yVbpn-zS5",
        "colab": {
          "base_uri": "https://localhost:8080/",
          "height": 282
        },
        "outputId": "a51d23c6-c481-4beb-977e-d51ed3957cc1"
      },
      "source": [
        "plt.plot([0,2**0.5],[0,2**0.5],'-r') ## plot(ค่าx,ค่าy,หน้าตาของจุด)\r\n",
        "plt.plot(0,0,'.b') ## plot(ค่าx,ค่าy,หน้าตาของจุด)\r\n",
        "plt.plot([0,0],[-1,5],'--b')\r\n",
        "plt.plot([-1.5,2.5],[0,0],'--b')"
      ],
      "execution_count": null,
      "outputs": [
        {
          "output_type": "execute_result",
          "data": {
            "text/plain": [
              "[<matplotlib.lines.Line2D at 0x7fa0982d7a90>]"
            ]
          },
          "metadata": {
            "tags": []
          },
          "execution_count": 24
        },
        {
          "output_type": "display_data",
          "data": {
            "image/png": "[encoded data removed]",
            "text/plain": [
              "<Figure size 432x288 with 1 Axes>"
            ]
          },
          "metadata": {
            "tags": [],
            "needs_background": "light"
          }
        }
      ]
    },
    {
      "cell_type": "code",
      "metadata": {
        "id": "_kG6eOYa_XvC",
        "colab": {
          "base_uri": "https://localhost:8080/"
        },
        "outputId": "030f1151-033d-412a-c5b4-e2fde03f8c1a"
      },
      "source": [
        "B = np.array([[1,2],[3,4]])\r\n",
        "B\r\n"
      ],
      "execution_count": null,
      "outputs": [
        {
          "output_type": "execute_result",
          "data": {
            "text/plain": [
              "array([[1, 2],\n",
              "       [3, 4]])"
            ]
          },
          "metadata": {
            "tags": []
          },
          "execution_count": 25
        }
      ]
    },
    {
      "cell_type": "markdown",
      "metadata": {
        "id": "yqOY4FPN_aH4"
      },
      "source": [
        "การคูณ Matrix ( B.v ) คือการ linear transformation"
      ]
    },
    {
      "cell_type": "code",
      "metadata": {
        "id": "S3TQ96_P_d4q",
        "colab": {
          "base_uri": "https://localhost:8080/"
        },
        "outputId": "ec897b91-242c-494f-ca1d-5cc7f4deb740"
      },
      "source": [
        "Bv = np.dot(B,np.array([[1],[1]]))\r\n",
        "Bv"
      ],
      "execution_count": null,
      "outputs": [
        {
          "output_type": "execute_result",
          "data": {
            "text/plain": [
              "array([[3],\n",
              "       [7]])"
            ]
          },
          "metadata": {
            "tags": []
          },
          "execution_count": 26
        }
      ]
    },
    {
      "cell_type": "code",
      "metadata": {
        "id": "__6IQIPy_f0T",
        "colab": {
          "base_uri": "https://localhost:8080/",
          "height": 282
        },
        "outputId": "42adac57-3a02-4dc7-f315-b162e1e62e45"
      },
      "source": [
        "plt.plot([0,Bv[0,0]],[0,Bv[1,0]],'-g') # vector [1,1]\r\n",
        "plt.plot([0,1],[0,1],'-r') \r\n",
        "plt.plot(0,0,'.k')\r\n",
        "plt.plot([0,0],[-1,5],'^:b')\r\n",
        "plt.plot([-2,2.5],[0,0],'>:b')"
      ],
      "execution_count": null,
      "outputs": [
        {
          "output_type": "execute_result",
          "data": {
            "text/plain": [
              "[<matplotlib.lines.Line2D at 0x7fa098214978>]"
            ]
          },
          "metadata": {
            "tags": []
          },
          "execution_count": 27
        },
        {
          "output_type": "display_data",
          "data": {
            "image/png": "[encoded data removed]",
            "text/plain": [
              "<Figure size 432x288 with 1 Axes>"
            ]
          },
          "metadata": {
            "tags": [],
            "needs_background": "light"
          }
        }
      ]
    },
    {
      "cell_type": "markdown",
      "metadata": {
        "id": "cRH0DjzL_jqI"
      },
      "source": [
        "Determinant ของ Matrix ( Det(B) ) คือการ พื้นที่ของ unit vector ที่ถูกเปลี่ยนไป โดย Matrix นั้นๆ"
      ]
    },
    {
      "cell_type": "code",
      "metadata": {
        "id": "w5-9RcCw_kGE"
      },
      "source": [
        "plt.plot([0,Bv[0,0]],[0,Bv[1,0]],'-g') # vector [1,1]\r\n",
        "plt.plot([3,3],[7,0],':g') # วาดจุดไข่ปลา พื้นที่ของ Bv\r\n",
        "plt.plot([3,0],[7,7],':g') # วาดจุดไข่ปลา พื้นที่ของ Bv\r\n",
        "plt.plot([0,1],[0,1],'-r') \r\n",
        "plt.plot([1,1],[1,0],':r') # วาดจุดไข่ปลา พื้นที่ของ v\r\n",
        "plt.plot([1,0],[1,1],':r') # วาดจุดไข่ปลา พื้นที่ของ v\r\n",
        "plt.plot(0,0,'.k')\r\n",
        "plt.plot([0,0],[-1,5],'^:b')\r\n",
        "plt.plot([-2,2.5],[0,0],'>:b')"
      ],
      "execution_count": null,
      "outputs": []
    },
    {
      "cell_type": "markdown",
      "metadata": {
        "id": "w19SY8nz_osf"
      },
      "source": [
        "Identity matrix (I)\r\n",
        "\r\n",
        "**BI=B=IB*"
      ]
    },
    {
      "cell_type": "code",
      "metadata": {
        "id": "2KB2m8zJ_vlZ"
      },
      "source": [
        "iden2 = np.identity(2)"
      ],
      "execution_count": null,
      "outputs": []
    },
    {
      "cell_type": "code",
      "metadata": {
        "id": "2wQVAWYq_t9b"
      },
      "source": [
        "B"
      ],
      "execution_count": null,
      "outputs": []
    },
    {
      "cell_type": "code",
      "metadata": {
        "id": "cdI0f671_yCj"
      },
      "source": [
        "np.dot(B,iden2)"
      ],
      "execution_count": null,
      "outputs": []
    },
    {
      "cell_type": "code",
      "metadata": {
        "id": "4J3xhP1V_0cE"
      },
      "source": [
        "C = np.array([[-1,2],[2,4]])\r\n",
        "C"
      ],
      "execution_count": null,
      "outputs": []
    },
    {
      "cell_type": "code",
      "metadata": {
        "id": "QuBMSCZw_1xN"
      },
      "source": [
        "np.dot(B,C)"
      ],
      "execution_count": null,
      "outputs": []
    },
    {
      "cell_type": "code",
      "metadata": {
        "id": "jZzZlrEj_2_0"
      },
      "source": [
        "np.dot(C,B)"
      ],
      "execution_count": null,
      "outputs": []
    },
    {
      "cell_type": "markdown",
      "metadata": {
        "id": "1fNPQCqq8g-4"
      },
      "source": [
        "Quiz\r\n",
        "![image.png](data:image/png;base64,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)"
      ]
    },
    {
      "cell_type": "code",
      "metadata": {
        "id": "PJ-uI3u1_4Y9"
      },
      "source": [
        "ex = np.array([[3,1,6],[7,4,5],[2,-7,1]])\r\n",
        "ex"
      ],
      "execution_count": null,
      "outputs": []
    },
    {
      "cell_type": "code",
      "metadata": {
        "id": "IJ4A1swy_5rj"
      },
      "source": [
        "np.linalg.det(ex)"
      ],
      "execution_count": null,
      "outputs": []
    },
    {
      "cell_type": "markdown",
      "metadata": {
        "id": "jE2Tbmnq_7Qt"
      },
      "source": [
        "Eigen value กับ Eigen vector\r\n",
        "\r\n",
        "Eigen value ( λ ) ->  |A−λI|  =  0  ##  latex \\\r\n",
        "Eigen vector( x ) ->  Ax=λx"
      ]
    },
    {
      "cell_type": "markdown",
      "metadata": {
        "id": "OxxKVyanAj5v"
      },
      "source": [
        "#HW 5 หา Eigen value กับ Eigen vector"
      ]
    },
    {
      "cell_type": "markdown",
      "metadata": {
        "id": "lE7tmFoR8uDu"
      },
      "source": [
        "![image.png](data:image/png;base64,iVBORw0KGgoAAAANSUhEUgAAANAAAACdCAYAAADFYvbGAAALqklEQVR4Ae2dv4vjRhTH1aRPq9pd2G7/AVduLm1aFdtccUWqCLbbXrAQSBUwHISrFsHBEQgHJs01CyquM+qOsJhAisO4WJbFvCBZY0ta/RhpRnPzPN+Dw5Y0P56/bz470tP88Aj/oAAUGK2ANzonMkIBKEAACI0ACigoAIAUxENWKACA0AaggIICAEhBPGSFAgAIbQAKKCgAgBTEQ1YoAIDQBqCAggIASEE8ZIUCAAhtAAooKACAFMRDVigAgNAGoICCAgBIQTxkhQIACG0ACigoAIAUxENWKACA0AaggIICAEhBPGSFAgAIbQAKKCgAgBTEQ1YoAIDQBqCAggIASEE8ZIUCAAhtAAooKACAFMRDVigAgNAGoICCAgBIQTxkhQIACG0ACigoAIAUxENWKACA0AaggIICAEhBPGSFAgBoTBt4TiiaeeR58v9nUULPY+o64zzPSUSzARp63pyiZGeVIgBojDsA0BjVXuQBQC8kceSEACiIaePIT/62P/OZNvFrQg/0bb2gr3YApE9LqZIAkJRMbBIBIMOuAkCGBZ+4OgA0scD14gFQXRHexwDIsP8AkGHBJ65OO0BbSlcxLcMFebOIElbx7j3t0r/pLgrIFyFpP6AoTmiz1+UHAKRLSTvK0QJQBs37asPLGiArgLaUxtc093yahzGlu4yYDKi/KAouyJvf0GrzpMFnAEiDiBYVoQxQ1iBuKFzeURy/OzQ28debDUBbWi+v8l7Hv4rpodbb7B9iuvI9TRABIItavwZTlAGq2lB5ocgCoD3tklua59D/RMv0sfqD8qNHSpc/5aM1mgBryNBxCgB1iMPwkmaAaBNTwKkH2q9pufAPQ5kWS0prvY/w6D5d0iL/XRd0FX+hlmQieccnAOoQh+ElpwHa03Z1XQQMfFos1+1gCJ0yiDpA628BAKhfI04pRMPQNZSHVQ/0H63Cy2Ig7SWFq/86PDckbUcxBIC61OF3zWWAtisKs+BA5/OPcOmOkmhepO3prUSWxk8A1CgL25MOA1QJeHivKd50vbQSDb8AbnSPLcrBdAa2zFQMdxYg0ZALIHojhkPTV1QuHYhyAFBJFMZfnQXoFJrOb+F6ASIa1mO1tQkA1KYMz/POAlR+ppGLrAEgnk18WqsB0CEwIPFMA4CmbYo8SwdAkgCV3xllz019QYe25oBbuDZleJ4HQAeAel+OioZfBB38a1ptx4xHEOUgiMATmLrVzgIkGjKicKJJYFUeocSQT2cBqkXVeqNwtaidxDNTsxsEuOiBmvXhdtZhgKgyEqHvmaYctcNIBG7NfDp7XQaIyuPb+nqEfygOZsVQnrZpDzJuQg8koxKfNE4DVI6s9fQq5d6qN+DQ5X4A1KUOv2tOA5TN2i7NB+p4rsF8IH5N24zFrgOUrXvQOyP1KyXRq/z2DTNSzTRLPrU4D1DmKgGIT/PonqpLvu9pt35LAdZE4NOmjVqqE6D9hu5vS0tCeQsK43WtQRr9dfKVHW2/oOD2U7GM1ZbSj7c5PH7wG91jVR55PZ1JqQOg8ixUsR5C/bP3PYsNij/RJvlwWNOusN8PIrpbpRr/CCCIYIOn9dmgAyB91jhQEgCiQ0RG5V2ARe0EABl2hvMAnR44O1dxMeyW0dUBoNHSjcvoOkDlF2qjR+SOk36SXABoElnbC3UaoCd6iN+cFh73VBfZa5fZ2JXHP+jH77J1rH+hz8YqdbmiR/r8yw/ked/Tj3/8a5UQ04/GLr+1FlEmpWEdFuiHHsiwE5ztgcrjpoo5JDlEryhKvhp2gsbqAJBGMWWKchWg/ReKry6K0bhlgDzywxVtZbSzMQ0AMuwVRwE6DSaswpMvieS/ofhBx94xhn2ZVQeADIvuJECH0LUffqD7YpuLw3KwAqaeofCGXTSoOgA0SC71xC4ClIeui8XHy2FsEUjIPrmGtAGQOhODSnAOoGIu/DHaVp7FKHqg7LNvdf9BKptLDIDMaZ3X5BpAu3uK5peVTZVan4eOkI33SXXxvjKgw7/PooS6lks/+DOhaOaR1zGZbPyvQc6XCjgFUBG6rt+eNb0Pym/n1MfHAaCXTe68zrgEUB66vmycZHXa2azaM7ALaeMWzjCfDgHUOer6XIIJAAgAFQpoHspzCBa09yi1hfaOETlmIW0ABICmAGj/ENPVcfu/6m1a9R1Qw7X5LSW7MesmG/ZlVh0AMiy6E7dwbb1LAyzHnqd8jVFIGwABoEIBfbdwDaHrZpXbBph6NHb5I0ThmpU+n7Nn3wO1hK7bPKg5pA2A2oQ+l/PnDlAOxKwhdN3mwPbbvfYARFtZ3+A8buEMi37WAIkZpwNfiLaFtL2B5Rh2ZV4dADKs+hkDdIq8DW34bePjxj8LGfMqADIm9aGiswRoS+lqSeHcLybM+TQPl7RK5abJ7Tef6DZonmzneVlZMaW2hrUBEAAqFBgZhSvv+1IORYvvMwrifxpEFn9JRLq+z779ZxqqMHEKAJlQuVSHaDf2tYeRAJV+m4tfAZBhrwMgw4JPXB0AmljgevEAqK4I72MAZNh/AMiw4BNXh4UVJxa4XrzLCyvWtTiHY+0AZRHN+LBFCIstTcpOzLY3+ZPuovIeR1kU9XeKtW1xAoDKivP/rgWgDJr3tYaXLRccUdI7p9wSCfcPtLpeNK77dxh979P8+mOx8ZaKzQBIRT378ioDlN3T31C4vKM4fkdR+X0YG4CKZcvqm2ntUlotQ5ofR9zrWAsdANkHgYpFygBVK68MhmUBULbJ8K8UtPYuT7RZ3Zwgqq+PUf35EkcASEIkRkk0A0Tl7R45AJQNHr76tWcCZHmoluoLUADEiA4JU10HiJ5pt3vsEUqEnrPRJkPHSdaLBkB1RXgfOw+QjPtKAClP1wdAMorzSQOAJHwl5nwhiCAhlmNJAFC/wwdPsuwqEj1Qlzr8rgGgHp9tab38ma5uP2l4B5RVBYB6BGd2GQC1O2y/ofvbgPx5SG+TDelZqAwAtQvO8YruwaTcwthNPsteoMa/lyZYZtE3XRMjRUBCNRzeZLjaOcwHGqMfAKqoVnkRfByBcJos6Qdvaa00uxgAVQRnfwCAml2431Dyvt4LHXqixXKtcDsHgJoF53oWAPV4bktpfH0aypP1SkrDeQBQj+DMLgMgCYeJ5c7ErZzKaAQAJCE4oyQASM5ZlbX/VAIAAEhOcC6pAJCkp3aURPNivhAAkhTNgWQASNLJoufAM5CkYI4kA0CSjj4BNHbnjUNFohyVXkzS5IHJ8B5ooGB5cgAkqZoYUPqKouSrZJ6mZACoSRW+5wCQnO/yPaNmGtZFAEBygnNJ5ThAxw0F/ICijyntmvxWLDiiPgohKxwANUnM95xOgMTgy+MQmAWF8bq5UVqh2MsdBv0govg4cHRPu3RFy/A1hW/vNY3GBkBWuF6bEToAKg8gPcIjXjoWn9auj1DfmUPYfUFB9I7i+G/NO2sAIG1t14qCdABkxQ/hYgQA4uIpOTsBkJxO2lIBIG1SWlEQADLsBgBkWPCJqwNAEwtcLx4A1RXhfQyADPsPABkWfOLqANDEAteLB0B1RXgfAyDD/gNAhgWfuDoANLHA9eIBUF0R3scAyLD/AJBhwSeuTgDUNoKg4fwsSojLvlkTq3csvm81n8MmXWKUQ/aJ6QxH8Vh/AUBa3AeAtMiIQqAAXwUwoY6v72C5BQoAIAucABP4KgCA+PoOllugAACywAkwga8CAIiv72C5BQoAIAucABP4KgCA+PoOllugAACywAkwga8CAIiv72C5BQoAIAucABP4KgCA+PoOllugAACywAkwga8CAIiv72C5BQoAIAucABP4KgCA+PoOllugAACywAkwga8CAIiv72C5BQoAIAucABP4KgCA+PoOllugAACywAkwga8CAIiv72C5BQoAIAucABP4KgCA+PoOllugAACywAkwga8CAIiv72C5BQoAIAucABP4KgCA+PoOllugAACywAkwga8C/wNXFk7HSXogdAAAAABJRU5ErkJggg==)"
      ]
    },
    {
      "cell_type": "code",
      "metadata": {
        "id": "SUsatW1_7YZH",
        "colab": {
          "base_uri": "https://localhost:8080/"
        },
        "outputId": "b9b50c34-32d7-4a64-e40d-7fe60559670d"
      },
      "source": [
        "hw = np.array([[1,0],[1,3]])\r\n",
        "hw"
      ],
      "execution_count": null,
      "outputs": [
        {
          "output_type": "execute_result",
          "data": {
            "text/plain": [
              "array([[1, 0],\n",
              "       [1, 3]])"
            ]
          },
          "metadata": {
            "tags": []
          },
          "execution_count": 5
        }
      ]
    },
    {
      "cell_type": "code",
      "metadata": {
        "id": "GLbvEuxb7jp3"
      },
      "source": [
        ""
      ],
      "execution_count": null,
      "outputs": []
    },
    {
      "cell_type": "markdown",
      "metadata": {
        "id": "019l2O2e7lc5"
      },
      "source": [
        "Eigen vector\r\n",
        "\r\n"
      ]
    },
    {
      "cell_type": "code",
      "metadata": {
        "id": "VFc8snfR7m8d"
      },
      "source": [
        "hw_vector = np.array([[1,0],[1,3]])\r\n",
        "hw_vector = np.linalg.eig(hw_vector)"
      ],
      "execution_count": null,
      "outputs": []
    },
    {
      "cell_type": "markdown",
      "metadata": {
        "id": "q2T_o-TD7oWf"
      },
      "source": [
        "Eigen value"
      ]
    },
    {
      "cell_type": "code",
      "metadata": {
        "id": "mHQ9-DV07png",
        "colab": {
          "base_uri": "https://localhost:8080/"
        },
        "outputId": "9584f9d3-e406-4ecb-ce3f-6a733246e084"
      },
      "source": [
        "hw_value = np.array([[1,0], [1,3]])\r\n",
        "np.linalg.eigvals(hw_value)"
      ],
      "execution_count": null,
      "outputs": [
        {
          "output_type": "execute_result",
          "data": {
            "text/plain": [
              "array([3., 1.])"
            ]
          },
          "metadata": {
            "tags": []
          },
          "execution_count": 12
        }
      ]
    },
    {
      "cell_type": "markdown",
      "metadata": {
        "id": "rbbpuCbfZ99G"
      },
      "source": [
        "**eigen vectors and eigen values of covarience matrix of data**\r\n",
        "\r\n",
        "มีจุดข้อมูล 16 จุด และมี attribute 2 มิติ เราจะสร้างเป็น data matrix ที่มีรูปร่าง (shape) ? = (2,16)"
      ]
    },
    {
      "cell_type": "code",
      "metadata": {
        "colab": {
          "base_uri": "https://localhost:8080/"
        },
        "id": "_bBhChwMaGFH",
        "outputId": "3c808cc9-7d28-4228-81e4-c9d11f5b7ce5"
      },
      "source": [
        "x = np.array([[1,2,-3,4],[4,5,-3,2]])\r\n",
        "print(f'data X =\\n {x}')\r\n",
        "c_x = np.cov(x)\r\n",
        "print(f'Covarience ของ X คือ \\n {c_x}')"
      ],
      "execution_count": null,
      "outputs": [
        {
          "output_type": "stream",
          "text": [
            "data X =\n",
            " [[ 1  2 -3  4]\n",
            " [ 4  5 -3  2]]\n",
            "Covarience ของ X คือ \n",
            " [[ 8.66666667  7.66666667]\n",
            " [ 7.66666667 12.66666667]]\n"
          ],
          "name": "stdout"
        }
      ]
    },
    {
      "cell_type": "code",
      "metadata": {
        "id": "Nf5nAYXEaIk_"
      },
      "source": [
        "w,v = np.linalg.eig(c_x)"
      ],
      "execution_count": null,
      "outputs": []
    },
    {
      "cell_type": "code",
      "metadata": {
        "colab": {
          "base_uri": "https://localhost:8080/"
        },
        "id": "zKk3vnTXaJqg",
        "outputId": "16773705-592e-4d3d-8d6d-0193dc545e3c"
      },
      "source": [
        "w"
      ],
      "execution_count": null,
      "outputs": [
        {
          "output_type": "execute_result",
          "data": {
            "text/plain": [
              "array([ 2.74342378, 18.58990955])"
            ]
          },
          "metadata": {
            "tags": []
          },
          "execution_count": 39
        }
      ]
    },
    {
      "cell_type": "code",
      "metadata": {
        "colab": {
          "base_uri": "https://localhost:8080/"
        },
        "id": "1Fvg-bdRaK22",
        "outputId": "7df24fad-ed46-49d1-acac-23e2b24502fb"
      },
      "source": [
        "print(w[0])\r\n",
        "print(v[:,1])"
      ],
      "execution_count": null,
      "outputs": [
        {
          "output_type": "stream",
          "text": [
            "2.7434237839968585\n",
            "[-0.6113829  -0.79133492]\n"
          ],
          "name": "stdout"
        }
      ]
    },
    {
      "cell_type": "code",
      "metadata": {
        "colab": {
          "base_uri": "https://localhost:8080/",
          "height": 282
        },
        "id": "kjplnVaAaM3t",
        "outputId": "d6d6371f-033b-40ab-904f-45d66b95d228"
      },
      "source": [
        "plt.plot(x[0,:],x[1,:],'or')\r\n",
        "plt.plot([0,3*v[0,1]],[0,3*v[1,1]],'<-b')"
      ],
      "execution_count": null,
      "outputs": [
        {
          "output_type": "execute_result",
          "data": {
            "text/plain": [
              "[<matplotlib.lines.Line2D at 0x7fbc9e1bc828>]"
            ]
          },
          "metadata": {
            "tags": []
          },
          "execution_count": 41
        },
        {
          "output_type": "display_data",
          "data": {
            "image/png": "[encoded data removed]",
            "text/plain": [
              "<Figure size 432x288 with 1 Axes>"
            ]
          },
          "metadata": {
            "tags": [],
            "needs_background": "light"
          }
        }
      ]
    },
    {
      "cell_type": "markdown",
      "metadata": {
        "id": "_0AXsEVGaSU5"
      },
      "source": [
        "##inverse matrix"
      ]
    },
    {
      "cell_type": "markdown",
      "metadata": {
        "id": "jFtGrkxpaVyo"
      },
      "source": [
        "Inverse ของ $A$ เขียน $A^{-1}$ นิยาม $A*A^{-1}= I =A^{-1}*A$"
      ]
    },
    {
      "cell_type": "markdown",
      "metadata": {
        "id": "B1F6ZVvWaYEQ"
      },
      "source": [
        ""
      ]
    },
    {
      "cell_type": "code",
      "metadata": {
        "colab": {
          "base_uri": "https://localhost:8080/"
        },
        "id": "e_-LWxAraYfy",
        "outputId": "3788dbdb-0392-4a95-f3ba-5d2094a23331"
      },
      "source": [
        "c_x\r\n"
      ],
      "execution_count": null,
      "outputs": [
        {
          "output_type": "execute_result",
          "data": {
            "text/plain": [
              "array([[ 8.66666667,  7.66666667],\n",
              "       [ 7.66666667, 12.66666667]])"
            ]
          },
          "metadata": {
            "tags": []
          },
          "execution_count": 42
        }
      ]
    },
    {
      "cell_type": "code",
      "metadata": {
        "colab": {
          "base_uri": "https://localhost:8080/"
        },
        "id": "XEJjBuf_aaC-",
        "outputId": "73c26001-34f1-4f54-ac79-b3c6c7804825"
      },
      "source": [
        "inv_c_x = np.linalg.inv(c_x)\r\n",
        "inv_c_x"
      ],
      "execution_count": null,
      "outputs": [
        {
          "output_type": "execute_result",
          "data": {
            "text/plain": [
              "array([[ 0.24836601, -0.1503268 ],\n",
              "       [-0.1503268 ,  0.16993464]])"
            ]
          },
          "metadata": {
            "tags": []
          },
          "execution_count": 43
        }
      ]
    },
    {
      "cell_type": "code",
      "metadata": {
        "colab": {
          "base_uri": "https://localhost:8080/"
        },
        "id": "8aB0a9D6abcE",
        "outputId": "6b3ebf71-c27f-4e7c-e3ae-6e351f28c1e6"
      },
      "source": [
        "np.dot(c_x,inv_c_x)  ## สลับกันคูณได้"
      ],
      "execution_count": null,
      "outputs": [
        {
          "output_type": "execute_result",
          "data": {
            "text/plain": [
              "array([[1.00000000e+00, 2.23193529e-16],\n",
              "       [1.26018779e-16, 1.00000000e+00]])"
            ]
          },
          "metadata": {
            "tags": []
          },
          "execution_count": 44
        }
      ]
    },
    {
      "cell_type": "markdown",
      "metadata": {
        "id": "Zwx_JtQhacuz"
      },
      "source": [
        "#import DATA เข้าไป"
      ]
    },
    {
      "cell_type": "code",
      "metadata": {
        "id": "29xDunxlahi2"
      },
      "source": [
        "import pandas as pd"
      ],
      "execution_count": null,
      "outputs": []
    },
    {
      "cell_type": "code",
      "metadata": {
        "id": "1qqFKK9eb8sa",
        "colab": {
          "base_uri": "https://localhost:8080/",
          "height": 378
        },
        "outputId": "27a218f3-46b5-47d9-f421-ce461d1d3bfe"
      },
      "source": [
        "pollution_data = pd.read_csv('/content/DATA.txt',sep='\\t+')   ## |\\t+ คือใช้ tab แบ่งข้อมูล|   ใช้ \\s+  คือ space แบ่งข้อมูล\r\n",
        "pollution_data"
      ],
      "execution_count": null,
      "outputs": [
        {
          "output_type": "stream",
          "text": [
            "/usr/local/lib/python3.6/dist-packages/ipykernel_launcher.py:1: ParserWarning: Falling back to the 'python' engine because the 'c' engine does not support regex separators (separators > 1 char and different from '\\s+' are interpreted as regex); you can avoid this warning by specifying engine='python'.\n",
            "  \"\"\"Entry point for launching an IPython kernel.\n"
          ],
          "name": "stderr"
        },
        {
          "output_type": "error",
          "ename": "FileNotFoundError",
          "evalue": "ignored",
          "traceback": [
            "\u001b[0;31m---------------------------------------------------------------------------\u001b[0m",
            "\u001b[0;31mFileNotFoundError\u001b[0m                         Traceback (most recent call last)",
            "\u001b[0;32m<ipython-input-46-63618da0a636>\u001b[0m in \u001b[0;36m<module>\u001b[0;34m()\u001b[0m\n\u001b[0;32m----> 1\u001b[0;31m \u001b[0mpollution_data\u001b[0m \u001b[0;34m=\u001b[0m \u001b[0mpd\u001b[0m\u001b[0;34m.\u001b[0m\u001b[0mread_csv\u001b[0m\u001b[0;34m(\u001b[0m\u001b[0;34m'/content/DATA.txt'\u001b[0m\u001b[0;34m,\u001b[0m\u001b[0msep\u001b[0m\u001b[0;34m=\u001b[0m\u001b[0;34m'\\t+'\u001b[0m\u001b[0;34m)\u001b[0m   \u001b[0;31m## |\\t+ คือใช้ tab แบ่งข้อมูล|   ใช้ \\s+  คือ space แบ่งข้อมูล\u001b[0m\u001b[0;34m\u001b[0m\u001b[0;34m\u001b[0m\u001b[0m\n\u001b[0m\u001b[1;32m      2\u001b[0m \u001b[0mpollution_data\u001b[0m\u001b[0;34m\u001b[0m\u001b[0;34m\u001b[0m\u001b[0m\n",
            "\u001b[0;32m/usr/local/lib/python3.6/dist-packages/pandas/io/parsers.py\u001b[0m in \u001b[0;36mread_csv\u001b[0;34m(filepath_or_buffer, sep, delimiter, header, names, index_col, usecols, squeeze, prefix, mangle_dupe_cols, dtype, engine, converters, true_values, false_values, skipinitialspace, skiprows, skipfooter, nrows, na_values, keep_default_na, na_filter, verbose, skip_blank_lines, parse_dates, infer_datetime_format, keep_date_col, date_parser, dayfirst, cache_dates, iterator, chunksize, compression, thousands, decimal, lineterminator, quotechar, quoting, doublequote, escapechar, comment, encoding, dialect, error_bad_lines, warn_bad_lines, delim_whitespace, low_memory, memory_map, float_precision)\u001b[0m\n\u001b[1;32m    686\u001b[0m     )\n\u001b[1;32m    687\u001b[0m \u001b[0;34m\u001b[0m\u001b[0m\n\u001b[0;32m--> 688\u001b[0;31m     \u001b[0;32mreturn\u001b[0m \u001b[0m_read\u001b[0m\u001b[0;34m(\u001b[0m\u001b[0mfilepath_or_buffer\u001b[0m\u001b[0;34m,\u001b[0m \u001b[0mkwds\u001b[0m\u001b[0;34m)\u001b[0m\u001b[0;34m\u001b[0m\u001b[0;34m\u001b[0m\u001b[0m\n\u001b[0m\u001b[1;32m    689\u001b[0m \u001b[0;34m\u001b[0m\u001b[0m\n\u001b[1;32m    690\u001b[0m \u001b[0;34m\u001b[0m\u001b[0m\n",
            "\u001b[0;32m/usr/local/lib/python3.6/dist-packages/pandas/io/parsers.py\u001b[0m in \u001b[0;36m_read\u001b[0;34m(filepath_or_buffer, kwds)\u001b[0m\n\u001b[1;32m    452\u001b[0m \u001b[0;34m\u001b[0m\u001b[0m\n\u001b[1;32m    453\u001b[0m     \u001b[0;31m# Create the parser.\u001b[0m\u001b[0;34m\u001b[0m\u001b[0;34m\u001b[0m\u001b[0;34m\u001b[0m\u001b[0m\n\u001b[0;32m--> 454\u001b[0;31m     \u001b[0mparser\u001b[0m \u001b[0;34m=\u001b[0m \u001b[0mTextFileReader\u001b[0m\u001b[0;34m(\u001b[0m\u001b[0mfp_or_buf\u001b[0m\u001b[0;34m,\u001b[0m \u001b[0;34m**\u001b[0m\u001b[0mkwds\u001b[0m\u001b[0;34m)\u001b[0m\u001b[0;34m\u001b[0m\u001b[0;34m\u001b[0m\u001b[0m\n\u001b[0m\u001b[1;32m    455\u001b[0m \u001b[0;34m\u001b[0m\u001b[0m\n\u001b[1;32m    456\u001b[0m     \u001b[0;32mif\u001b[0m \u001b[0mchunksize\u001b[0m \u001b[0;32mor\u001b[0m \u001b[0miterator\u001b[0m\u001b[0;34m:\u001b[0m\u001b[0;34m\u001b[0m\u001b[0;34m\u001b[0m\u001b[0m\n",
            "\u001b[0;32m/usr/local/lib/python3.6/dist-packages/pandas/io/parsers.py\u001b[0m in \u001b[0;36m__init__\u001b[0;34m(self, f, engine, **kwds)\u001b[0m\n\u001b[1;32m    946\u001b[0m             \u001b[0mself\u001b[0m\u001b[0;34m.\u001b[0m\u001b[0moptions\u001b[0m\u001b[0;34m[\u001b[0m\u001b[0;34m\"has_index_names\"\u001b[0m\u001b[0;34m]\u001b[0m \u001b[0;34m=\u001b[0m \u001b[0mkwds\u001b[0m\u001b[0;34m[\u001b[0m\u001b[0;34m\"has_index_names\"\u001b[0m\u001b[0;34m]\u001b[0m\u001b[0;34m\u001b[0m\u001b[0;34m\u001b[0m\u001b[0m\n\u001b[1;32m    947\u001b[0m \u001b[0;34m\u001b[0m\u001b[0m\n\u001b[0;32m--> 948\u001b[0;31m         \u001b[0mself\u001b[0m\u001b[0;34m.\u001b[0m\u001b[0m_make_engine\u001b[0m\u001b[0;34m(\u001b[0m\u001b[0mself\u001b[0m\u001b[0;34m.\u001b[0m\u001b[0mengine\u001b[0m\u001b[0;34m)\u001b[0m\u001b[0;34m\u001b[0m\u001b[0;34m\u001b[0m\u001b[0m\n\u001b[0m\u001b[1;32m    949\u001b[0m \u001b[0;34m\u001b[0m\u001b[0m\n\u001b[1;32m    950\u001b[0m     \u001b[0;32mdef\u001b[0m \u001b[0mclose\u001b[0m\u001b[0;34m(\u001b[0m\u001b[0mself\u001b[0m\u001b[0;34m)\u001b[0m\u001b[0;34m:\u001b[0m\u001b[0;34m\u001b[0m\u001b[0;34m\u001b[0m\u001b[0m\n",
            "\u001b[0;32m/usr/local/lib/python3.6/dist-packages/pandas/io/parsers.py\u001b[0m in \u001b[0;36m_make_engine\u001b[0;34m(self, engine)\u001b[0m\n\u001b[1;32m   1189\u001b[0m                     \u001b[0;34m'are \"c\", \"python\", or \"python-fwf\")'\u001b[0m\u001b[0;34m\u001b[0m\u001b[0;34m\u001b[0m\u001b[0m\n\u001b[1;32m   1190\u001b[0m                 )\n\u001b[0;32m-> 1191\u001b[0;31m             \u001b[0mself\u001b[0m\u001b[0;34m.\u001b[0m\u001b[0m_engine\u001b[0m \u001b[0;34m=\u001b[0m \u001b[0mklass\u001b[0m\u001b[0;34m(\u001b[0m\u001b[0mself\u001b[0m\u001b[0;34m.\u001b[0m\u001b[0mf\u001b[0m\u001b[0;34m,\u001b[0m \u001b[0;34m**\u001b[0m\u001b[0mself\u001b[0m\u001b[0;34m.\u001b[0m\u001b[0moptions\u001b[0m\u001b[0;34m)\u001b[0m\u001b[0;34m\u001b[0m\u001b[0;34m\u001b[0m\u001b[0m\n\u001b[0m\u001b[1;32m   1192\u001b[0m \u001b[0;34m\u001b[0m\u001b[0m\n\u001b[1;32m   1193\u001b[0m     \u001b[0;32mdef\u001b[0m \u001b[0m_failover_to_python\u001b[0m\u001b[0;34m(\u001b[0m\u001b[0mself\u001b[0m\u001b[0;34m)\u001b[0m\u001b[0;34m:\u001b[0m\u001b[0;34m\u001b[0m\u001b[0;34m\u001b[0m\u001b[0m\n",
            "\u001b[0;32m/usr/local/lib/python3.6/dist-packages/pandas/io/parsers.py\u001b[0m in \u001b[0;36m__init__\u001b[0;34m(self, f, **kwds)\u001b[0m\n\u001b[1;32m   2387\u001b[0m             \u001b[0mencoding\u001b[0m\u001b[0;34m=\u001b[0m\u001b[0mself\u001b[0m\u001b[0;34m.\u001b[0m\u001b[0mencoding\u001b[0m\u001b[0;34m,\u001b[0m\u001b[0;34m\u001b[0m\u001b[0;34m\u001b[0m\u001b[0m\n\u001b[1;32m   2388\u001b[0m             \u001b[0mcompression\u001b[0m\u001b[0;34m=\u001b[0m\u001b[0mself\u001b[0m\u001b[0;34m.\u001b[0m\u001b[0mcompression\u001b[0m\u001b[0;34m,\u001b[0m\u001b[0;34m\u001b[0m\u001b[0;34m\u001b[0m\u001b[0m\n\u001b[0;32m-> 2389\u001b[0;31m             \u001b[0mmemory_map\u001b[0m\u001b[0;34m=\u001b[0m\u001b[0mself\u001b[0m\u001b[0;34m.\u001b[0m\u001b[0mmemory_map\u001b[0m\u001b[0;34m,\u001b[0m\u001b[0;34m\u001b[0m\u001b[0;34m\u001b[0m\u001b[0m\n\u001b[0m\u001b[1;32m   2390\u001b[0m         )\n\u001b[1;32m   2391\u001b[0m         \u001b[0mself\u001b[0m\u001b[0;34m.\u001b[0m\u001b[0mhandles\u001b[0m\u001b[0;34m.\u001b[0m\u001b[0mextend\u001b[0m\u001b[0;34m(\u001b[0m\u001b[0mhandles\u001b[0m\u001b[0;34m)\u001b[0m\u001b[0;34m\u001b[0m\u001b[0;34m\u001b[0m\u001b[0m\n",
            "\u001b[0;32m/usr/local/lib/python3.6/dist-packages/pandas/io/common.py\u001b[0m in \u001b[0;36mget_handle\u001b[0;34m(path_or_buf, mode, encoding, compression, memory_map, is_text, errors)\u001b[0m\n\u001b[1;32m    494\u001b[0m         \u001b[0;32melif\u001b[0m \u001b[0mis_text\u001b[0m\u001b[0;34m:\u001b[0m\u001b[0;34m\u001b[0m\u001b[0;34m\u001b[0m\u001b[0m\n\u001b[1;32m    495\u001b[0m             \u001b[0;31m# No explicit encoding\u001b[0m\u001b[0;34m\u001b[0m\u001b[0;34m\u001b[0m\u001b[0;34m\u001b[0m\u001b[0m\n\u001b[0;32m--> 496\u001b[0;31m             \u001b[0mf\u001b[0m \u001b[0;34m=\u001b[0m \u001b[0mopen\u001b[0m\u001b[0;34m(\u001b[0m\u001b[0mpath_or_buf\u001b[0m\u001b[0;34m,\u001b[0m \u001b[0mmode\u001b[0m\u001b[0;34m,\u001b[0m \u001b[0merrors\u001b[0m\u001b[0;34m=\u001b[0m\u001b[0;34m\"replace\"\u001b[0m\u001b[0;34m,\u001b[0m \u001b[0mnewline\u001b[0m\u001b[0;34m=\u001b[0m\u001b[0;34m\"\"\u001b[0m\u001b[0;34m)\u001b[0m\u001b[0;34m\u001b[0m\u001b[0;34m\u001b[0m\u001b[0m\n\u001b[0m\u001b[1;32m    497\u001b[0m         \u001b[0;32melse\u001b[0m\u001b[0;34m:\u001b[0m\u001b[0;34m\u001b[0m\u001b[0;34m\u001b[0m\u001b[0m\n\u001b[1;32m    498\u001b[0m             \u001b[0;31m# Binary mode\u001b[0m\u001b[0;34m\u001b[0m\u001b[0;34m\u001b[0m\u001b[0;34m\u001b[0m\u001b[0m\n",
            "\u001b[0;31mFileNotFoundError\u001b[0m: [Errno 2] No such file or directory: '/content/DATA.txt'"
          ]
        }
      ]
    },
    {
      "cell_type": "code",
      "metadata": {
        "id": "SOWCken9cKo_"
      },
      "source": [
        ""
      ],
      "execution_count": null,
      "outputs": []
    }
  ]
}