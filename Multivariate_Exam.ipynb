{
  "nbformat": 4,
  "nbformat_minor": 0,
  "metadata": {
    "colab": {
      "name": "Multivariate Exam.ipynb",
      "provenance": [],
      "authorship_tag": "ABX9TyOzHpUDSYPX0Dte1Xql5C6k",
      "include_colab_link": true
    },
    "kernelspec": {
      "name": "python3",
      "display_name": "Python 3"
    },
    "language_info": {
      "name": "python"
    }
  },
  "cells": [
    {
      "cell_type": "markdown",
      "metadata": {
        "id": "view-in-github",
        "colab_type": "text"
      },
      "source": [
        "<a href=\"https://colab.research.google.com/github/team0243/multivariate/blob/main/Multivariate_Exam.ipynb\" target=\"_parent\"><img src=\"https://colab.research.google.com/assets/colab-badge.svg\" alt=\"Open In Colab\"/></a>"
      ]
    },
    {
      "cell_type": "markdown",
      "metadata": {
        "id": "3RBD3iQSI0Ly"
      },
      "source": [
        "ให้นักศึกษาทำข้อสอบใน Colab Notebook นี้โดยกรอกข้อมูลของตัวเองใน cell ที่ 2 แล้วรัน cell ที่ 1 - 5 และเริ่มทำข้อสอบใน cell ที่ 6 เป็นต้นไป\n",
        "\n",
        "โดยโจทย์คือ\n",
        "1. ข้อมูลโจทย์ อยู่ใน ตัวแปร ```Data```\n",
        "2. ทำ clustering แล้วทำ visualize ข้อมูลแบบ 2 มิติ\n",
        "3. ลด Dimension ของข้อมูลเหลือ 2 มิติ แล้วทำ clustering แล้ว visualize ข้อมูลแบบ 2 มิติ\n",
        "4. เปรียบเทียบความแตกต่างของผลข้อ 2. กับ ข้อ 3.\n",
        "5. เขียน comments อธิบายทุกขั้นตอน\n",
        "6. อัด video อธิบาย code ทุกๆขั้นตอนรวมถึงผลแล้วอัพลง youtube ในรูปแบบ unlist \n",
        "7. commit โดยใช้ชื่อ commit เป็น link youtube ที่อธิบาย code ในข้อ 6.\n",
        "\n",
        "กำหนดส่งวันที่ 2 พฤษภาคม 2564 (โดยให้มากรอกวันที่ commit ครั้งสุดท้ายใน sheet: https://docs.google.com/spreadsheets/d/1_qJwLDJVtOW1HxBcf_FHVc6UT4J_SOonuR6o3EEnVzw/edit?usp=sharing ช่อง Final)"
      ]
    },
    {
      "cell_type": "code",
      "metadata": {
        "id": "W9C1cFcMI2bx"
      },
      "source": [
        "from sklearn.datasets import make_blobs\n",
        "import random,math\n",
        "import numpy as np\n",
        "import pandas"
      ],
      "execution_count": 19,
      "outputs": []
    },
    {
      "cell_type": "code",
      "metadata": {
        "id": "imgBA0fSI3o5"
      },
      "source": [
        "Name = 'เกียรติศักดิ์ แสนจันทร์'\n",
        "ID = '6232021041-7'"
      ],
      "execution_count": 20,
      "outputs": []
    },
    {
      "cell_type": "code",
      "metadata": {
        "id": "faCSsBSEJAu9"
      },
      "source": [
        "def DataGenerator(name,id):\n",
        "    random.seed(int(id[3:6]))\n",
        "    numfeat = random.randint(20,30)\n",
        "    ct = random.randint(len(name)-6,len(name))\n",
        "    \n",
        "    X, y = make_blobs(n_samples=10000, centers=ct, n_features=numfeat , random_state=int(id[3:6]))\n",
        "\n",
        "    print(f'{id[3:6]}:{numfeat}:{ct}')\n",
        "    X_t = (X[:,1]*2)+int(id[3])\n",
        "    X_t2 = (X[:,-1]*5)+int(id[4])\n",
        "\n",
        "    DT = np.append(X,X_t.reshape([10000,1]),axis=1)\n",
        "    DT = np.append(DT,X_t2.reshape([10000,1]),axis=1)\n",
        "    \n",
        "    return pandas.DataFrame(DT)"
      ],
      "execution_count": 21,
      "outputs": []
    },
    {
      "cell_type": "code",
      "metadata": {
        "colab": {
          "base_uri": "https://localhost:8080/"
        },
        "id": "jR1CFeYBJD9L",
        "outputId": "909dd43e-4e84-4046-f719-d2696e9e71cc"
      },
      "source": [
        "Data = DataGenerator(Name,ID)"
      ],
      "execution_count": 22,
      "outputs": [
        {
          "output_type": "stream",
          "text": [
            "202:26:22\n"
          ],
          "name": "stdout"
        }
      ]
    },
    {
      "cell_type": "code",
      "metadata": {
        "colab": {
          "base_uri": "https://localhost:8080/",
          "height": 439
        },
        "id": "pR3BvYjkJJNN",
        "outputId": "1ab4fe3d-1537-40c3-cb6c-f21520fc18b4"
      },
      "source": [
        "Data"
      ],
      "execution_count": 23,
      "outputs": [
        {
          "output_type": "execute_result",
          "data": {
            "text/html": [
              "<div>\n",
              "<style scoped>\n",
              "    .dataframe tbody tr th:only-of-type {\n",
              "        vertical-align: middle;\n",
              "    }\n",
              "\n",
              "    .dataframe tbody tr th {\n",
              "        vertical-align: top;\n",
              "    }\n",
              "\n",
              "    .dataframe thead th {\n",
              "        text-align: right;\n",
              "    }\n",
              "</style>\n",
              "<table border=\"1\" class=\"dataframe\">\n",
              "  <thead>\n",
              "    <tr style=\"text-align: right;\">\n",
              "      <th></th>\n",
              "      <th>0</th>\n",
              "      <th>1</th>\n",
              "      <th>2</th>\n",
              "      <th>3</th>\n",
              "      <th>4</th>\n",
              "      <th>5</th>\n",
              "      <th>6</th>\n",
              "      <th>7</th>\n",
              "      <th>8</th>\n",
              "      <th>9</th>\n",
              "      <th>10</th>\n",
              "      <th>11</th>\n",
              "      <th>12</th>\n",
              "      <th>13</th>\n",
              "      <th>14</th>\n",
              "      <th>15</th>\n",
              "      <th>16</th>\n",
              "      <th>17</th>\n",
              "      <th>18</th>\n",
              "      <th>19</th>\n",
              "      <th>20</th>\n",
              "      <th>21</th>\n",
              "      <th>22</th>\n",
              "      <th>23</th>\n",
              "      <th>24</th>\n",
              "      <th>25</th>\n",
              "      <th>26</th>\n",
              "      <th>27</th>\n",
              "    </tr>\n",
              "  </thead>\n",
              "  <tbody>\n",
              "    <tr>\n",
              "      <th>0</th>\n",
              "      <td>8.268476</td>\n",
              "      <td>-2.596313</td>\n",
              "      <td>7.992211</td>\n",
              "      <td>4.880832</td>\n",
              "      <td>1.732595</td>\n",
              "      <td>-6.293575</td>\n",
              "      <td>-3.657833</td>\n",
              "      <td>-9.548312</td>\n",
              "      <td>-9.605208</td>\n",
              "      <td>-4.574406</td>\n",
              "      <td>-7.675465</td>\n",
              "      <td>-1.070429</td>\n",
              "      <td>-4.188731</td>\n",
              "      <td>-8.595726</td>\n",
              "      <td>-0.948590</td>\n",
              "      <td>2.898074</td>\n",
              "      <td>-2.185454</td>\n",
              "      <td>-6.246731</td>\n",
              "      <td>6.154771</td>\n",
              "      <td>2.406650</td>\n",
              "      <td>8.057719</td>\n",
              "      <td>5.996282</td>\n",
              "      <td>8.496187</td>\n",
              "      <td>2.129260</td>\n",
              "      <td>-5.407412</td>\n",
              "      <td>10.496486</td>\n",
              "      <td>-3.192626</td>\n",
              "      <td>52.482432</td>\n",
              "    </tr>\n",
              "    <tr>\n",
              "      <th>1</th>\n",
              "      <td>-5.541735</td>\n",
              "      <td>-9.243634</td>\n",
              "      <td>3.367534</td>\n",
              "      <td>0.554720</td>\n",
              "      <td>8.833335</td>\n",
              "      <td>-1.149066</td>\n",
              "      <td>-7.842363</td>\n",
              "      <td>6.305232</td>\n",
              "      <td>7.613122</td>\n",
              "      <td>-4.290894</td>\n",
              "      <td>1.554569</td>\n",
              "      <td>5.624840</td>\n",
              "      <td>-0.684340</td>\n",
              "      <td>4.513337</td>\n",
              "      <td>-3.596036</td>\n",
              "      <td>1.536031</td>\n",
              "      <td>-5.937365</td>\n",
              "      <td>7.794545</td>\n",
              "      <td>3.413970</td>\n",
              "      <td>1.622969</td>\n",
              "      <td>6.993684</td>\n",
              "      <td>-7.529766</td>\n",
              "      <td>2.923467</td>\n",
              "      <td>5.619824</td>\n",
              "      <td>-4.308026</td>\n",
              "      <td>7.368477</td>\n",
              "      <td>-16.487269</td>\n",
              "      <td>36.842383</td>\n",
              "    </tr>\n",
              "    <tr>\n",
              "      <th>2</th>\n",
              "      <td>-3.775369</td>\n",
              "      <td>-4.298036</td>\n",
              "      <td>10.277296</td>\n",
              "      <td>10.995981</td>\n",
              "      <td>9.745449</td>\n",
              "      <td>1.538862</td>\n",
              "      <td>0.646659</td>\n",
              "      <td>-7.450337</td>\n",
              "      <td>7.173228</td>\n",
              "      <td>-5.037215</td>\n",
              "      <td>11.591833</td>\n",
              "      <td>1.228801</td>\n",
              "      <td>-0.842008</td>\n",
              "      <td>-9.294036</td>\n",
              "      <td>-3.051721</td>\n",
              "      <td>6.218879</td>\n",
              "      <td>-1.817624</td>\n",
              "      <td>4.962123</td>\n",
              "      <td>-3.541439</td>\n",
              "      <td>7.416051</td>\n",
              "      <td>0.481664</td>\n",
              "      <td>-7.674120</td>\n",
              "      <td>-2.427914</td>\n",
              "      <td>5.772181</td>\n",
              "      <td>-0.759383</td>\n",
              "      <td>-3.846975</td>\n",
              "      <td>-6.596072</td>\n",
              "      <td>-19.234877</td>\n",
              "    </tr>\n",
              "    <tr>\n",
              "      <th>3</th>\n",
              "      <td>-9.516386</td>\n",
              "      <td>-1.593986</td>\n",
              "      <td>0.167019</td>\n",
              "      <td>-5.246101</td>\n",
              "      <td>-10.128708</td>\n",
              "      <td>3.757150</td>\n",
              "      <td>-1.396607</td>\n",
              "      <td>3.908383</td>\n",
              "      <td>6.786490</td>\n",
              "      <td>-10.190468</td>\n",
              "      <td>-3.426993</td>\n",
              "      <td>0.790349</td>\n",
              "      <td>-8.884679</td>\n",
              "      <td>-6.302985</td>\n",
              "      <td>-5.635541</td>\n",
              "      <td>4.033729</td>\n",
              "      <td>-5.233910</td>\n",
              "      <td>4.679210</td>\n",
              "      <td>-1.588548</td>\n",
              "      <td>7.092357</td>\n",
              "      <td>3.156782</td>\n",
              "      <td>3.145927</td>\n",
              "      <td>-7.879204</td>\n",
              "      <td>3.741720</td>\n",
              "      <td>9.562651</td>\n",
              "      <td>10.601600</td>\n",
              "      <td>-1.187972</td>\n",
              "      <td>53.008002</td>\n",
              "    </tr>\n",
              "    <tr>\n",
              "      <th>4</th>\n",
              "      <td>8.517287</td>\n",
              "      <td>-2.633188</td>\n",
              "      <td>-6.002154</td>\n",
              "      <td>-5.284413</td>\n",
              "      <td>-5.206580</td>\n",
              "      <td>1.111543</td>\n",
              "      <td>8.001509</td>\n",
              "      <td>-8.263739</td>\n",
              "      <td>-9.518081</td>\n",
              "      <td>10.469121</td>\n",
              "      <td>-5.468205</td>\n",
              "      <td>8.198344</td>\n",
              "      <td>9.083146</td>\n",
              "      <td>-10.636671</td>\n",
              "      <td>-9.414222</td>\n",
              "      <td>-4.118193</td>\n",
              "      <td>2.950821</td>\n",
              "      <td>-3.637806</td>\n",
              "      <td>-1.525345</td>\n",
              "      <td>7.384462</td>\n",
              "      <td>1.391205</td>\n",
              "      <td>-6.005914</td>\n",
              "      <td>-2.668039</td>\n",
              "      <td>-1.916942</td>\n",
              "      <td>8.323421</td>\n",
              "      <td>7.814523</td>\n",
              "      <td>-3.266377</td>\n",
              "      <td>39.072614</td>\n",
              "    </tr>\n",
              "    <tr>\n",
              "      <th>...</th>\n",
              "      <td>...</td>\n",
              "      <td>...</td>\n",
              "      <td>...</td>\n",
              "      <td>...</td>\n",
              "      <td>...</td>\n",
              "      <td>...</td>\n",
              "      <td>...</td>\n",
              "      <td>...</td>\n",
              "      <td>...</td>\n",
              "      <td>...</td>\n",
              "      <td>...</td>\n",
              "      <td>...</td>\n",
              "      <td>...</td>\n",
              "      <td>...</td>\n",
              "      <td>...</td>\n",
              "      <td>...</td>\n",
              "      <td>...</td>\n",
              "      <td>...</td>\n",
              "      <td>...</td>\n",
              "      <td>...</td>\n",
              "      <td>...</td>\n",
              "      <td>...</td>\n",
              "      <td>...</td>\n",
              "      <td>...</td>\n",
              "      <td>...</td>\n",
              "      <td>...</td>\n",
              "      <td>...</td>\n",
              "      <td>...</td>\n",
              "    </tr>\n",
              "    <tr>\n",
              "      <th>9995</th>\n",
              "      <td>-8.438050</td>\n",
              "      <td>-11.532893</td>\n",
              "      <td>3.500144</td>\n",
              "      <td>0.902122</td>\n",
              "      <td>6.770527</td>\n",
              "      <td>0.264964</td>\n",
              "      <td>-7.941869</td>\n",
              "      <td>5.899492</td>\n",
              "      <td>8.797812</td>\n",
              "      <td>-3.200372</td>\n",
              "      <td>1.744145</td>\n",
              "      <td>4.942503</td>\n",
              "      <td>-0.908047</td>\n",
              "      <td>4.134697</td>\n",
              "      <td>-4.691043</td>\n",
              "      <td>2.237342</td>\n",
              "      <td>-7.053989</td>\n",
              "      <td>9.374583</td>\n",
              "      <td>2.790000</td>\n",
              "      <td>2.574864</td>\n",
              "      <td>7.757036</td>\n",
              "      <td>-8.193309</td>\n",
              "      <td>0.630268</td>\n",
              "      <td>5.369558</td>\n",
              "      <td>-3.362908</td>\n",
              "      <td>6.976571</td>\n",
              "      <td>-21.065787</td>\n",
              "      <td>34.882857</td>\n",
              "    </tr>\n",
              "    <tr>\n",
              "      <th>9996</th>\n",
              "      <td>1.440452</td>\n",
              "      <td>9.868928</td>\n",
              "      <td>-0.191936</td>\n",
              "      <td>6.426725</td>\n",
              "      <td>-9.886727</td>\n",
              "      <td>-9.122644</td>\n",
              "      <td>-8.368794</td>\n",
              "      <td>0.815915</td>\n",
              "      <td>-7.175130</td>\n",
              "      <td>1.679599</td>\n",
              "      <td>-3.697115</td>\n",
              "      <td>1.094966</td>\n",
              "      <td>9.490640</td>\n",
              "      <td>-0.360154</td>\n",
              "      <td>3.689532</td>\n",
              "      <td>-8.798591</td>\n",
              "      <td>8.178292</td>\n",
              "      <td>9.908215</td>\n",
              "      <td>-5.931274</td>\n",
              "      <td>-7.596021</td>\n",
              "      <td>1.804961</td>\n",
              "      <td>7.577610</td>\n",
              "      <td>-4.782650</td>\n",
              "      <td>-7.291673</td>\n",
              "      <td>-5.860812</td>\n",
              "      <td>4.223177</td>\n",
              "      <td>21.737856</td>\n",
              "      <td>21.115885</td>\n",
              "    </tr>\n",
              "    <tr>\n",
              "      <th>9997</th>\n",
              "      <td>9.588242</td>\n",
              "      <td>-6.021615</td>\n",
              "      <td>-6.020671</td>\n",
              "      <td>-4.915609</td>\n",
              "      <td>-5.086166</td>\n",
              "      <td>5.942247</td>\n",
              "      <td>5.485552</td>\n",
              "      <td>-9.911245</td>\n",
              "      <td>-8.228258</td>\n",
              "      <td>11.186496</td>\n",
              "      <td>-6.318238</td>\n",
              "      <td>7.261121</td>\n",
              "      <td>7.029409</td>\n",
              "      <td>-11.930434</td>\n",
              "      <td>-8.236129</td>\n",
              "      <td>-2.207784</td>\n",
              "      <td>0.740175</td>\n",
              "      <td>-5.861985</td>\n",
              "      <td>-3.145806</td>\n",
              "      <td>5.967559</td>\n",
              "      <td>2.261422</td>\n",
              "      <td>-4.497724</td>\n",
              "      <td>-2.186239</td>\n",
              "      <td>-4.027844</td>\n",
              "      <td>8.320766</td>\n",
              "      <td>8.069654</td>\n",
              "      <td>-10.043230</td>\n",
              "      <td>40.348269</td>\n",
              "    </tr>\n",
              "    <tr>\n",
              "      <th>9998</th>\n",
              "      <td>9.544732</td>\n",
              "      <td>-5.310680</td>\n",
              "      <td>-8.027318</td>\n",
              "      <td>-4.175691</td>\n",
              "      <td>-7.452056</td>\n",
              "      <td>2.083278</td>\n",
              "      <td>8.884436</td>\n",
              "      <td>-8.772328</td>\n",
              "      <td>-8.754921</td>\n",
              "      <td>11.380257</td>\n",
              "      <td>-7.093392</td>\n",
              "      <td>5.924515</td>\n",
              "      <td>8.330843</td>\n",
              "      <td>-10.249437</td>\n",
              "      <td>-8.879004</td>\n",
              "      <td>-2.572593</td>\n",
              "      <td>-0.449094</td>\n",
              "      <td>-5.779472</td>\n",
              "      <td>-2.457972</td>\n",
              "      <td>7.645739</td>\n",
              "      <td>0.273757</td>\n",
              "      <td>-5.716643</td>\n",
              "      <td>-0.488143</td>\n",
              "      <td>-3.832760</td>\n",
              "      <td>7.473491</td>\n",
              "      <td>8.730952</td>\n",
              "      <td>-8.621360</td>\n",
              "      <td>43.654760</td>\n",
              "    </tr>\n",
              "    <tr>\n",
              "      <th>9999</th>\n",
              "      <td>4.481939</td>\n",
              "      <td>8.594727</td>\n",
              "      <td>0.986249</td>\n",
              "      <td>6.278893</td>\n",
              "      <td>-8.860492</td>\n",
              "      <td>-9.703437</td>\n",
              "      <td>-9.461121</td>\n",
              "      <td>0.222791</td>\n",
              "      <td>-3.789649</td>\n",
              "      <td>2.449978</td>\n",
              "      <td>-1.492809</td>\n",
              "      <td>0.691245</td>\n",
              "      <td>7.731503</td>\n",
              "      <td>-1.004640</td>\n",
              "      <td>2.479561</td>\n",
              "      <td>-8.142981</td>\n",
              "      <td>7.872459</td>\n",
              "      <td>8.013822</td>\n",
              "      <td>-5.377282</td>\n",
              "      <td>-4.827244</td>\n",
              "      <td>2.220720</td>\n",
              "      <td>6.696881</td>\n",
              "      <td>-6.297984</td>\n",
              "      <td>-2.031162</td>\n",
              "      <td>-7.837512</td>\n",
              "      <td>3.614046</td>\n",
              "      <td>19.189454</td>\n",
              "      <td>18.070228</td>\n",
              "    </tr>\n",
              "  </tbody>\n",
              "</table>\n",
              "<p>10000 rows × 28 columns</p>\n",
              "</div>"
            ],
            "text/plain": [
              "            0          1          2   ...         25         26         27\n",
              "0     8.268476  -2.596313   7.992211  ...  10.496486  -3.192626  52.482432\n",
              "1    -5.541735  -9.243634   3.367534  ...   7.368477 -16.487269  36.842383\n",
              "2    -3.775369  -4.298036  10.277296  ...  -3.846975  -6.596072 -19.234877\n",
              "3    -9.516386  -1.593986   0.167019  ...  10.601600  -1.187972  53.008002\n",
              "4     8.517287  -2.633188  -6.002154  ...   7.814523  -3.266377  39.072614\n",
              "...        ...        ...        ...  ...        ...        ...        ...\n",
              "9995 -8.438050 -11.532893   3.500144  ...   6.976571 -21.065787  34.882857\n",
              "9996  1.440452   9.868928  -0.191936  ...   4.223177  21.737856  21.115885\n",
              "9997  9.588242  -6.021615  -6.020671  ...   8.069654 -10.043230  40.348269\n",
              "9998  9.544732  -5.310680  -8.027318  ...   8.730952  -8.621360  43.654760\n",
              "9999  4.481939   8.594727   0.986249  ...   3.614046  19.189454  18.070228\n",
              "\n",
              "[10000 rows x 28 columns]"
            ]
          },
          "metadata": {
            "tags": []
          },
          "execution_count": 23
        }
      ]
    },
    {
      "cell_type": "markdown",
      "metadata": {
        "id": "8ATX47q044Uk"
      },
      "source": [
        "# 2. ทำ clustering แล้วทำ visualize ข้อมูลแบบ 2 มิติ#"
      ]
    },
    {
      "cell_type": "markdown",
      "metadata": {
        "id": "LnaM-jTV7gAO"
      },
      "source": [
        "**Clustering หรือการจัดกลุ่มของข้อมูล จุดมุ่งหมายของการทำ Cluster Analysis คือ การจัดกลุ่มข้อมูลโดยดูจาก attributes ของข้อมูล**"
      ]
    },
    {
      "cell_type": "markdown",
      "metadata": {
        "id": "uCFnEttD4ugy"
      },
      "source": [
        "**ขั้นตอนวิธีทำมีดังนี้**"
      ]
    },
    {
      "cell_type": "markdown",
      "metadata": {
        "id": "xg2VOgs88z69"
      },
      "source": [
        "#เช็คดูข้อมูลในตารางและหาcorrelation"
      ]
    },
    {
      "cell_type": "code",
      "metadata": {
        "id": "EUEYZdK38-Ma"
      },
      "source": [
        "import numpy as np   # import data"
      ],
      "execution_count": 22,
      "outputs": []
    },
    {
      "cell_type": "code",
      "metadata": {
        "id": "hl2_NoCC9VZr",
        "colab": {
          "base_uri": "https://localhost:8080/"
        },
        "outputId": "659a81c0-1c6e-41df-92f3-97fbcc0d09d9"
      },
      "source": [
        "Data.shape   ## ขนาดของ Data (แถว,คอลัมน์)"
      ],
      "execution_count": 23,
      "outputs": [
        {
          "output_type": "execute_result",
          "data": {
            "text/plain": [
              "(10000, 28)"
            ]
          },
          "metadata": {
            "tags": []
          },
          "execution_count": 23
        }
      ]
    },
    {
      "cell_type": "code",
      "metadata": {
        "id": "V2VC2jnCAkqs"
      },
      "source": [
        "corr = np.corrcoef(Data.to_numpy().T) # หา correlation"
      ],
      "execution_count": 24,
      "outputs": []
    },
    {
      "cell_type": "code",
      "metadata": {
        "id": "p_r4V_aJAVic",
        "colab": {
          "base_uri": "https://localhost:8080/",
          "height": 937
        },
        "outputId": "9539fef6-e38a-4791-9c7a-b8b789e62bf3"
      },
      "source": [
        "Data.corr()  # เรียกดูความสัมพันธ์ของ Data"
      ],
      "execution_count": 25,
      "outputs": [
        {
          "output_type": "execute_result",
          "data": {
            "text/html": [
              "<div>\n",
              "<style scoped>\n",
              "    .dataframe tbody tr th:only-of-type {\n",
              "        vertical-align: middle;\n",
              "    }\n",
              "\n",
              "    .dataframe tbody tr th {\n",
              "        vertical-align: top;\n",
              "    }\n",
              "\n",
              "    .dataframe thead th {\n",
              "        text-align: right;\n",
              "    }\n",
              "</style>\n",
              "<table border=\"1\" class=\"dataframe\">\n",
              "  <thead>\n",
              "    <tr style=\"text-align: right;\">\n",
              "      <th></th>\n",
              "      <th>0</th>\n",
              "      <th>1</th>\n",
              "      <th>2</th>\n",
              "      <th>3</th>\n",
              "      <th>4</th>\n",
              "      <th>5</th>\n",
              "      <th>6</th>\n",
              "      <th>7</th>\n",
              "      <th>8</th>\n",
              "      <th>9</th>\n",
              "      <th>10</th>\n",
              "      <th>11</th>\n",
              "      <th>12</th>\n",
              "      <th>13</th>\n",
              "      <th>14</th>\n",
              "      <th>15</th>\n",
              "      <th>16</th>\n",
              "      <th>17</th>\n",
              "      <th>18</th>\n",
              "      <th>19</th>\n",
              "      <th>20</th>\n",
              "      <th>21</th>\n",
              "      <th>22</th>\n",
              "      <th>23</th>\n",
              "      <th>24</th>\n",
              "      <th>25</th>\n",
              "      <th>26</th>\n",
              "      <th>27</th>\n",
              "    </tr>\n",
              "  </thead>\n",
              "  <tbody>\n",
              "    <tr>\n",
              "      <th>0</th>\n",
              "      <td>1.000000</td>\n",
              "      <td>0.278658</td>\n",
              "      <td>0.235054</td>\n",
              "      <td>-0.206321</td>\n",
              "      <td>-0.462338</td>\n",
              "      <td>-0.300921</td>\n",
              "      <td>0.148077</td>\n",
              "      <td>-0.628206</td>\n",
              "      <td>-0.425875</td>\n",
              "      <td>0.294896</td>\n",
              "      <td>0.044773</td>\n",
              "      <td>0.245434</td>\n",
              "      <td>0.263463</td>\n",
              "      <td>-0.085199</td>\n",
              "      <td>0.273089</td>\n",
              "      <td>-0.139701</td>\n",
              "      <td>0.083564</td>\n",
              "      <td>-0.202977</td>\n",
              "      <td>0.178037</td>\n",
              "      <td>-0.070897</td>\n",
              "      <td>0.247504</td>\n",
              "      <td>-0.028603</td>\n",
              "      <td>0.077693</td>\n",
              "      <td>-0.060568</td>\n",
              "      <td>-0.071690</td>\n",
              "      <td>0.095479</td>\n",
              "      <td>0.278658</td>\n",
              "      <td>0.095479</td>\n",
              "    </tr>\n",
              "    <tr>\n",
              "      <th>1</th>\n",
              "      <td>0.278658</td>\n",
              "      <td>1.000000</td>\n",
              "      <td>-0.038107</td>\n",
              "      <td>-0.076574</td>\n",
              "      <td>-0.272796</td>\n",
              "      <td>-0.034264</td>\n",
              "      <td>-0.226273</td>\n",
              "      <td>-0.054239</td>\n",
              "      <td>-0.186647</td>\n",
              "      <td>0.126185</td>\n",
              "      <td>0.166821</td>\n",
              "      <td>-0.007406</td>\n",
              "      <td>-0.222014</td>\n",
              "      <td>0.009230</td>\n",
              "      <td>0.073044</td>\n",
              "      <td>-0.479964</td>\n",
              "      <td>0.188681</td>\n",
              "      <td>0.295677</td>\n",
              "      <td>-0.057152</td>\n",
              "      <td>-0.461758</td>\n",
              "      <td>0.182638</td>\n",
              "      <td>0.195807</td>\n",
              "      <td>0.216821</td>\n",
              "      <td>0.041762</td>\n",
              "      <td>-0.004007</td>\n",
              "      <td>-0.200477</td>\n",
              "      <td>1.000000</td>\n",
              "      <td>-0.200477</td>\n",
              "    </tr>\n",
              "    <tr>\n",
              "      <th>2</th>\n",
              "      <td>0.235054</td>\n",
              "      <td>-0.038107</td>\n",
              "      <td>1.000000</td>\n",
              "      <td>-0.132485</td>\n",
              "      <td>0.157935</td>\n",
              "      <td>0.082951</td>\n",
              "      <td>-0.206772</td>\n",
              "      <td>-0.117152</td>\n",
              "      <td>0.085363</td>\n",
              "      <td>-0.033427</td>\n",
              "      <td>0.230856</td>\n",
              "      <td>0.322989</td>\n",
              "      <td>-0.150023</td>\n",
              "      <td>-0.217220</td>\n",
              "      <td>-0.036312</td>\n",
              "      <td>0.176617</td>\n",
              "      <td>0.130289</td>\n",
              "      <td>0.139381</td>\n",
              "      <td>0.158520</td>\n",
              "      <td>0.103264</td>\n",
              "      <td>0.235457</td>\n",
              "      <td>-0.174219</td>\n",
              "      <td>0.004752</td>\n",
              "      <td>0.142753</td>\n",
              "      <td>-0.286930</td>\n",
              "      <td>-0.107029</td>\n",
              "      <td>-0.038107</td>\n",
              "      <td>-0.107029</td>\n",
              "    </tr>\n",
              "    <tr>\n",
              "      <th>3</th>\n",
              "      <td>-0.206321</td>\n",
              "      <td>-0.076574</td>\n",
              "      <td>-0.132485</td>\n",
              "      <td>1.000000</td>\n",
              "      <td>0.114408</td>\n",
              "      <td>-0.292756</td>\n",
              "      <td>-0.048989</td>\n",
              "      <td>-0.005701</td>\n",
              "      <td>-0.028885</td>\n",
              "      <td>-0.249558</td>\n",
              "      <td>-0.219184</td>\n",
              "      <td>-0.024157</td>\n",
              "      <td>0.379867</td>\n",
              "      <td>-0.034920</td>\n",
              "      <td>0.305108</td>\n",
              "      <td>0.164199</td>\n",
              "      <td>-0.028540</td>\n",
              "      <td>0.096146</td>\n",
              "      <td>-0.210492</td>\n",
              "      <td>0.077356</td>\n",
              "      <td>0.016022</td>\n",
              "      <td>0.339300</td>\n",
              "      <td>-0.050463</td>\n",
              "      <td>0.156154</td>\n",
              "      <td>0.089797</td>\n",
              "      <td>0.146262</td>\n",
              "      <td>-0.076574</td>\n",
              "      <td>0.146262</td>\n",
              "    </tr>\n",
              "    <tr>\n",
              "      <th>4</th>\n",
              "      <td>-0.462338</td>\n",
              "      <td>-0.272796</td>\n",
              "      <td>0.157935</td>\n",
              "      <td>0.114408</td>\n",
              "      <td>1.000000</td>\n",
              "      <td>0.440855</td>\n",
              "      <td>0.010001</td>\n",
              "      <td>0.252359</td>\n",
              "      <td>0.229564</td>\n",
              "      <td>0.013150</td>\n",
              "      <td>0.189243</td>\n",
              "      <td>0.128189</td>\n",
              "      <td>-0.176701</td>\n",
              "      <td>0.064830</td>\n",
              "      <td>-0.255764</td>\n",
              "      <td>0.175944</td>\n",
              "      <td>-0.319710</td>\n",
              "      <td>-0.089510</td>\n",
              "      <td>-0.122475</td>\n",
              "      <td>-0.127901</td>\n",
              "      <td>0.051260</td>\n",
              "      <td>-0.097606</td>\n",
              "      <td>0.197745</td>\n",
              "      <td>0.098149</td>\n",
              "      <td>0.045844</td>\n",
              "      <td>-0.260001</td>\n",
              "      <td>-0.272796</td>\n",
              "      <td>-0.260001</td>\n",
              "    </tr>\n",
              "    <tr>\n",
              "      <th>5</th>\n",
              "      <td>-0.300921</td>\n",
              "      <td>-0.034264</td>\n",
              "      <td>0.082951</td>\n",
              "      <td>-0.292756</td>\n",
              "      <td>0.440855</td>\n",
              "      <td>1.000000</td>\n",
              "      <td>0.116088</td>\n",
              "      <td>0.116928</td>\n",
              "      <td>0.221908</td>\n",
              "      <td>0.155276</td>\n",
              "      <td>-0.035070</td>\n",
              "      <td>0.270518</td>\n",
              "      <td>-0.318513</td>\n",
              "      <td>-0.258417</td>\n",
              "      <td>-0.725176</td>\n",
              "      <td>-0.055684</td>\n",
              "      <td>-0.188606</td>\n",
              "      <td>-0.086466</td>\n",
              "      <td>-0.235792</td>\n",
              "      <td>0.177414</td>\n",
              "      <td>0.068786</td>\n",
              "      <td>-0.207246</td>\n",
              "      <td>0.058291</td>\n",
              "      <td>0.248072</td>\n",
              "      <td>0.398805</td>\n",
              "      <td>-0.032385</td>\n",
              "      <td>-0.034264</td>\n",
              "      <td>-0.032385</td>\n",
              "    </tr>\n",
              "    <tr>\n",
              "      <th>6</th>\n",
              "      <td>0.148077</td>\n",
              "      <td>-0.226273</td>\n",
              "      <td>-0.206772</td>\n",
              "      <td>-0.048989</td>\n",
              "      <td>0.010001</td>\n",
              "      <td>0.116088</td>\n",
              "      <td>1.000000</td>\n",
              "      <td>-0.251486</td>\n",
              "      <td>0.060710</td>\n",
              "      <td>-0.184431</td>\n",
              "      <td>0.131173</td>\n",
              "      <td>0.188028</td>\n",
              "      <td>0.225167</td>\n",
              "      <td>-0.182604</td>\n",
              "      <td>-0.005483</td>\n",
              "      <td>0.279353</td>\n",
              "      <td>-0.286674</td>\n",
              "      <td>-0.309292</td>\n",
              "      <td>-0.009199</td>\n",
              "      <td>0.214861</td>\n",
              "      <td>0.135572</td>\n",
              "      <td>-0.081726</td>\n",
              "      <td>-0.023082</td>\n",
              "      <td>-0.063118</td>\n",
              "      <td>0.166018</td>\n",
              "      <td>0.180335</td>\n",
              "      <td>-0.226273</td>\n",
              "      <td>0.180335</td>\n",
              "    </tr>\n",
              "    <tr>\n",
              "      <th>7</th>\n",
              "      <td>-0.628206</td>\n",
              "      <td>-0.054239</td>\n",
              "      <td>-0.117152</td>\n",
              "      <td>-0.005701</td>\n",
              "      <td>0.252359</td>\n",
              "      <td>0.116928</td>\n",
              "      <td>-0.251486</td>\n",
              "      <td>1.000000</td>\n",
              "      <td>0.084324</td>\n",
              "      <td>-0.129956</td>\n",
              "      <td>0.121158</td>\n",
              "      <td>-0.162310</td>\n",
              "      <td>-0.275352</td>\n",
              "      <td>0.112551</td>\n",
              "      <td>-0.093488</td>\n",
              "      <td>0.172740</td>\n",
              "      <td>0.081564</td>\n",
              "      <td>0.151652</td>\n",
              "      <td>-0.112990</td>\n",
              "      <td>-0.168497</td>\n",
              "      <td>-0.230142</td>\n",
              "      <td>0.148545</td>\n",
              "      <td>-0.186663</td>\n",
              "      <td>-0.111301</td>\n",
              "      <td>0.121025</td>\n",
              "      <td>0.107193</td>\n",
              "      <td>-0.054239</td>\n",
              "      <td>0.107193</td>\n",
              "    </tr>\n",
              "    <tr>\n",
              "      <th>8</th>\n",
              "      <td>-0.425875</td>\n",
              "      <td>-0.186647</td>\n",
              "      <td>0.085363</td>\n",
              "      <td>-0.028885</td>\n",
              "      <td>0.229564</td>\n",
              "      <td>0.221908</td>\n",
              "      <td>0.060710</td>\n",
              "      <td>0.084324</td>\n",
              "      <td>1.000000</td>\n",
              "      <td>-0.302974</td>\n",
              "      <td>0.002590</td>\n",
              "      <td>-0.096234</td>\n",
              "      <td>0.137525</td>\n",
              "      <td>0.165919</td>\n",
              "      <td>0.098554</td>\n",
              "      <td>0.231706</td>\n",
              "      <td>-0.119707</td>\n",
              "      <td>0.019798</td>\n",
              "      <td>0.212353</td>\n",
              "      <td>0.120044</td>\n",
              "      <td>-0.069641</td>\n",
              "      <td>0.016576</td>\n",
              "      <td>-0.012606</td>\n",
              "      <td>0.087347</td>\n",
              "      <td>-0.081955</td>\n",
              "      <td>-0.074567</td>\n",
              "      <td>-0.186647</td>\n",
              "      <td>-0.074567</td>\n",
              "    </tr>\n",
              "    <tr>\n",
              "      <th>9</th>\n",
              "      <td>0.294896</td>\n",
              "      <td>0.126185</td>\n",
              "      <td>-0.033427</td>\n",
              "      <td>-0.249558</td>\n",
              "      <td>0.013150</td>\n",
              "      <td>0.155276</td>\n",
              "      <td>-0.184431</td>\n",
              "      <td>-0.129956</td>\n",
              "      <td>-0.302974</td>\n",
              "      <td>1.000000</td>\n",
              "      <td>-0.134209</td>\n",
              "      <td>0.384093</td>\n",
              "      <td>0.175779</td>\n",
              "      <td>-0.095191</td>\n",
              "      <td>-0.110913</td>\n",
              "      <td>-0.382016</td>\n",
              "      <td>0.303836</td>\n",
              "      <td>-0.019509</td>\n",
              "      <td>-0.212608</td>\n",
              "      <td>0.004093</td>\n",
              "      <td>0.048293</td>\n",
              "      <td>0.061216</td>\n",
              "      <td>0.034092</td>\n",
              "      <td>-0.478982</td>\n",
              "      <td>0.286749</td>\n",
              "      <td>-0.190705</td>\n",
              "      <td>0.126185</td>\n",
              "      <td>-0.190705</td>\n",
              "    </tr>\n",
              "    <tr>\n",
              "      <th>10</th>\n",
              "      <td>0.044773</td>\n",
              "      <td>0.166821</td>\n",
              "      <td>0.230856</td>\n",
              "      <td>-0.219184</td>\n",
              "      <td>0.189243</td>\n",
              "      <td>-0.035070</td>\n",
              "      <td>0.131173</td>\n",
              "      <td>0.121158</td>\n",
              "      <td>0.002590</td>\n",
              "      <td>-0.134209</td>\n",
              "      <td>1.000000</td>\n",
              "      <td>-0.305294</td>\n",
              "      <td>-0.408773</td>\n",
              "      <td>0.106934</td>\n",
              "      <td>0.142955</td>\n",
              "      <td>0.304918</td>\n",
              "      <td>0.155016</td>\n",
              "      <td>0.184212</td>\n",
              "      <td>0.019066</td>\n",
              "      <td>-0.250403</td>\n",
              "      <td>-0.278551</td>\n",
              "      <td>-0.127861</td>\n",
              "      <td>0.269111</td>\n",
              "      <td>0.144802</td>\n",
              "      <td>-0.199633</td>\n",
              "      <td>-0.232466</td>\n",
              "      <td>0.166821</td>\n",
              "      <td>-0.232466</td>\n",
              "    </tr>\n",
              "    <tr>\n",
              "      <th>11</th>\n",
              "      <td>0.245434</td>\n",
              "      <td>-0.007406</td>\n",
              "      <td>0.322989</td>\n",
              "      <td>-0.024157</td>\n",
              "      <td>0.128189</td>\n",
              "      <td>0.270518</td>\n",
              "      <td>0.188028</td>\n",
              "      <td>-0.162310</td>\n",
              "      <td>-0.096234</td>\n",
              "      <td>0.384093</td>\n",
              "      <td>-0.305294</td>\n",
              "      <td>1.000000</td>\n",
              "      <td>0.227626</td>\n",
              "      <td>-0.333207</td>\n",
              "      <td>-0.206525</td>\n",
              "      <td>-0.118247</td>\n",
              "      <td>-0.187709</td>\n",
              "      <td>0.127821</td>\n",
              "      <td>0.018243</td>\n",
              "      <td>0.161406</td>\n",
              "      <td>0.553046</td>\n",
              "      <td>-0.180159</td>\n",
              "      <td>-0.077916</td>\n",
              "      <td>-0.216923</td>\n",
              "      <td>0.178758</td>\n",
              "      <td>0.098142</td>\n",
              "      <td>-0.007406</td>\n",
              "      <td>0.098142</td>\n",
              "    </tr>\n",
              "    <tr>\n",
              "      <th>12</th>\n",
              "      <td>0.263463</td>\n",
              "      <td>-0.222014</td>\n",
              "      <td>-0.150023</td>\n",
              "      <td>0.379867</td>\n",
              "      <td>-0.176701</td>\n",
              "      <td>-0.318513</td>\n",
              "      <td>0.225167</td>\n",
              "      <td>-0.275352</td>\n",
              "      <td>0.137525</td>\n",
              "      <td>0.175779</td>\n",
              "      <td>-0.408773</td>\n",
              "      <td>0.227626</td>\n",
              "      <td>1.000000</td>\n",
              "      <td>0.089983</td>\n",
              "      <td>0.438864</td>\n",
              "      <td>-0.016388</td>\n",
              "      <td>0.085252</td>\n",
              "      <td>-0.310739</td>\n",
              "      <td>0.038840</td>\n",
              "      <td>0.033802</td>\n",
              "      <td>-0.032163</td>\n",
              "      <td>0.098242</td>\n",
              "      <td>-0.150060</td>\n",
              "      <td>-0.368219</td>\n",
              "      <td>-0.042112</td>\n",
              "      <td>0.234629</td>\n",
              "      <td>-0.222014</td>\n",
              "      <td>0.234629</td>\n",
              "    </tr>\n",
              "    <tr>\n",
              "      <th>13</th>\n",
              "      <td>-0.085199</td>\n",
              "      <td>0.009230</td>\n",
              "      <td>-0.217220</td>\n",
              "      <td>-0.034920</td>\n",
              "      <td>0.064830</td>\n",
              "      <td>-0.258417</td>\n",
              "      <td>-0.182604</td>\n",
              "      <td>0.112551</td>\n",
              "      <td>0.165919</td>\n",
              "      <td>-0.095191</td>\n",
              "      <td>0.106934</td>\n",
              "      <td>-0.333207</td>\n",
              "      <td>0.089983</td>\n",
              "      <td>1.000000</td>\n",
              "      <td>0.317965</td>\n",
              "      <td>-0.185139</td>\n",
              "      <td>0.006691</td>\n",
              "      <td>0.021051</td>\n",
              "      <td>0.124182</td>\n",
              "      <td>-0.531351</td>\n",
              "      <td>0.041615</td>\n",
              "      <td>-0.152841</td>\n",
              "      <td>-0.049959</td>\n",
              "      <td>-0.020534</td>\n",
              "      <td>-0.062722</td>\n",
              "      <td>-0.355898</td>\n",
              "      <td>0.009230</td>\n",
              "      <td>-0.355898</td>\n",
              "    </tr>\n",
              "    <tr>\n",
              "      <th>14</th>\n",
              "      <td>0.273089</td>\n",
              "      <td>0.073044</td>\n",
              "      <td>-0.036312</td>\n",
              "      <td>0.305108</td>\n",
              "      <td>-0.255764</td>\n",
              "      <td>-0.725176</td>\n",
              "      <td>-0.005483</td>\n",
              "      <td>-0.093488</td>\n",
              "      <td>0.098554</td>\n",
              "      <td>-0.110913</td>\n",
              "      <td>0.142955</td>\n",
              "      <td>-0.206525</td>\n",
              "      <td>0.438864</td>\n",
              "      <td>0.317965</td>\n",
              "      <td>1.000000</td>\n",
              "      <td>0.194991</td>\n",
              "      <td>-0.038163</td>\n",
              "      <td>-0.183676</td>\n",
              "      <td>0.086400</td>\n",
              "      <td>-0.060975</td>\n",
              "      <td>-0.083092</td>\n",
              "      <td>0.309580</td>\n",
              "      <td>0.047677</td>\n",
              "      <td>-0.311285</td>\n",
              "      <td>-0.158996</td>\n",
              "      <td>0.073552</td>\n",
              "      <td>0.073044</td>\n",
              "      <td>0.073552</td>\n",
              "    </tr>\n",
              "    <tr>\n",
              "      <th>15</th>\n",
              "      <td>-0.139701</td>\n",
              "      <td>-0.479964</td>\n",
              "      <td>0.176617</td>\n",
              "      <td>0.164199</td>\n",
              "      <td>0.175944</td>\n",
              "      <td>-0.055684</td>\n",
              "      <td>0.279353</td>\n",
              "      <td>0.172740</td>\n",
              "      <td>0.231706</td>\n",
              "      <td>-0.382016</td>\n",
              "      <td>0.304918</td>\n",
              "      <td>-0.118247</td>\n",
              "      <td>-0.016388</td>\n",
              "      <td>-0.185139</td>\n",
              "      <td>0.194991</td>\n",
              "      <td>1.000000</td>\n",
              "      <td>-0.170304</td>\n",
              "      <td>-0.277075</td>\n",
              "      <td>0.070488</td>\n",
              "      <td>0.254884</td>\n",
              "      <td>-0.380475</td>\n",
              "      <td>0.058342</td>\n",
              "      <td>0.064717</td>\n",
              "      <td>0.214639</td>\n",
              "      <td>-0.007099</td>\n",
              "      <td>0.121380</td>\n",
              "      <td>-0.479964</td>\n",
              "      <td>0.121380</td>\n",
              "    </tr>\n",
              "    <tr>\n",
              "      <th>16</th>\n",
              "      <td>0.083564</td>\n",
              "      <td>0.188681</td>\n",
              "      <td>0.130289</td>\n",
              "      <td>-0.028540</td>\n",
              "      <td>-0.319710</td>\n",
              "      <td>-0.188606</td>\n",
              "      <td>-0.286674</td>\n",
              "      <td>0.081564</td>\n",
              "      <td>-0.119707</td>\n",
              "      <td>0.303836</td>\n",
              "      <td>0.155016</td>\n",
              "      <td>-0.187709</td>\n",
              "      <td>0.085252</td>\n",
              "      <td>0.006691</td>\n",
              "      <td>-0.038163</td>\n",
              "      <td>-0.170304</td>\n",
              "      <td>1.000000</td>\n",
              "      <td>0.355312</td>\n",
              "      <td>0.170923</td>\n",
              "      <td>-0.188526</td>\n",
              "      <td>-0.314135</td>\n",
              "      <td>-0.071452</td>\n",
              "      <td>-0.046071</td>\n",
              "      <td>-0.197882</td>\n",
              "      <td>-0.289095</td>\n",
              "      <td>-0.242846</td>\n",
              "      <td>0.188681</td>\n",
              "      <td>-0.242846</td>\n",
              "    </tr>\n",
              "    <tr>\n",
              "      <th>17</th>\n",
              "      <td>-0.202977</td>\n",
              "      <td>0.295677</td>\n",
              "      <td>0.139381</td>\n",
              "      <td>0.096146</td>\n",
              "      <td>-0.089510</td>\n",
              "      <td>-0.086466</td>\n",
              "      <td>-0.309292</td>\n",
              "      <td>0.151652</td>\n",
              "      <td>0.019798</td>\n",
              "      <td>-0.019509</td>\n",
              "      <td>0.184212</td>\n",
              "      <td>0.127821</td>\n",
              "      <td>-0.310739</td>\n",
              "      <td>0.021051</td>\n",
              "      <td>-0.183676</td>\n",
              "      <td>-0.277075</td>\n",
              "      <td>0.355312</td>\n",
              "      <td>1.000000</td>\n",
              "      <td>0.044277</td>\n",
              "      <td>-0.099481</td>\n",
              "      <td>0.249129</td>\n",
              "      <td>-0.203341</td>\n",
              "      <td>-0.160570</td>\n",
              "      <td>0.117944</td>\n",
              "      <td>-0.168620</td>\n",
              "      <td>-0.259550</td>\n",
              "      <td>0.295677</td>\n",
              "      <td>-0.259550</td>\n",
              "    </tr>\n",
              "    <tr>\n",
              "      <th>18</th>\n",
              "      <td>0.178037</td>\n",
              "      <td>-0.057152</td>\n",
              "      <td>0.158520</td>\n",
              "      <td>-0.210492</td>\n",
              "      <td>-0.122475</td>\n",
              "      <td>-0.235792</td>\n",
              "      <td>-0.009199</td>\n",
              "      <td>-0.112990</td>\n",
              "      <td>0.212353</td>\n",
              "      <td>-0.212608</td>\n",
              "      <td>0.019066</td>\n",
              "      <td>0.018243</td>\n",
              "      <td>0.038840</td>\n",
              "      <td>0.124182</td>\n",
              "      <td>0.086400</td>\n",
              "      <td>0.070488</td>\n",
              "      <td>0.170923</td>\n",
              "      <td>0.044277</td>\n",
              "      <td>1.000000</td>\n",
              "      <td>-0.332499</td>\n",
              "      <td>-0.025943</td>\n",
              "      <td>-0.143689</td>\n",
              "      <td>0.188141</td>\n",
              "      <td>-0.105037</td>\n",
              "      <td>-0.440386</td>\n",
              "      <td>0.078344</td>\n",
              "      <td>-0.057152</td>\n",
              "      <td>0.078344</td>\n",
              "    </tr>\n",
              "    <tr>\n",
              "      <th>19</th>\n",
              "      <td>-0.070897</td>\n",
              "      <td>-0.461758</td>\n",
              "      <td>0.103264</td>\n",
              "      <td>0.077356</td>\n",
              "      <td>-0.127901</td>\n",
              "      <td>0.177414</td>\n",
              "      <td>0.214861</td>\n",
              "      <td>-0.168497</td>\n",
              "      <td>0.120044</td>\n",
              "      <td>0.004093</td>\n",
              "      <td>-0.250403</td>\n",
              "      <td>0.161406</td>\n",
              "      <td>0.033802</td>\n",
              "      <td>-0.531351</td>\n",
              "      <td>-0.060975</td>\n",
              "      <td>0.254884</td>\n",
              "      <td>-0.188526</td>\n",
              "      <td>-0.099481</td>\n",
              "      <td>-0.332499</td>\n",
              "      <td>1.000000</td>\n",
              "      <td>0.068079</td>\n",
              "      <td>0.029744</td>\n",
              "      <td>-0.204168</td>\n",
              "      <td>0.033867</td>\n",
              "      <td>0.263282</td>\n",
              "      <td>0.303823</td>\n",
              "      <td>-0.461758</td>\n",
              "      <td>0.303823</td>\n",
              "    </tr>\n",
              "    <tr>\n",
              "      <th>20</th>\n",
              "      <td>0.247504</td>\n",
              "      <td>0.182638</td>\n",
              "      <td>0.235457</td>\n",
              "      <td>0.016022</td>\n",
              "      <td>0.051260</td>\n",
              "      <td>0.068786</td>\n",
              "      <td>0.135572</td>\n",
              "      <td>-0.230142</td>\n",
              "      <td>-0.069641</td>\n",
              "      <td>0.048293</td>\n",
              "      <td>-0.278551</td>\n",
              "      <td>0.553046</td>\n",
              "      <td>-0.032163</td>\n",
              "      <td>0.041615</td>\n",
              "      <td>-0.083092</td>\n",
              "      <td>-0.380475</td>\n",
              "      <td>-0.314135</td>\n",
              "      <td>0.249129</td>\n",
              "      <td>-0.025943</td>\n",
              "      <td>0.068079</td>\n",
              "      <td>1.000000</td>\n",
              "      <td>-0.033995</td>\n",
              "      <td>-0.150953</td>\n",
              "      <td>-0.042811</td>\n",
              "      <td>0.134335</td>\n",
              "      <td>0.053001</td>\n",
              "      <td>0.182638</td>\n",
              "      <td>0.053001</td>\n",
              "    </tr>\n",
              "    <tr>\n",
              "      <th>21</th>\n",
              "      <td>-0.028603</td>\n",
              "      <td>0.195807</td>\n",
              "      <td>-0.174219</td>\n",
              "      <td>0.339300</td>\n",
              "      <td>-0.097606</td>\n",
              "      <td>-0.207246</td>\n",
              "      <td>-0.081726</td>\n",
              "      <td>0.148545</td>\n",
              "      <td>0.016576</td>\n",
              "      <td>0.061216</td>\n",
              "      <td>-0.127861</td>\n",
              "      <td>-0.180159</td>\n",
              "      <td>0.098242</td>\n",
              "      <td>-0.152841</td>\n",
              "      <td>0.309580</td>\n",
              "      <td>0.058342</td>\n",
              "      <td>-0.071452</td>\n",
              "      <td>-0.203341</td>\n",
              "      <td>-0.143689</td>\n",
              "      <td>0.029744</td>\n",
              "      <td>-0.033995</td>\n",
              "      <td>1.000000</td>\n",
              "      <td>0.064974</td>\n",
              "      <td>-0.027023</td>\n",
              "      <td>0.399156</td>\n",
              "      <td>0.289511</td>\n",
              "      <td>0.195807</td>\n",
              "      <td>0.289511</td>\n",
              "    </tr>\n",
              "    <tr>\n",
              "      <th>22</th>\n",
              "      <td>0.077693</td>\n",
              "      <td>0.216821</td>\n",
              "      <td>0.004752</td>\n",
              "      <td>-0.050463</td>\n",
              "      <td>0.197745</td>\n",
              "      <td>0.058291</td>\n",
              "      <td>-0.023082</td>\n",
              "      <td>-0.186663</td>\n",
              "      <td>-0.012606</td>\n",
              "      <td>0.034092</td>\n",
              "      <td>0.269111</td>\n",
              "      <td>-0.077916</td>\n",
              "      <td>-0.150060</td>\n",
              "      <td>-0.049959</td>\n",
              "      <td>0.047677</td>\n",
              "      <td>0.064717</td>\n",
              "      <td>-0.046071</td>\n",
              "      <td>-0.160570</td>\n",
              "      <td>0.188141</td>\n",
              "      <td>-0.204168</td>\n",
              "      <td>-0.150953</td>\n",
              "      <td>0.064974</td>\n",
              "      <td>1.000000</td>\n",
              "      <td>-0.044557</td>\n",
              "      <td>-0.257413</td>\n",
              "      <td>-0.003916</td>\n",
              "      <td>0.216821</td>\n",
              "      <td>-0.003916</td>\n",
              "    </tr>\n",
              "    <tr>\n",
              "      <th>23</th>\n",
              "      <td>-0.060568</td>\n",
              "      <td>0.041762</td>\n",
              "      <td>0.142753</td>\n",
              "      <td>0.156154</td>\n",
              "      <td>0.098149</td>\n",
              "      <td>0.248072</td>\n",
              "      <td>-0.063118</td>\n",
              "      <td>-0.111301</td>\n",
              "      <td>0.087347</td>\n",
              "      <td>-0.478982</td>\n",
              "      <td>0.144802</td>\n",
              "      <td>-0.216923</td>\n",
              "      <td>-0.368219</td>\n",
              "      <td>-0.020534</td>\n",
              "      <td>-0.311285</td>\n",
              "      <td>0.214639</td>\n",
              "      <td>-0.197882</td>\n",
              "      <td>0.117944</td>\n",
              "      <td>-0.105037</td>\n",
              "      <td>0.033867</td>\n",
              "      <td>-0.042811</td>\n",
              "      <td>-0.027023</td>\n",
              "      <td>-0.044557</td>\n",
              "      <td>1.000000</td>\n",
              "      <td>0.140430</td>\n",
              "      <td>-0.152423</td>\n",
              "      <td>0.041762</td>\n",
              "      <td>-0.152423</td>\n",
              "    </tr>\n",
              "    <tr>\n",
              "      <th>24</th>\n",
              "      <td>-0.071690</td>\n",
              "      <td>-0.004007</td>\n",
              "      <td>-0.286930</td>\n",
              "      <td>0.089797</td>\n",
              "      <td>0.045844</td>\n",
              "      <td>0.398805</td>\n",
              "      <td>0.166018</td>\n",
              "      <td>0.121025</td>\n",
              "      <td>-0.081955</td>\n",
              "      <td>0.286749</td>\n",
              "      <td>-0.199633</td>\n",
              "      <td>0.178758</td>\n",
              "      <td>-0.042112</td>\n",
              "      <td>-0.062722</td>\n",
              "      <td>-0.158996</td>\n",
              "      <td>-0.007099</td>\n",
              "      <td>-0.289095</td>\n",
              "      <td>-0.168620</td>\n",
              "      <td>-0.440386</td>\n",
              "      <td>0.263282</td>\n",
              "      <td>0.134335</td>\n",
              "      <td>0.399156</td>\n",
              "      <td>-0.257413</td>\n",
              "      <td>0.140430</td>\n",
              "      <td>1.000000</td>\n",
              "      <td>0.089029</td>\n",
              "      <td>-0.004007</td>\n",
              "      <td>0.089029</td>\n",
              "    </tr>\n",
              "    <tr>\n",
              "      <th>25</th>\n",
              "      <td>0.095479</td>\n",
              "      <td>-0.200477</td>\n",
              "      <td>-0.107029</td>\n",
              "      <td>0.146262</td>\n",
              "      <td>-0.260001</td>\n",
              "      <td>-0.032385</td>\n",
              "      <td>0.180335</td>\n",
              "      <td>0.107193</td>\n",
              "      <td>-0.074567</td>\n",
              "      <td>-0.190705</td>\n",
              "      <td>-0.232466</td>\n",
              "      <td>0.098142</td>\n",
              "      <td>0.234629</td>\n",
              "      <td>-0.355898</td>\n",
              "      <td>0.073552</td>\n",
              "      <td>0.121380</td>\n",
              "      <td>-0.242846</td>\n",
              "      <td>-0.259550</td>\n",
              "      <td>0.078344</td>\n",
              "      <td>0.303823</td>\n",
              "      <td>0.053001</td>\n",
              "      <td>0.289511</td>\n",
              "      <td>-0.003916</td>\n",
              "      <td>-0.152423</td>\n",
              "      <td>0.089029</td>\n",
              "      <td>1.000000</td>\n",
              "      <td>-0.200477</td>\n",
              "      <td>1.000000</td>\n",
              "    </tr>\n",
              "    <tr>\n",
              "      <th>26</th>\n",
              "      <td>0.278658</td>\n",
              "      <td>1.000000</td>\n",
              "      <td>-0.038107</td>\n",
              "      <td>-0.076574</td>\n",
              "      <td>-0.272796</td>\n",
              "      <td>-0.034264</td>\n",
              "      <td>-0.226273</td>\n",
              "      <td>-0.054239</td>\n",
              "      <td>-0.186647</td>\n",
              "      <td>0.126185</td>\n",
              "      <td>0.166821</td>\n",
              "      <td>-0.007406</td>\n",
              "      <td>-0.222014</td>\n",
              "      <td>0.009230</td>\n",
              "      <td>0.073044</td>\n",
              "      <td>-0.479964</td>\n",
              "      <td>0.188681</td>\n",
              "      <td>0.295677</td>\n",
              "      <td>-0.057152</td>\n",
              "      <td>-0.461758</td>\n",
              "      <td>0.182638</td>\n",
              "      <td>0.195807</td>\n",
              "      <td>0.216821</td>\n",
              "      <td>0.041762</td>\n",
              "      <td>-0.004007</td>\n",
              "      <td>-0.200477</td>\n",
              "      <td>1.000000</td>\n",
              "      <td>-0.200477</td>\n",
              "    </tr>\n",
              "    <tr>\n",
              "      <th>27</th>\n",
              "      <td>0.095479</td>\n",
              "      <td>-0.200477</td>\n",
              "      <td>-0.107029</td>\n",
              "      <td>0.146262</td>\n",
              "      <td>-0.260001</td>\n",
              "      <td>-0.032385</td>\n",
              "      <td>0.180335</td>\n",
              "      <td>0.107193</td>\n",
              "      <td>-0.074567</td>\n",
              "      <td>-0.190705</td>\n",
              "      <td>-0.232466</td>\n",
              "      <td>0.098142</td>\n",
              "      <td>0.234629</td>\n",
              "      <td>-0.355898</td>\n",
              "      <td>0.073552</td>\n",
              "      <td>0.121380</td>\n",
              "      <td>-0.242846</td>\n",
              "      <td>-0.259550</td>\n",
              "      <td>0.078344</td>\n",
              "      <td>0.303823</td>\n",
              "      <td>0.053001</td>\n",
              "      <td>0.289511</td>\n",
              "      <td>-0.003916</td>\n",
              "      <td>-0.152423</td>\n",
              "      <td>0.089029</td>\n",
              "      <td>1.000000</td>\n",
              "      <td>-0.200477</td>\n",
              "      <td>1.000000</td>\n",
              "    </tr>\n",
              "  </tbody>\n",
              "</table>\n",
              "</div>"
            ],
            "text/plain": [
              "          0         1         2   ...        25        26        27\n",
              "0   1.000000  0.278658  0.235054  ...  0.095479  0.278658  0.095479\n",
              "1   0.278658  1.000000 -0.038107  ... -0.200477  1.000000 -0.200477\n",
              "2   0.235054 -0.038107  1.000000  ... -0.107029 -0.038107 -0.107029\n",
              "3  -0.206321 -0.076574 -0.132485  ...  0.146262 -0.076574  0.146262\n",
              "4  -0.462338 -0.272796  0.157935  ... -0.260001 -0.272796 -0.260001\n",
              "5  -0.300921 -0.034264  0.082951  ... -0.032385 -0.034264 -0.032385\n",
              "6   0.148077 -0.226273 -0.206772  ...  0.180335 -0.226273  0.180335\n",
              "7  -0.628206 -0.054239 -0.117152  ...  0.107193 -0.054239  0.107193\n",
              "8  -0.425875 -0.186647  0.085363  ... -0.074567 -0.186647 -0.074567\n",
              "9   0.294896  0.126185 -0.033427  ... -0.190705  0.126185 -0.190705\n",
              "10  0.044773  0.166821  0.230856  ... -0.232466  0.166821 -0.232466\n",
              "11  0.245434 -0.007406  0.322989  ...  0.098142 -0.007406  0.098142\n",
              "12  0.263463 -0.222014 -0.150023  ...  0.234629 -0.222014  0.234629\n",
              "13 -0.085199  0.009230 -0.217220  ... -0.355898  0.009230 -0.355898\n",
              "14  0.273089  0.073044 -0.036312  ...  0.073552  0.073044  0.073552\n",
              "15 -0.139701 -0.479964  0.176617  ...  0.121380 -0.479964  0.121380\n",
              "16  0.083564  0.188681  0.130289  ... -0.242846  0.188681 -0.242846\n",
              "17 -0.202977  0.295677  0.139381  ... -0.259550  0.295677 -0.259550\n",
              "18  0.178037 -0.057152  0.158520  ...  0.078344 -0.057152  0.078344\n",
              "19 -0.070897 -0.461758  0.103264  ...  0.303823 -0.461758  0.303823\n",
              "20  0.247504  0.182638  0.235457  ...  0.053001  0.182638  0.053001\n",
              "21 -0.028603  0.195807 -0.174219  ...  0.289511  0.195807  0.289511\n",
              "22  0.077693  0.216821  0.004752  ... -0.003916  0.216821 -0.003916\n",
              "23 -0.060568  0.041762  0.142753  ... -0.152423  0.041762 -0.152423\n",
              "24 -0.071690 -0.004007 -0.286930  ...  0.089029 -0.004007  0.089029\n",
              "25  0.095479 -0.200477 -0.107029  ...  1.000000 -0.200477  1.000000\n",
              "26  0.278658  1.000000 -0.038107  ... -0.200477  1.000000 -0.200477\n",
              "27  0.095479 -0.200477 -0.107029  ...  1.000000 -0.200477  1.000000\n",
              "\n",
              "[28 rows x 28 columns]"
            ]
          },
          "metadata": {
            "tags": []
          },
          "execution_count": 25
        }
      ]
    },
    {
      "cell_type": "code",
      "metadata": {
        "id": "ilctGmTbApdd",
        "colab": {
          "base_uri": "https://localhost:8080/"
        },
        "outputId": "1ee75c81-51fc-4beb-ebbc-a68781239d4f"
      },
      "source": [
        "corr.shape"
      ],
      "execution_count": 14,
      "outputs": [
        {
          "output_type": "execute_result",
          "data": {
            "text/plain": [
              "(28, 28)"
            ]
          },
          "metadata": {
            "tags": []
          },
          "execution_count": 14
        }
      ]
    },
    {
      "cell_type": "code",
      "metadata": {
        "id": "Evi8yQPiB9PM",
        "colab": {
          "base_uri": "https://localhost:8080/"
        },
        "outputId": "2daadb25-3c43-44f2-e636-c64bfea78bc3"
      },
      "source": [
        "for i in range(corr.shape[0]):        # ใช้ for loop เช็คความสัมพันธ์ของ Data ที่ corr เท่ากัน\n",
        "        for j in range(corr.shape[1]):\n",
        "            if (i !=j )  and (corr[i,j] == 1):\n",
        "                print(f'row = {i} column = {j} corrcoef = {corr[i,j]}')"
      ],
      "execution_count": 15,
      "outputs": [
        {
          "output_type": "stream",
          "text": [
            "row = 1 column = 26 corrcoef = 1.0\n",
            "row = 25 column = 27 corrcoef = 1.0\n",
            "row = 26 column = 1 corrcoef = 1.0\n",
            "row = 27 column = 25 corrcoef = 1.0\n"
          ],
          "name": "stdout"
        }
      ]
    },
    {
      "cell_type": "code",
      "metadata": {
        "id": "zgDsbGjUC8Zy",
        "colab": {
          "base_uri": "https://localhost:8080/",
          "height": 439
        },
        "outputId": "b43e3a25-5ac1-467f-a00d-729a9792a3b4"
      },
      "source": [
        "new_data = Data.iloc[:,:25]\n",
        "new_data"
      ],
      "execution_count": 16,
      "outputs": [
        {
          "output_type": "execute_result",
          "data": {
            "text/html": [
              "<div>\n",
              "<style scoped>\n",
              "    .dataframe tbody tr th:only-of-type {\n",
              "        vertical-align: middle;\n",
              "    }\n",
              "\n",
              "    .dataframe tbody tr th {\n",
              "        vertical-align: top;\n",
              "    }\n",
              "\n",
              "    .dataframe thead th {\n",
              "        text-align: right;\n",
              "    }\n",
              "</style>\n",
              "<table border=\"1\" class=\"dataframe\">\n",
              "  <thead>\n",
              "    <tr style=\"text-align: right;\">\n",
              "      <th></th>\n",
              "      <th>0</th>\n",
              "      <th>1</th>\n",
              "      <th>2</th>\n",
              "      <th>3</th>\n",
              "      <th>4</th>\n",
              "      <th>5</th>\n",
              "      <th>6</th>\n",
              "      <th>7</th>\n",
              "      <th>8</th>\n",
              "      <th>9</th>\n",
              "      <th>10</th>\n",
              "      <th>11</th>\n",
              "      <th>12</th>\n",
              "      <th>13</th>\n",
              "      <th>14</th>\n",
              "      <th>15</th>\n",
              "      <th>16</th>\n",
              "      <th>17</th>\n",
              "      <th>18</th>\n",
              "      <th>19</th>\n",
              "      <th>20</th>\n",
              "      <th>21</th>\n",
              "      <th>22</th>\n",
              "      <th>23</th>\n",
              "      <th>24</th>\n",
              "    </tr>\n",
              "  </thead>\n",
              "  <tbody>\n",
              "    <tr>\n",
              "      <th>0</th>\n",
              "      <td>8.268476</td>\n",
              "      <td>-2.596313</td>\n",
              "      <td>7.992211</td>\n",
              "      <td>4.880832</td>\n",
              "      <td>1.732595</td>\n",
              "      <td>-6.293575</td>\n",
              "      <td>-3.657833</td>\n",
              "      <td>-9.548312</td>\n",
              "      <td>-9.605208</td>\n",
              "      <td>-4.574406</td>\n",
              "      <td>-7.675465</td>\n",
              "      <td>-1.070429</td>\n",
              "      <td>-4.188731</td>\n",
              "      <td>-8.595726</td>\n",
              "      <td>-0.948590</td>\n",
              "      <td>2.898074</td>\n",
              "      <td>-2.185454</td>\n",
              "      <td>-6.246731</td>\n",
              "      <td>6.154771</td>\n",
              "      <td>2.406650</td>\n",
              "      <td>8.057719</td>\n",
              "      <td>5.996282</td>\n",
              "      <td>8.496187</td>\n",
              "      <td>2.129260</td>\n",
              "      <td>-5.407412</td>\n",
              "    </tr>\n",
              "    <tr>\n",
              "      <th>1</th>\n",
              "      <td>-5.541735</td>\n",
              "      <td>-9.243634</td>\n",
              "      <td>3.367534</td>\n",
              "      <td>0.554720</td>\n",
              "      <td>8.833335</td>\n",
              "      <td>-1.149066</td>\n",
              "      <td>-7.842363</td>\n",
              "      <td>6.305232</td>\n",
              "      <td>7.613122</td>\n",
              "      <td>-4.290894</td>\n",
              "      <td>1.554569</td>\n",
              "      <td>5.624840</td>\n",
              "      <td>-0.684340</td>\n",
              "      <td>4.513337</td>\n",
              "      <td>-3.596036</td>\n",
              "      <td>1.536031</td>\n",
              "      <td>-5.937365</td>\n",
              "      <td>7.794545</td>\n",
              "      <td>3.413970</td>\n",
              "      <td>1.622969</td>\n",
              "      <td>6.993684</td>\n",
              "      <td>-7.529766</td>\n",
              "      <td>2.923467</td>\n",
              "      <td>5.619824</td>\n",
              "      <td>-4.308026</td>\n",
              "    </tr>\n",
              "    <tr>\n",
              "      <th>2</th>\n",
              "      <td>-3.775369</td>\n",
              "      <td>-4.298036</td>\n",
              "      <td>10.277296</td>\n",
              "      <td>10.995981</td>\n",
              "      <td>9.745449</td>\n",
              "      <td>1.538862</td>\n",
              "      <td>0.646659</td>\n",
              "      <td>-7.450337</td>\n",
              "      <td>7.173228</td>\n",
              "      <td>-5.037215</td>\n",
              "      <td>11.591833</td>\n",
              "      <td>1.228801</td>\n",
              "      <td>-0.842008</td>\n",
              "      <td>-9.294036</td>\n",
              "      <td>-3.051721</td>\n",
              "      <td>6.218879</td>\n",
              "      <td>-1.817624</td>\n",
              "      <td>4.962123</td>\n",
              "      <td>-3.541439</td>\n",
              "      <td>7.416051</td>\n",
              "      <td>0.481664</td>\n",
              "      <td>-7.674120</td>\n",
              "      <td>-2.427914</td>\n",
              "      <td>5.772181</td>\n",
              "      <td>-0.759383</td>\n",
              "    </tr>\n",
              "    <tr>\n",
              "      <th>3</th>\n",
              "      <td>-9.516386</td>\n",
              "      <td>-1.593986</td>\n",
              "      <td>0.167019</td>\n",
              "      <td>-5.246101</td>\n",
              "      <td>-10.128708</td>\n",
              "      <td>3.757150</td>\n",
              "      <td>-1.396607</td>\n",
              "      <td>3.908383</td>\n",
              "      <td>6.786490</td>\n",
              "      <td>-10.190468</td>\n",
              "      <td>-3.426993</td>\n",
              "      <td>0.790349</td>\n",
              "      <td>-8.884679</td>\n",
              "      <td>-6.302985</td>\n",
              "      <td>-5.635541</td>\n",
              "      <td>4.033729</td>\n",
              "      <td>-5.233910</td>\n",
              "      <td>4.679210</td>\n",
              "      <td>-1.588548</td>\n",
              "      <td>7.092357</td>\n",
              "      <td>3.156782</td>\n",
              "      <td>3.145927</td>\n",
              "      <td>-7.879204</td>\n",
              "      <td>3.741720</td>\n",
              "      <td>9.562651</td>\n",
              "    </tr>\n",
              "    <tr>\n",
              "      <th>4</th>\n",
              "      <td>8.517287</td>\n",
              "      <td>-2.633188</td>\n",
              "      <td>-6.002154</td>\n",
              "      <td>-5.284413</td>\n",
              "      <td>-5.206580</td>\n",
              "      <td>1.111543</td>\n",
              "      <td>8.001509</td>\n",
              "      <td>-8.263739</td>\n",
              "      <td>-9.518081</td>\n",
              "      <td>10.469121</td>\n",
              "      <td>-5.468205</td>\n",
              "      <td>8.198344</td>\n",
              "      <td>9.083146</td>\n",
              "      <td>-10.636671</td>\n",
              "      <td>-9.414222</td>\n",
              "      <td>-4.118193</td>\n",
              "      <td>2.950821</td>\n",
              "      <td>-3.637806</td>\n",
              "      <td>-1.525345</td>\n",
              "      <td>7.384462</td>\n",
              "      <td>1.391205</td>\n",
              "      <td>-6.005914</td>\n",
              "      <td>-2.668039</td>\n",
              "      <td>-1.916942</td>\n",
              "      <td>8.323421</td>\n",
              "    </tr>\n",
              "    <tr>\n",
              "      <th>...</th>\n",
              "      <td>...</td>\n",
              "      <td>...</td>\n",
              "      <td>...</td>\n",
              "      <td>...</td>\n",
              "      <td>...</td>\n",
              "      <td>...</td>\n",
              "      <td>...</td>\n",
              "      <td>...</td>\n",
              "      <td>...</td>\n",
              "      <td>...</td>\n",
              "      <td>...</td>\n",
              "      <td>...</td>\n",
              "      <td>...</td>\n",
              "      <td>...</td>\n",
              "      <td>...</td>\n",
              "      <td>...</td>\n",
              "      <td>...</td>\n",
              "      <td>...</td>\n",
              "      <td>...</td>\n",
              "      <td>...</td>\n",
              "      <td>...</td>\n",
              "      <td>...</td>\n",
              "      <td>...</td>\n",
              "      <td>...</td>\n",
              "      <td>...</td>\n",
              "    </tr>\n",
              "    <tr>\n",
              "      <th>9995</th>\n",
              "      <td>-8.438050</td>\n",
              "      <td>-11.532893</td>\n",
              "      <td>3.500144</td>\n",
              "      <td>0.902122</td>\n",
              "      <td>6.770527</td>\n",
              "      <td>0.264964</td>\n",
              "      <td>-7.941869</td>\n",
              "      <td>5.899492</td>\n",
              "      <td>8.797812</td>\n",
              "      <td>-3.200372</td>\n",
              "      <td>1.744145</td>\n",
              "      <td>4.942503</td>\n",
              "      <td>-0.908047</td>\n",
              "      <td>4.134697</td>\n",
              "      <td>-4.691043</td>\n",
              "      <td>2.237342</td>\n",
              "      <td>-7.053989</td>\n",
              "      <td>9.374583</td>\n",
              "      <td>2.790000</td>\n",
              "      <td>2.574864</td>\n",
              "      <td>7.757036</td>\n",
              "      <td>-8.193309</td>\n",
              "      <td>0.630268</td>\n",
              "      <td>5.369558</td>\n",
              "      <td>-3.362908</td>\n",
              "    </tr>\n",
              "    <tr>\n",
              "      <th>9996</th>\n",
              "      <td>1.440452</td>\n",
              "      <td>9.868928</td>\n",
              "      <td>-0.191936</td>\n",
              "      <td>6.426725</td>\n",
              "      <td>-9.886727</td>\n",
              "      <td>-9.122644</td>\n",
              "      <td>-8.368794</td>\n",
              "      <td>0.815915</td>\n",
              "      <td>-7.175130</td>\n",
              "      <td>1.679599</td>\n",
              "      <td>-3.697115</td>\n",
              "      <td>1.094966</td>\n",
              "      <td>9.490640</td>\n",
              "      <td>-0.360154</td>\n",
              "      <td>3.689532</td>\n",
              "      <td>-8.798591</td>\n",
              "      <td>8.178292</td>\n",
              "      <td>9.908215</td>\n",
              "      <td>-5.931274</td>\n",
              "      <td>-7.596021</td>\n",
              "      <td>1.804961</td>\n",
              "      <td>7.577610</td>\n",
              "      <td>-4.782650</td>\n",
              "      <td>-7.291673</td>\n",
              "      <td>-5.860812</td>\n",
              "    </tr>\n",
              "    <tr>\n",
              "      <th>9997</th>\n",
              "      <td>9.588242</td>\n",
              "      <td>-6.021615</td>\n",
              "      <td>-6.020671</td>\n",
              "      <td>-4.915609</td>\n",
              "      <td>-5.086166</td>\n",
              "      <td>5.942247</td>\n",
              "      <td>5.485552</td>\n",
              "      <td>-9.911245</td>\n",
              "      <td>-8.228258</td>\n",
              "      <td>11.186496</td>\n",
              "      <td>-6.318238</td>\n",
              "      <td>7.261121</td>\n",
              "      <td>7.029409</td>\n",
              "      <td>-11.930434</td>\n",
              "      <td>-8.236129</td>\n",
              "      <td>-2.207784</td>\n",
              "      <td>0.740175</td>\n",
              "      <td>-5.861985</td>\n",
              "      <td>-3.145806</td>\n",
              "      <td>5.967559</td>\n",
              "      <td>2.261422</td>\n",
              "      <td>-4.497724</td>\n",
              "      <td>-2.186239</td>\n",
              "      <td>-4.027844</td>\n",
              "      <td>8.320766</td>\n",
              "    </tr>\n",
              "    <tr>\n",
              "      <th>9998</th>\n",
              "      <td>9.544732</td>\n",
              "      <td>-5.310680</td>\n",
              "      <td>-8.027318</td>\n",
              "      <td>-4.175691</td>\n",
              "      <td>-7.452056</td>\n",
              "      <td>2.083278</td>\n",
              "      <td>8.884436</td>\n",
              "      <td>-8.772328</td>\n",
              "      <td>-8.754921</td>\n",
              "      <td>11.380257</td>\n",
              "      <td>-7.093392</td>\n",
              "      <td>5.924515</td>\n",
              "      <td>8.330843</td>\n",
              "      <td>-10.249437</td>\n",
              "      <td>-8.879004</td>\n",
              "      <td>-2.572593</td>\n",
              "      <td>-0.449094</td>\n",
              "      <td>-5.779472</td>\n",
              "      <td>-2.457972</td>\n",
              "      <td>7.645739</td>\n",
              "      <td>0.273757</td>\n",
              "      <td>-5.716643</td>\n",
              "      <td>-0.488143</td>\n",
              "      <td>-3.832760</td>\n",
              "      <td>7.473491</td>\n",
              "    </tr>\n",
              "    <tr>\n",
              "      <th>9999</th>\n",
              "      <td>4.481939</td>\n",
              "      <td>8.594727</td>\n",
              "      <td>0.986249</td>\n",
              "      <td>6.278893</td>\n",
              "      <td>-8.860492</td>\n",
              "      <td>-9.703437</td>\n",
              "      <td>-9.461121</td>\n",
              "      <td>0.222791</td>\n",
              "      <td>-3.789649</td>\n",
              "      <td>2.449978</td>\n",
              "      <td>-1.492809</td>\n",
              "      <td>0.691245</td>\n",
              "      <td>7.731503</td>\n",
              "      <td>-1.004640</td>\n",
              "      <td>2.479561</td>\n",
              "      <td>-8.142981</td>\n",
              "      <td>7.872459</td>\n",
              "      <td>8.013822</td>\n",
              "      <td>-5.377282</td>\n",
              "      <td>-4.827244</td>\n",
              "      <td>2.220720</td>\n",
              "      <td>6.696881</td>\n",
              "      <td>-6.297984</td>\n",
              "      <td>-2.031162</td>\n",
              "      <td>-7.837512</td>\n",
              "    </tr>\n",
              "  </tbody>\n",
              "</table>\n",
              "<p>10000 rows × 25 columns</p>\n",
              "</div>"
            ],
            "text/plain": [
              "            0          1          2   ...        22        23        24\n",
              "0     8.268476  -2.596313   7.992211  ...  8.496187  2.129260 -5.407412\n",
              "1    -5.541735  -9.243634   3.367534  ...  2.923467  5.619824 -4.308026\n",
              "2    -3.775369  -4.298036  10.277296  ... -2.427914  5.772181 -0.759383\n",
              "3    -9.516386  -1.593986   0.167019  ... -7.879204  3.741720  9.562651\n",
              "4     8.517287  -2.633188  -6.002154  ... -2.668039 -1.916942  8.323421\n",
              "...        ...        ...        ...  ...       ...       ...       ...\n",
              "9995 -8.438050 -11.532893   3.500144  ...  0.630268  5.369558 -3.362908\n",
              "9996  1.440452   9.868928  -0.191936  ... -4.782650 -7.291673 -5.860812\n",
              "9997  9.588242  -6.021615  -6.020671  ... -2.186239 -4.027844  8.320766\n",
              "9998  9.544732  -5.310680  -8.027318  ... -0.488143 -3.832760  7.473491\n",
              "9999  4.481939   8.594727   0.986249  ... -6.297984 -2.031162 -7.837512\n",
              "\n",
              "[10000 rows x 25 columns]"
            ]
          },
          "metadata": {
            "tags": []
          },
          "execution_count": 16
        }
      ]
    },
    {
      "cell_type": "markdown",
      "metadata": {
        "id": "H8bm4YpYF1tq"
      },
      "source": [
        "#*K-Means*"
      ]
    },
    {
      "cell_type": "markdown",
      "metadata": {
        "id": "0wIcBETbHDeX"
      },
      "source": [
        "**Import**"
      ]
    },
    {
      "cell_type": "code",
      "metadata": {
        "id": "oq4pzn1GGLDg"
      },
      "source": [
        "from sklearn.cluster import KMeans   ## เริ่มทำการ import ก่อน\n",
        "import matplotlib.pyplot as plt          \n",
        "from sklearn.decomposition import PCA"
      ],
      "execution_count": 11,
      "outputs": []
    },
    {
      "cell_type": "markdown",
      "metadata": {
        "id": "EptW2fH5G-su"
      },
      "source": [
        "**Define**"
      ]
    },
    {
      "cell_type": "code",
      "metadata": {
        "id": "Ja-dV4shGyKO"
      },
      "source": [
        "kmeans = KMeans()  ### กำหนด define \n",
        "pca1 = PCA()"
      ],
      "execution_count": 18,
      "outputs": []
    },
    {
      "cell_type": "markdown",
      "metadata": {
        "id": "PzaP_5wTG4ue"
      },
      "source": [
        "**Fit - Transform**"
      ]
    },
    {
      "cell_type": "code",
      "metadata": {
        "id": "UYQRyRSeHLx_",
        "colab": {
          "base_uri": "https://localhost:8080/"
        },
        "outputId": "ba591b3d-bed7-4cc9-e207-2c2ac6568348"
      },
      "source": [
        "kmeans.fit(Data) # เเสดง จุด cluster centers ที่คำนวณออกมาได้"
      ],
      "execution_count": 19,
      "outputs": [
        {
          "output_type": "execute_result",
          "data": {
            "text/plain": [
              "KMeans(algorithm='auto', copy_x=True, init='k-means++', max_iter=300,\n",
              "       n_clusters=8, n_init=10, n_jobs=None, precompute_distances='auto',\n",
              "       random_state=None, tol=0.0001, verbose=0)"
            ]
          },
          "metadata": {
            "tags": []
          },
          "execution_count": 19
        }
      ]
    },
    {
      "cell_type": "code",
      "metadata": {
        "id": "jYaUJuxwHNWq",
        "colab": {
          "base_uri": "https://localhost:8080/"
        },
        "outputId": "2f95dfaf-b617-4a5d-f038-cd90c2d95f33"
      },
      "source": [
        "kmeans.cluster_centers_ #เรียกดูค่า k-mean center ในแต่ละ cluster"
      ],
      "execution_count": 20,
      "outputs": [
        {
          "output_type": "execute_result",
          "data": {
            "text/plain": [
              "array([[ 2.94963402e+00,  6.34557021e+00,  3.55023309e+00,\n",
              "        -6.45371746e+00, -2.86876677e+00, -8.83628204e-01,\n",
              "        -6.63786621e+00, -2.50380329e+00, -7.95929080e-01,\n",
              "         2.59506443e+00,  6.89624650e+00, -7.75681439e-01,\n",
              "        -8.02500311e+00, -9.24212356e-01, -3.69789056e+00,\n",
              "        -1.24527810e+00,  5.26838977e+00,  5.95944211e+00,\n",
              "         2.03213071e+00, -2.73690652e+00,  5.74872038e-01,\n",
              "        -3.35465772e+00,  4.97977238e+00,  2.83892616e+00,\n",
              "        -2.91579890e+00, -4.35158983e+00,  1.46911404e+01,\n",
              "        -2.17579492e+01],\n",
              "       [-1.32497609e+00, -4.47525251e+00, -2.41903780e+00,\n",
              "        -9.82168546e-01, -4.60682213e+00, -6.60082867e+00,\n",
              "        -1.79323945e+00, -6.06154883e+00,  6.66146102e+00,\n",
              "        -2.13585904e+00, -2.65960429e+00, -2.30255465e+00,\n",
              "         5.45972569e+00,  5.80794247e+00,  3.76255492e+00,\n",
              "         1.28615433e+00,  1.43051969e+00, -6.07332871e-01,\n",
              "         3.82711249e+00,  6.34036611e-01, -1.52301120e+00,\n",
              "        -3.45919260e+00, -6.06598783e-03, -2.95770462e+00,\n",
              "        -5.51510949e+00, -3.27128035e+00, -6.95050503e+00,\n",
              "        -1.63564017e+01],\n",
              "       [ 5.18648648e+00,  5.48422542e+00, -5.06857350e+00,\n",
              "         5.06933734e+00, -6.53119309e+00, -7.76210040e+00,\n",
              "        -2.58852716e+00, -4.39255962e+00, -1.13847838e+00,\n",
              "         1.09569141e+00,  1.56592548e+00, -4.45562682e-01,\n",
              "         4.18920728e+00,  2.03847530e+00,  6.38857382e+00,\n",
              "        -1.84467417e+00, -1.31732469e+00,  3.72343084e+00,\n",
              "        -2.23376133e+00, -1.92998441e+00,  5.37566168e+00,\n",
              "         7.33388278e+00, -1.96304623e+00, -8.72965259e-01,\n",
              "         2.92473691e+00,  3.60445257e+00,  1.29684508e+01,\n",
              "         1.80222629e+01],\n",
              "       [-3.48583204e+00, -4.40057752e-01, -2.35954700e+00,\n",
              "        -9.34034085e-01,  2.40090551e+00, -1.53396105e+00,\n",
              "        -1.63119409e+00,  3.35026432e+00,  3.81782743e+00,\n",
              "         8.72041859e-02,  5.87691846e+00, -2.20837635e+00,\n",
              "         3.43408227e-01, -2.43603585e+00,  1.41618889e+00,\n",
              "         3.94291513e+00, -9.18052133e-02, -3.45865471e+00,\n",
              "         2.80591755e+00, -2.36465771e+00, -6.38457333e+00,\n",
              "         4.63780595e+00,  6.61265244e+00, -3.61085380e+00,\n",
              "        -1.00940169e+00,  4.42008956e+00,  1.11988450e+00,\n",
              "         2.21004478e+01],\n",
              "       [-8.21710554e+00, -5.45417353e+00,  2.67959190e+00,\n",
              "        -1.42496254e+00, -6.62097332e-01,  2.00098990e+00,\n",
              "        -3.84146915e+00,  5.68425046e+00,  8.20565084e+00,\n",
              "        -6.94235409e+00, -8.29660961e-01,  2.93272097e+00,\n",
              "        -4.98330280e+00, -3.77735679e-01, -5.35011186e+00,\n",
              "         3.13185743e+00, -5.46499631e+00,  5.93550472e+00,\n",
              "         1.09995903e+00,  5.14562853e+00,  5.81347633e+00,\n",
              "        -2.43607995e+00, -2.83659463e+00,  3.56850581e+00,\n",
              "         2.05856361e+00,  8.43097365e+00, -8.90834706e+00,\n",
              "         4.21548682e+01],\n",
              "       [-5.50343429e+00,  9.25977620e-01, -1.61425602e-01,\n",
              "         9.99284582e-01,  7.77351051e+00,  3.23062679e+00,\n",
              "        -4.49382658e+00,  1.84627876e+00,  1.14474152e+00,\n",
              "         9.54024352e+00, -5.25093378e+00,  7.01155841e+00,\n",
              "        -9.48759576e-01,  2.50971904e-01, -4.54310342e+00,\n",
              "        -2.60659921e+00, -3.64972232e+00, -9.02579674e-02,\n",
              "        -7.46133870e+00,  3.85133557e-01,  7.78914273e+00,\n",
              "         5.08831812e+00,  7.81142246e-01, -2.06294648e+00,\n",
              "         8.99348953e+00, -4.90355140e+00,  3.85195524e+00,\n",
              "        -2.45177570e+01],\n",
              "       [ 8.53484421e+00, -4.07954522e+00,  5.39000216e-01,\n",
              "         7.14372549e-01, -4.39041009e+00, -1.88031787e+00,\n",
              "         9.46318339e-02, -9.42058151e+00, -8.97051857e+00,\n",
              "         3.09185867e+00, -7.58899499e+00,  4.02911435e+00,\n",
              "         3.66011110e+00, -9.16416198e+00, -4.37718872e+00,\n",
              "        -1.88594137e-01, -9.65143416e-01, -5.19675518e+00,\n",
              "         1.92256848e+00,  5.19674307e+00,  4.69458729e+00,\n",
              "         7.09766179e-01,  3.54786303e+00, -1.10672309e+00,\n",
              "         1.36570460e+00,  8.54692931e+00, -6.15909044e+00,\n",
              "         4.27346466e+01],\n",
              "       [-7.49352259e+00, -6.24075392e+00,  1.51433523e-01,\n",
              "         4.69685026e+00,  6.65763092e+00, -1.70454648e+00,\n",
              "         8.45924015e-01, -4.14299140e-03, -1.20700737e-01,\n",
              "        -4.35146107e+00,  8.72454458e+00, -3.93051893e+00,\n",
              "        -5.45650245e+00, -3.11392759e+00, -4.45672714e+00,\n",
              "         7.41163574e+00,  7.90651809e-02,  4.43558252e+00,\n",
              "        -3.90458337e+00,  1.85835526e+00, -2.24065364e+00,\n",
              "        -1.92906384e+00, -2.22517013e+00,  4.56908269e+00,\n",
              "         3.76674000e-01, -3.79849230e+00, -1.04815078e+01,\n",
              "        -1.89924615e+01]])"
            ]
          },
          "metadata": {
            "tags": []
          },
          "execution_count": 20
        }
      ]
    },
    {
      "cell_type": "markdown",
      "metadata": {
        "id": "3NwyTIH3HdDH"
      },
      "source": [
        "## ทำ PCA เพื่อลด Dimension ของข้อมูลเนื่องจากมีจำนวน Dimension ที่เยอะเกินไป\n"
      ]
    },
    {
      "cell_type": "markdown",
      "metadata": {
        "id": "bNpQ_1oYIOM5"
      },
      "source": [
        "**Import**"
      ]
    },
    {
      "cell_type": "code",
      "metadata": {
        "id": "wPG2b75FIfVw"
      },
      "source": [
        "from sklearn.decomposition import PCA"
      ],
      "execution_count": 22,
      "outputs": []
    },
    {
      "cell_type": "markdown",
      "metadata": {
        "id": "bH1S8gYUItUx"
      },
      "source": [
        "**Define**"
      ]
    },
    {
      "cell_type": "code",
      "metadata": {
        "id": "WGJd-5iRIsSR"
      },
      "source": [
        "pca = PCA(n_components=2)"
      ],
      "execution_count": 23,
      "outputs": []
    },
    {
      "cell_type": "markdown",
      "metadata": {
        "id": "S11N17uMI5gJ"
      },
      "source": [
        "**Fit - Transform**"
      ]
    },
    {
      "cell_type": "code",
      "metadata": {
        "id": "Efx8fzE9I7kH"
      },
      "source": [
        "new_pca = pca.fit_transform(Data)"
      ],
      "execution_count": 24,
      "outputs": []
    },
    {
      "cell_type": "code",
      "metadata": {
        "id": "lr0zEuAVI_hk",
        "colab": {
          "base_uri": "https://localhost:8080/"
        },
        "outputId": "36cde3ad-606b-413a-f0bd-921fc17b3fad"
      },
      "source": [
        "new_pca.shape # จะเห็นว่า dimension เหลือเเค่ 2 dimension"
      ],
      "execution_count": 25,
      "outputs": [
        {
          "output_type": "execute_result",
          "data": {
            "text/plain": [
              "(10000, 2)"
            ]
          },
          "metadata": {
            "tags": []
          },
          "execution_count": 25
        }
      ]
    },
    {
      "cell_type": "code",
      "metadata": {
        "id": "oyHj5EOKJNeb",
        "colab": {
          "base_uri": "https://localhost:8080/",
          "height": 282
        },
        "outputId": "35669c6e-2ec9-43a0-fe9c-bee466f658bc"
      },
      "source": [
        "kmeans = KMeans()         \n",
        "kmeans.fit(Data)\n",
        "y = kmeans.predict(Data)\n",
        "plt.scatter(new_pca[:,0],new_pca[:,1],c=y)   # plot กราฟดูการกระจายของ Data"
      ],
      "execution_count": 26,
      "outputs": [
        {
          "output_type": "execute_result",
          "data": {
            "text/plain": [
              "<matplotlib.collections.PathCollection at 0x7faf0dfd23d0>"
            ]
          },
          "metadata": {
            "tags": []
          },
          "execution_count": 26
        },
        {
          "output_type": "display_data",
          "data": {
            "image/png": "[encoded data removed]",
            "text/plain": [
              "<Figure size 432x288 with 1 Axes>"
            ]
          },
          "metadata": {
            "tags": [],
            "needs_background": "light"
          }
        }
      ]
    },
    {
      "cell_type": "code",
      "metadata": {
        "id": "Jqq6TsmlJxsG",
        "colab": {
          "base_uri": "https://localhost:8080/",
          "height": 282
        },
        "outputId": "d574f7ca-b26a-4df3-b458-2b2551bc462d"
      },
      "source": [
        "plt.scatter(new_pca[:,0],new_pca[:,1],c=y) # cluster center\n",
        "plt.plot(kmeans.cluster_centers_[:,0],kmeans.cluster_centers_[:,1],'or')"
      ],
      "execution_count": 27,
      "outputs": [
        {
          "output_type": "execute_result",
          "data": {
            "text/plain": [
              "[<matplotlib.lines.Line2D at 0x7faf0da5d110>]"
            ]
          },
          "metadata": {
            "tags": []
          },
          "execution_count": 27
        },
        {
          "output_type": "display_data",
          "data": {
            "image/png": "[encoded data removed]",
            "text/plain": [
              "<Figure size 432x288 with 1 Axes>"
            ]
          },
          "metadata": {
            "tags": [],
            "needs_background": "light"
          }
        }
      ]
    },
    {
      "cell_type": "markdown",
      "metadata": {
        "id": "2M9MxH68J4iR"
      },
      "source": [
        "**ทำการหาค่า k ว่าควรจะเป็นเท่าไหร่ โดบการใช้ Elbow Method ในการช่วยหาค่า k ที่เหมาะสม**"
      ]
    },
    {
      "cell_type": "markdown",
      "metadata": {
        "id": "wfcx1t51J7FQ"
      },
      "source": [
        "#SSE (Sum of Squared Errors) คือ ความไม่ใกล้เคียงกับจุดศูนย์กลางมากน้อยเท่าไหน"
      ]
    },
    {
      "cell_type": "code",
      "metadata": {
        "id": "vJ9_oUkLKlXy"
      },
      "source": [
        "SSE = list()  # สร้าง list ชื่อว่า SSE      ### เพื่อหาค่า Sum of Squared Errors\n",
        "for k in [1,2,3,4,5,6,7,8]:   # for loop ตัวแปร k ตั้งแต่ 1-8  \n",
        "    kmeans = KMeans(n_clusters=k,random_state=2021)\n",
        "    kmeans.fit(Data)\n",
        "    SSE.append(kmeans.inertia_)"
      ],
      "execution_count": 28,
      "outputs": []
    },
    {
      "cell_type": "code",
      "metadata": {
        "id": "xp6A5IJBK6kr",
        "colab": {
          "base_uri": "https://localhost:8080/"
        },
        "outputId": "9224b742-3302-45dd-d4cc-f282d616b9e7"
      },
      "source": [
        "SSE #ค่า Sum of Squared Errors"
      ],
      "execution_count": 29,
      "outputs": [
        {
          "output_type": "execute_result",
          "data": {
            "text/plain": [
              "[16943434.160707638,\n",
              " 10489659.312723009,\n",
              " 9154442.622476546,\n",
              " 7973096.279283008,\n",
              " 7244800.145223601,\n",
              " 6660863.545110608,\n",
              " 6008729.302424032,\n",
              " 5374975.830697634]"
            ]
          },
          "metadata": {
            "tags": []
          },
          "execution_count": 29
        }
      ]
    },
    {
      "cell_type": "code",
      "metadata": {
        "id": "36ZbUM4yLGuj",
        "colab": {
          "base_uri": "https://localhost:8080/",
          "height": 290
        },
        "outputId": "36c46565-08cb-4cbf-a329-0c71b35eddf7"
      },
      "source": [
        "plt.plot([1,2,3,4,5,6,7,8],SSE,'o-b')  # plot กราฟแสดงค่า SSE\n",
        "plt.xlabel('k')  ## กำหนดให้แกน X ชื่อ \"K\"\n",
        "plt.ylabel('SSE');  ## กำหนดให้แกน Y ชื่อ \"Sum of Squared Errors\""
      ],
      "execution_count": 30,
      "outputs": [
        {
          "output_type": "display_data",
          "data": {
            "image/png": "[encoded data removed]",
            "text/plain": [
              "<Figure size 432x288 with 1 Axes>"
            ]
          },
          "metadata": {
            "tags": [],
            "needs_background": "light"
          }
        }
      ]
    },
    {
      "cell_type": "code",
      "metadata": {
        "id": "TbRoYc1-KpvZ",
        "colab": {
          "base_uri": "https://localhost:8080/"
        },
        "outputId": "07a66658-1a07-4b83-f199-6dc2ee9042e5"
      },
      "source": [
        "kmeans.inertia_  # ผลรวมของระยะทางกำลังสองของตัวอย่างไปยังศูนย์กลางคลัสเตอร์ที่ใกล้ที่สุด"
      ],
      "execution_count": 31,
      "outputs": [
        {
          "output_type": "execute_result",
          "data": {
            "text/plain": [
              "5374975.830697634"
            ]
          },
          "metadata": {
            "tags": []
          },
          "execution_count": 31
        }
      ]
    },
    {
      "cell_type": "markdown",
      "metadata": {
        "id": "pQXKYZvHFWG0"
      },
      "source": [
        "**เลือก k = 2 กลุ่ม**   เนื่องจากมีทิศทางการเปลี่ยนแปลงมากที่สุด"
      ]
    },
    {
      "cell_type": "markdown",
      "metadata": {
        "id": "AHKgo4vFLhcT"
      },
      "source": [
        "## Silhouette coefficient  คือ วิธีไว้ใช้หาจำนวน k ที่เหมาะสมที่สุด"
      ]
    },
    {
      "cell_type": "markdown",
      "metadata": {
        "id": "INad68FRMvMb"
      },
      "source": [
        "**#ข้อควรระวัง Silhouette coefficient ไม่สามารถคิดข้อมูลที่มีกลุ่มเดียวได้**"
      ]
    },
    {
      "cell_type": "code",
      "metadata": {
        "id": "XjQ_gBZ3Li7C"
      },
      "source": [
        "from sklearn import metrics # import metrics จาก sklearn"
      ],
      "execution_count": 32,
      "outputs": []
    },
    {
      "cell_type": "code",
      "metadata": {
        "id": "NaRrggBzL1k_"
      },
      "source": [
        "SilH = list()\n",
        "for k in [2,3,4,5,6,7,8]: # Silhouette Score เป็น 1 ไม่ได้\n",
        "    kmeans = KMeans(n_clusters=k,random_state=2021)\n",
        "    kmeans.fit(Data)\n",
        "    score = metrics.silhouette_score(Data,kmeans.labels_)\n",
        "    SilH.append(score)"
      ],
      "execution_count": 33,
      "outputs": []
    },
    {
      "cell_type": "code",
      "metadata": {
        "id": "TjYauo4J_xvT",
        "outputId": "4871f579-7e0d-4c94-a4f1-b6ae9625ce5e",
        "colab": {
          "base_uri": "https://localhost:8080/"
        }
      },
      "source": [
        "SilH         ### ค่า Silhouette Score"
      ],
      "execution_count": 35,
      "outputs": [
        {
          "output_type": "execute_result",
          "data": {
            "text/plain": [
              "[0.3348009055872885,\n",
              " 0.27381680694355426,\n",
              " 0.25569447338385126,\n",
              " 0.284911669335655,\n",
              " 0.30192071219289374,\n",
              " 0.32402430704803303,\n",
              " 0.3582720597944491]"
            ]
          },
          "metadata": {
            "tags": []
          },
          "execution_count": 35
        }
      ]
    },
    {
      "cell_type": "code",
      "metadata": {
        "id": "nZyyAqufLma4",
        "colab": {
          "base_uri": "https://localhost:8080/",
          "height": 279
        },
        "outputId": "52808013-efac-42d8-876e-75406bd318c1"
      },
      "source": [
        "plt.plot([2,3,4,5,6,7,8],SilH,'o-g') # ทำการ Silhouette ดีที่สุดที่ คือ 2\n",
        "plt.xlabel('k')\n",
        "plt.ylabel('Silhouette Score');"
      ],
      "execution_count": 34,
      "outputs": [
        {
          "output_type": "display_data",
          "data": {
            "image/png": "[encoded data removed]",
            "text/plain": [
              "<Figure size 432x288 with 1 Axes>"
            ]
          },
          "metadata": {
            "tags": [],
            "needs_background": "light"
          }
        }
      ]
    },
    {
      "cell_type": "markdown",
      "metadata": {
        "id": "EKRxBNT8AJtZ"
      },
      "source": [
        "จากกราฟ k = 8 มีค่า Silhouette Score สูงที่สุด แสดงว่า ข้อมูลมีความใกล้กันมากในกลุ่มเดียวกันและมีความห่างกันมากของต่างกลุ่มกัน\n",
        "\n",
        "ดังนั้น ข้อมูลชุดนี้ควรมี 8 กลุ่ม"
      ]
    },
    {
      "cell_type": "code",
      "metadata": {
        "id": "i26uUG6bAZGW"
      },
      "source": [
        ""
      ],
      "execution_count": null,
      "outputs": []
    },
    {
      "cell_type": "markdown",
      "metadata": {
        "id": "72eArs73NAf2"
      },
      "source": [
        "# 3. ลด Dimension ของข้อมูลเหลือ 2 มิติ แล้วทำ clustering แล้ว visualize ข้อมูลแบบ 2 มิติ"
      ]
    },
    {
      "cell_type": "markdown",
      "metadata": {
        "id": "qNzjVB6ENCy7"
      },
      "source": [
        "**ใช้วิธี MDS (Multidimension Scaling) คือ การลดขนาดของตัวเเปร จากที่มีเยอะให้เหลือน้อยๆ**"
      ]
    },
    {
      "cell_type": "code",
      "metadata": {
        "id": "FmfY7AYMJgQn"
      },
      "source": [
        "from sklearn.manifold import MDS"
      ],
      "execution_count": 31,
      "outputs": []
    },
    {
      "cell_type": "code",
      "metadata": {
        "id": "w9hkI0VgJ_2H"
      },
      "source": [
        "mds = MDS(n_components=2)"
      ],
      "execution_count": 32,
      "outputs": []
    },
    {
      "cell_type": "code",
      "metadata": {
        "id": "gflBCcEdKDD_"
      },
      "source": [
        "new_mds = mds.fit_transform(Data)"
      ],
      "execution_count": 33,
      "outputs": []
    },
    {
      "cell_type": "code",
      "metadata": {
        "id": "azqOb15zS1nD"
      },
      "source": [
        "kmeans_2 = KMeans(n_clusters=8,random_state=2021)  #ให้ k= 8   \n",
        "kmeans_2.fit(Data)\n",
        "g = kmeans_2.predict(Data)"
      ],
      "execution_count": 34,
      "outputs": []
    },
    {
      "cell_type": "code",
      "metadata": {
        "id": "EdTYD4LGoFmm",
        "outputId": "401a861a-01cc-4c5d-89f7-c04f7a4c6f37",
        "colab": {
          "base_uri": "https://localhost:8080/",
          "height": 282
        }
      },
      "source": [
        "kmeans= KMeans(random_state=2021)\n",
        "kmeans.fit(Data)\n",
        "y = kmeans.predict(Data)\n",
        "plt.scatter(new_mds[:,0],new_mds[:,1],c=y) #ผลลัพธ์ของการทำ MDS"
      ],
      "execution_count": 35,
      "outputs": [
        {
          "output_type": "execute_result",
          "data": {
            "text/plain": [
              "<matplotlib.collections.PathCollection at 0x7fd4f4da5b50>"
            ]
          },
          "metadata": {
            "tags": []
          },
          "execution_count": 35
        },
        {
          "output_type": "display_data",
          "data": {
            "image/png": "[encoded data removed]",
            "text/plain": [
              "<Figure size 432x288 with 1 Axes>"
            ]
          },
          "metadata": {
            "tags": [],
            "needs_background": "light"
          }
        }
      ]
    },
    {
      "cell_type": "markdown",
      "metadata": {
        "id": "6uvmp3GuoOjt"
      },
      "source": [
        "# **4. เปรียบเทียบความแตกต่างของผลข้อ 2. กับ ข้อ 3.**"
      ]
    },
    {
      "cell_type": "markdown",
      "metadata": {
        "id": "mEoPzWg1pSol"
      },
      "source": [
        "**รูปข้อที่ 2**"
      ]
    },
    {
      "cell_type": "markdown",
      "metadata": {
        "id": "Wn71r_2HpXnd"
      },
      "source": [
        "![image.png](data:image/png;base64,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)"
      ]
    },
    {
      "cell_type": "markdown",
      "metadata": {
        "id": "9NmB1Dx2pdSk"
      },
      "source": [
        "**รูปข้อที่ 3**"
      ]
    },
    {
      "cell_type": "markdown",
      "metadata": {
        "id": "zeDqtccCpiAu"
      },
      "source": [
        "![image.png](data:image/png;base64,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)"
      ]
    },
    {
      "cell_type": "markdown",
      "metadata": {
        "id": "MuI-rEq0pkyZ"
      },
      "source": [
        "\n",
        "**เปรียบเทียบระหว่างข้อ 2 กับ ข้อ 3 พบว่า หลังจากการลด dimension ของข้อมูลด้วย mds เเล้วข้อมูลมีการกระจายที่เเตกต่างกัน ***"
      ]
    }
  ]
}