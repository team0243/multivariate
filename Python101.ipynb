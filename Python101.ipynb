{
  "nbformat": 4,
  "nbformat_minor": 0,
  "metadata": {
    "colab": {
      "name": "Python101.ipynb",
      "provenance": [],
      "authorship_tag": "ABX9TyM0V92ClN/TAQKotq3onJIi",
      "include_colab_link": true
    },
    "kernelspec": {
      "name": "python3",
      "display_name": "Python 3"
    }
  },
  "cells": [
    {
      "cell_type": "markdown",
      "metadata": {
        "id": "view-in-github",
        "colab_type": "text"
      },
      "source": [
        "<a href=\"https://colab.research.google.com/github/team0243/multivariate/blob/main/Python101.ipynb\" target=\"_parent\"><img src=\"https://colab.research.google.com/assets/colab-badge.svg\" alt=\"Open In Colab\"/></a>"
      ]
    },
    {
      "cell_type": "markdown",
      "metadata": {
        "id": "Y1rYHWhdLwKG"
      },
      "source": [
        "ตัวแปร Variable\r\n",
        "\r\n",
        "หลักการตั้งชื่อตัวแปรเบื้องต้น\r\n",
        "1. ตั้งให้สื่อ\r\n",
        "2. ภาษาอังกฤษ\r\n",
        "3. ใช้ตัวเลขได้แต่ห้ามขึ้นต้นด้วยตัวเลข\r\n",
        "4. ห้ามเว้นวรรค\r\n",
        "5. ตัวเล็กกับตัวใหญ่ไม่เหมือนกัน\r\n"
      ]
    },
    {
      "cell_type": "code",
      "metadata": {
        "id": "gs1-2mN8h2GF"
      },
      "source": [
        ""
      ],
      "execution_count": null,
      "outputs": []
    },
    {
      "cell_type": "markdown",
      "metadata": {
        "id": "nwWx7iYqMfCa"
      },
      "source": [
        "มี output 2 mode : ออกหน้าจอ กับเข้าไปเก็บในตัวแปร"
      ]
    },
    {
      "cell_type": "code",
      "metadata": {
        "colab": {
          "base_uri": "https://localhost:8080/"
        },
        "id": "JjNQlM78Lq13",
        "outputId": "88cb57c5-f038-4982-8e6d-72cfa687a91e"
      },
      "source": [
        "3.1459              #hastag หรือ sharp คือ comment >>> อันนี้คือ output ที่ออกหน้าจอ"
      ],
      "execution_count": null,
      "outputs": [
        {
          "output_type": "execute_result",
          "data": {
            "text/plain": [
              "3.1459"
            ]
          },
          "metadata": {
            "tags": []
          },
          "execution_count": 1
        }
      ]
    },
    {
      "cell_type": "code",
      "metadata": {
        "id": "ec6kjI78MXIB"
      },
      "source": [
        "Pi = 3.1459"
      ],
      "execution_count": null,
      "outputs": []
    },
    {
      "cell_type": "code",
      "metadata": {
        "colab": {
          "base_uri": "https://localhost:8080/"
        },
        "id": "XB-ND55gM2TU",
        "outputId": "72b8f916-351e-4b34-d02c-2e1845f9eb5e"
      },
      "source": [
        "Pi"
      ],
      "execution_count": null,
      "outputs": [
        {
          "output_type": "execute_result",
          "data": {
            "text/plain": [
              "3.1459"
            ]
          },
          "metadata": {
            "tags": []
          },
          "execution_count": 6
        }
      ]
    },
    {
      "cell_type": "code",
      "metadata": {
        "colab": {
          "base_uri": "https://localhost:8080/"
        },
        "id": "XJKgftqlM3LT",
        "outputId": "fe78552f-7449-4c2e-e1c6-59a531b1e7cf"
      },
      "source": [
        "a = 1234567\r\n",
        "print(a)"
      ],
      "execution_count": null,
      "outputs": [
        {
          "output_type": "stream",
          "text": [
            "1234567\n"
          ],
          "name": "stdout"
        }
      ]
    },
    {
      "cell_type": "code",
      "metadata": {
        "colab": {
          "base_uri": "https://localhost:8080/"
        },
        "id": "XHTuo9BJNKq-",
        "outputId": "e13f3cfa-e2cd-43b8-faa3-95664f736817"
      },
      "source": [
        "C = 11\r\n",
        "print(C)"
      ],
      "execution_count": null,
      "outputs": [
        {
          "output_type": "stream",
          "text": [
            "11\n"
          ],
          "name": "stdout"
        }
      ]
    },
    {
      "cell_type": "markdown",
      "metadata": {
        "id": "ho36zkgXNauH"
      },
      "source": [
        "###ชนิดของตัวแปร 3 ชนิด\r\n",
        "\r\n"
      ]
    },
    {
      "cell_type": "markdown",
      "metadata": {
        "id": "cKGpHVY9PEAK"
      },
      "source": [
        "###จำนวนเต็ม(integer,int)"
      ]
    },
    {
      "cell_type": "code",
      "metadata": {
        "colab": {
          "base_uri": "https://localhost:8080/"
        },
        "id": "-4RTr0cuOkFi",
        "outputId": "0bc8a133-ca44-44b4-cf9b-399ac4befdc5"
      },
      "source": [
        "\r\n",
        "ac = 566\r\n",
        "print(ac)"
      ],
      "execution_count": null,
      "outputs": [
        {
          "output_type": "stream",
          "text": [
            "566\n"
          ],
          "name": "stdout"
        }
      ]
    },
    {
      "cell_type": "code",
      "metadata": {
        "id": "bLr4yCtwO5PH",
        "colab": {
          "base_uri": "https://localhost:8080/"
        },
        "outputId": "dca4344b-f1af-4b93-d4f4-636266c15f8a"
      },
      "source": [
        "aaa = 255\r\n",
        "print(aaa)"
      ],
      "execution_count": null,
      "outputs": [
        {
          "output_type": "stream",
          "text": [
            "255\n"
          ],
          "name": "stdout"
        }
      ]
    },
    {
      "cell_type": "markdown",
      "metadata": {
        "id": "koDqltyMPIK0"
      },
      "source": [
        "###จำนวนจริง(float)\r\n"
      ]
    },
    {
      "cell_type": "code",
      "metadata": {
        "colab": {
          "base_uri": "https://localhost:8080/"
        },
        "id": "1rAEp1wPPPrT",
        "outputId": "77177437-314f-43f6-f5c5-043662b5cdd5"
      },
      "source": [
        "bbb = 22.2\r\n",
        "print(bbb)"
      ],
      "execution_count": null,
      "outputs": [
        {
          "output_type": "stream",
          "text": [
            "22.2\n"
          ],
          "name": "stdout"
        }
      ]
    },
    {
      "cell_type": "code",
      "metadata": {
        "id": "k_LgK1zPPYCJ"
      },
      "source": [
        ""
      ],
      "execution_count": null,
      "outputs": []
    },
    {
      "cell_type": "markdown",
      "metadata": {
        "id": "U4NV076-PhrG"
      },
      "source": [
        "###ตัวอักษร-ข้อความ(character และ text, string)"
      ]
    },
    {
      "cell_type": "code",
      "metadata": {
        "id": "JppERvAWPwCp",
        "colab": {
          "base_uri": "https://localhost:8080/"
        },
        "outputId": "01814de1-a783-491f-e17a-8202c716700a"
      },
      "source": [
        "ccc = '123456'        # เราใช้ single quote 'หรือ doible quote\" ล้อมรอบตัวหนังสือระบุว่าเป็น character-string\r\n",
        "print(ccc)"
      ],
      "execution_count": null,
      "outputs": [
        {
          "output_type": "stream",
          "text": [
            "123456\n"
          ],
          "name": "stdout"
        }
      ]
    },
    {
      "cell_type": "code",
      "metadata": {
        "id": "gIDuFbq5SogO",
        "colab": {
          "base_uri": "https://localhost:8080/"
        },
        "outputId": "7ec47665-c8f0-411b-db78-e8f4ec9e3e6e"
      },
      "source": [
        "ddd = '12555'\r\n",
        "print(ddd)"
      ],
      "execution_count": null,
      "outputs": [
        {
          "output_type": "stream",
          "text": [
            "12555\n"
          ],
          "name": "stdout"
        }
      ]
    },
    {
      "cell_type": "markdown",
      "metadata": {
        "id": "ooWDPjV_Sr5j"
      },
      "source": [
        "##"
      ]
    },
    {
      "cell_type": "code",
      "metadata": {
        "colab": {
          "base_uri": "https://localhost:8080/"
        },
        "id": "IZi7WzZDS5c_",
        "outputId": "b22efe62-45c9-44e0-f383-c0a5f2fa1923"
      },
      "source": [
        "ac+bbb  #float+int=float"
      ],
      "execution_count": null,
      "outputs": [
        {
          "output_type": "execute_result",
          "data": {
            "text/plain": [
              "588.2"
            ]
          },
          "metadata": {
            "tags": []
          },
          "execution_count": 17
        }
      ]
    },
    {
      "cell_type": "code",
      "metadata": {
        "id": "3KtMhhpLS74z",
        "colab": {
          "base_uri": "https://localhost:8080/",
          "height": 164
        },
        "outputId": "8dde968c-d248-4587-8006-deac65feb34d"
      },
      "source": [
        "ccc+ac # ตัวอักษรบวกตัวเลขไม่ได้"
      ],
      "execution_count": null,
      "outputs": [
        {
          "output_type": "error",
          "ename": "NameError",
          "evalue": "ignored",
          "traceback": [
            "\u001b[0;31m---------------------------------------------------------------------------\u001b[0m",
            "\u001b[0;31mNameError\u001b[0m                                 Traceback (most recent call last)",
            "\u001b[0;32m<ipython-input-18-7c8be252f504>\u001b[0m in \u001b[0;36m<module>\u001b[0;34m()\u001b[0m\n\u001b[0;32m----> 1\u001b[0;31m \u001b[0mccc\u001b[0m\u001b[0;34m+\u001b[0m\u001b[0mac\u001b[0m \u001b[0;31m# ตัวอักษรบวกตัวเลขไม่ได้\u001b[0m\u001b[0;34m\u001b[0m\u001b[0;34m\u001b[0m\u001b[0m\n\u001b[0m",
            "\u001b[0;31mNameError\u001b[0m: name 'ac' is not defined"
          ]
        }
      ]
    },
    {
      "cell_type": "code",
      "metadata": {
        "id": "mMgqEIYpmzBe",
        "colab": {
          "base_uri": "https://localhost:8080/"
        },
        "outputId": "bfc29829-e45c-441f-f355-be06660b6320"
      },
      "source": [
        "kkk = 'เกียรติศักดิ์'\r\n",
        "print(kkk)"
      ],
      "execution_count": null,
      "outputs": [
        {
          "output_type": "stream",
          "text": [
            "เกียรติศักดิ์\n"
          ],
          "name": "stdout"
        }
      ]
    },
    {
      "cell_type": "markdown",
      "metadata": {
        "id": "KgA0Gxqkm0Qp"
      },
      "source": [
        "#การเลี่ยนชนิดของตัวแปร variable casting"
      ]
    },
    {
      "cell_type": "code",
      "metadata": {
        "id": "2V9oZpDXvVGJ",
        "colab": {
          "base_uri": "https://localhost:8080/"
        },
        "outputId": "0cbcc853-aa58-425a-c424-03d874e43791"
      },
      "source": [
        "aaa+int(ccc)\r\n"
      ],
      "execution_count": null,
      "outputs": [
        {
          "output_type": "execute_result",
          "data": {
            "text/plain": [
              "123711"
            ]
          },
          "metadata": {
            "tags": []
          },
          "execution_count": 35
        }
      ]
    },
    {
      "cell_type": "code",
      "metadata": {
        "id": "1NLSsh33w2JU",
        "colab": {
          "base_uri": "https://localhost:8080/"
        },
        "outputId": "097dcc21-5c97-411d-e0e3-da6958edd38f"
      },
      "source": [
        "aaa+float(bbb)"
      ],
      "execution_count": null,
      "outputs": [
        {
          "output_type": "execute_result",
          "data": {
            "text/plain": [
              "277.2"
            ]
          },
          "metadata": {
            "tags": []
          },
          "execution_count": 36
        }
      ]
    },
    {
      "cell_type": "code",
      "metadata": {
        "id": "XB58ewujw91K",
        "colab": {
          "base_uri": "https://localhost:8080/",
          "height": 34
        },
        "outputId": "1ff696ae-d4b6-4c60-e0db-fd3fbd79d39b"
      },
      "source": [
        "str(aaa)"
      ],
      "execution_count": null,
      "outputs": [
        {
          "output_type": "execute_result",
          "data": {
            "application/vnd.google.colaboratory.intrinsic+json": {
              "type": "string"
            },
            "text/plain": [
              "'255'"
            ]
          },
          "metadata": {
            "tags": []
          },
          "execution_count": 37
        }
      ]
    },
    {
      "cell_type": "markdown",
      "metadata": {
        "id": "f7wv27WTxfQc"
      },
      "source": [
        "# Operation (Operator +-*/%)\r\n"
      ]
    },
    {
      "cell_type": "code",
      "metadata": {
        "id": "zVF8lVy9xloz",
        "colab": {
          "base_uri": "https://localhost:8080/"
        },
        "outputId": "a0060fd3-3706-4bbb-8b4c-d198cc86196a"
      },
      "source": [
        "aaa+bbb"
      ],
      "execution_count": null,
      "outputs": [
        {
          "output_type": "execute_result",
          "data": {
            "text/plain": [
              "277.2"
            ]
          },
          "metadata": {
            "tags": []
          },
          "execution_count": 39
        }
      ]
    },
    {
      "cell_type": "code",
      "metadata": {
        "id": "5anesQFIx0xU",
        "colab": {
          "base_uri": "https://localhost:8080/"
        },
        "outputId": "4a1141b8-fc99-4300-a94c-45106e2081b8"
      },
      "source": [
        "f = aaa+bbb\r\n",
        "print(f)"
      ],
      "execution_count": null,
      "outputs": [
        {
          "output_type": "stream",
          "text": [
            "277.2\n"
          ],
          "name": "stdout"
        }
      ]
    },
    {
      "cell_type": "code",
      "metadata": {
        "id": "iYjDdi4ix_D3",
        "colab": {
          "base_uri": "https://localhost:8080/"
        },
        "outputId": "88a3efef-fa99-4807-ad1a-83771e8e1e7b"
      },
      "source": [
        "aaa-f"
      ],
      "execution_count": null,
      "outputs": [
        {
          "output_type": "execute_result",
          "data": {
            "text/plain": [
              "-22.19999999999999"
            ]
          },
          "metadata": {
            "tags": []
          },
          "execution_count": 41
        }
      ]
    },
    {
      "cell_type": "code",
      "metadata": {
        "id": "lqeuAWpKx9hW",
        "colab": {
          "base_uri": "https://localhost:8080/"
        },
        "outputId": "c71c141a-54b6-42f3-fe56-e3ebd00f3d22"
      },
      "source": [
        "f/aaa"
      ],
      "execution_count": null,
      "outputs": [
        {
          "output_type": "execute_result",
          "data": {
            "text/plain": [
              "1.0870588235294116"
            ]
          },
          "metadata": {
            "tags": []
          },
          "execution_count": 42
        }
      ]
    },
    {
      "cell_type": "markdown",
      "metadata": {
        "id": "a7QSepyjTauD"
      },
      "source": [
        "### % คือเครื่องหมาย modulo"
      ]
    },
    {
      "cell_type": "code",
      "metadata": {
        "colab": {
          "base_uri": "https://localhost:8080/"
        },
        "id": "_VrLuoQOTvjs",
        "outputId": "9adb0b84-e76f-4f95-a609-c8841195606d"
      },
      "source": [
        "7%3"
      ],
      "execution_count": null,
      "outputs": [
        {
          "output_type": "execute_result",
          "data": {
            "text/plain": [
              "1"
            ]
          },
          "metadata": {
            "tags": []
          },
          "execution_count": 18
        }
      ]
    },
    {
      "cell_type": "code",
      "metadata": {
        "colab": {
          "base_uri": "https://localhost:8080/"
        },
        "id": "msHFGa-6TxjX",
        "outputId": "dec63a5a-9c55-4fc9-a2d7-78c06f9ae3f7"
      },
      "source": [
        "6%2\r\n"
      ],
      "execution_count": null,
      "outputs": [
        {
          "output_type": "execute_result",
          "data": {
            "text/plain": [
              "0"
            ]
          },
          "metadata": {
            "tags": []
          },
          "execution_count": 19
        }
      ]
    },
    {
      "cell_type": "markdown",
      "metadata": {
        "id": "ODjCUne2yIQO"
      },
      "source": [
        "# คำสั่ง print แบบพิเศษ (การ format string)"
      ]
    },
    {
      "cell_type": "code",
      "metadata": {
        "id": "tukIU60syOUW",
        "colab": {
          "base_uri": "https://localhost:8080/"
        },
        "outputId": "3242b48e-69c5-43e9-eac7-f812015ed365"
      },
      "source": [
        "print('ตัวแปร') #สิ่งที่อยู่ข้างในวงเล็บคือ ตัวแปร เเละ string"
      ],
      "execution_count": null,
      "outputs": [
        {
          "output_type": "stream",
          "text": [
            "ตัวแปร\n"
          ],
          "name": "stdout"
        }
      ]
    },
    {
      "cell_type": "code",
      "metadata": {
        "id": "m8sxEViEyV6G",
        "colab": {
          "base_uri": "https://localhost:8080/"
        },
        "outputId": "1b4eebe9-91b0-4a1e-fba0-530cba5596dc"
      },
      "source": [
        "print(f'% คือการหารเอาเศษ เช่น 7%3 = {7%3} ') # เพิ่ม f หน้า ' string ' เเละใช้ {} ใส่ code"
      ],
      "execution_count": null,
      "outputs": [
        {
          "output_type": "stream",
          "text": [
            "% คือการหารเอาเศษ เช่น 7%3 = 1 \n"
          ],
          "name": "stdout"
        }
      ]
    },
    {
      "cell_type": "code",
      "metadata": {
        "id": "Q2TvP4STyaRk",
        "colab": {
          "base_uri": "https://localhost:8080/"
        },
        "outputId": "06879275-0c37-4b7b-a98f-cf85edf69b0c"
      },
      "source": [
        "print(f'% คือการหารเอาเศษ เช่น 7%3 =  {7%3} \\\r\n",
        "      เเต่\\n/ คือการหารปกติ เช่น  7 / 3 = {7/3}   \\\r\n",
        "      เเละ\\n// คือการหารเอาส่วน เช่น  7//3 = {7//3}  \\\r\n",
        "      หรือ\\nใช้ int() เพื่อหารเอาส่วน เช่น int(7/3) = {int(7/3)}')  # \\n คือการขึ้นบรรทัดใหม่ \\ ใช้ในการตัด code แต่ com จะไม่เห็น"
      ],
      "execution_count": null,
      "outputs": [
        {
          "output_type": "stream",
          "text": [
            "% คือการหารเอาเศษ เช่น 7%3 =  1       เเต่\n",
            "/ คือการหารปกติ เช่น  7 / 3 = 2.3333333333333335         เเละ\n",
            "// คือการหารเอาส่วน เช่น  7//3 = 2        หรือ\n",
            "ใช้ int() เพื่อหารเอาส่วน เช่น int(7/3) = 2\n"
          ],
          "name": "stdout"
        }
      ]
    },
    {
      "cell_type": "markdown",
      "metadata": {
        "id": "gV8EtgnjygP5"
      },
      "source": [
        "# DATA STRUCTURE (โครงสร้างข้อมูล)"
      ]
    },
    {
      "cell_type": "markdown",
      "metadata": {
        "id": "HZgFWNfIynUd"
      },
      "source": [
        "## List คือ การเอาข้อมูลหลายๆตัวมาเรียงต่อกัน"
      ]
    },
    {
      "cell_type": "markdown",
      "metadata": {
        "id": "pfqjVf2Wy2kT"
      },
      "source": [
        "list สามารถสร้างได้ 2 เเบบ ดังนี้"
      ]
    },
    {
      "cell_type": "code",
      "metadata": {
        "id": "C2PSnQany5Dd",
        "colab": {
          "base_uri": "https://localhost:8080/"
        },
        "outputId": "a7dd1e21-b0d1-43ca-fd65-2206da60b36a"
      },
      "source": [
        "[25, 'c', 'กด', aaa]\r\n"
      ],
      "execution_count": null,
      "outputs": [
        {
          "output_type": "execute_result",
          "data": {
            "text/plain": [
              "[25, 'c', 'กด', 255]"
            ]
          },
          "metadata": {
            "tags": []
          },
          "execution_count": 49
        }
      ]
    },
    {
      "cell_type": "code",
      "metadata": {
        "id": "n3t74Qiu1EJB",
        "colab": {
          "base_uri": "https://localhost:8080/"
        },
        "outputId": "dccac3c0-3d24-4411-ebde-9fe08c2e2e2c"
      },
      "source": [
        "list_d = [2,4,6,8]\r\n",
        "print(list_d)"
      ],
      "execution_count": null,
      "outputs": [
        {
          "output_type": "stream",
          "text": [
            "[2, 4, 6, 8]\n"
          ],
          "name": "stdout"
        }
      ]
    },
    {
      "cell_type": "markdown",
      "metadata": {
        "id": "mfO6nB6szJet"
      },
      "source": [
        "### เเบบที่ 1 > square brackets"
      ]
    },
    {
      "cell_type": "code",
      "metadata": {
        "id": "NdfB1itezKRX",
        "colab": {
          "base_uri": "https://localhost:8080/"
        },
        "outputId": "b306863a-2fdd-48cd-90e0-0de2f2b2bbcd"
      },
      "source": [
        "list_c = list()\r\n",
        "print(list_c)"
      ],
      "execution_count": null,
      "outputs": [
        {
          "output_type": "stream",
          "text": [
            "[]\n"
          ],
          "name": "stdout"
        }
      ]
    },
    {
      "cell_type": "code",
      "metadata": {
        "id": "BbeDm1WkzdzS",
        "colab": {
          "base_uri": "https://localhost:8080/"
        },
        "outputId": "de1861ef-b6e4-400f-9390-de22722784cb"
      },
      "source": [
        "list_a =  [25, 'c', 'กด', aaa]\r\n",
        "print(list_a)"
      ],
      "execution_count": null,
      "outputs": [
        {
          "output_type": "stream",
          "text": [
            "[25, 'c', 'กด', 255]\n"
          ],
          "name": "stdout"
        }
      ]
    },
    {
      "cell_type": "code",
      "metadata": {
        "id": "FiMeUIESzwuZ"
      },
      "source": [
        ""
      ],
      "execution_count": null,
      "outputs": []
    },
    {
      "cell_type": "markdown",
      "metadata": {
        "id": "TzxWoQu3zxrS"
      },
      "source": [
        "### ลำดับที่อยู่ใน list มีความสำคัญ (ลำดับใน list เริ่มจาก 0,1,2,...)"
      ]
    },
    {
      "cell_type": "code",
      "metadata": {
        "id": "0o8femqbz1aB",
        "colab": {
          "base_uri": "https://localhost:8080/",
          "height": 34
        },
        "outputId": "f72f8d92-25f2-4a7f-baff-7de86e72ae51"
      },
      "source": [
        "list_a[2]"
      ],
      "execution_count": null,
      "outputs": [
        {
          "output_type": "execute_result",
          "data": {
            "application/vnd.google.colaboratory.intrinsic+json": {
              "type": "string"
            },
            "text/plain": [
              "'กด'"
            ]
          },
          "metadata": {
            "tags": []
          },
          "execution_count": 52
        }
      ]
    },
    {
      "cell_type": "code",
      "metadata": {
        "id": "U0YMAASAz-Px"
      },
      "source": [
        ""
      ],
      "execution_count": null,
      "outputs": []
    },
    {
      "cell_type": "markdown",
      "metadata": {
        "id": "B_-93Xtq0GO-"
      },
      "source": [
        "แบบที่2"
      ]
    },
    {
      "cell_type": "code",
      "metadata": {
        "id": "0mEXzFwl0KfO",
        "colab": {
          "base_uri": "https://localhost:8080/"
        },
        "outputId": "078c223b-b549-44e2-9b4e-7ee6525ad053"
      },
      "source": [
        "list_c = list()\r\n",
        "print(list_c)"
      ],
      "execution_count": null,
      "outputs": [
        {
          "output_type": "stream",
          "text": [
            "[]\n"
          ],
          "name": "stdout"
        }
      ]
    },
    {
      "cell_type": "code",
      "metadata": {
        "id": "USn8msxz0USt"
      },
      "source": [
        ""
      ],
      "execution_count": null,
      "outputs": []
    },
    {
      "cell_type": "markdown",
      "metadata": {
        "id": "3H-IjxEW0cck"
      },
      "source": [
        "append() เพิ่มสมาชิกใน list"
      ]
    },
    {
      "cell_type": "code",
      "metadata": {
        "id": "jmgd3DP40dGK",
        "colab": {
          "base_uri": "https://localhost:8080/"
        },
        "outputId": "edcd2a48-d7ae-4f48-ce49-2f70ec1018ea"
      },
      "source": [
        "list_a.append('u')\r\n",
        "print(list_a)"
      ],
      "execution_count": null,
      "outputs": [
        {
          "output_type": "stream",
          "text": [
            "[25, 'c', 'กด', 255, 'u']\n"
          ],
          "name": "stdout"
        }
      ]
    },
    {
      "cell_type": "code",
      "metadata": {
        "id": "VJ4UTI_J0kpe",
        "colab": {
          "base_uri": "https://localhost:8080/",
          "height": 34
        },
        "outputId": "e3c9ff07-61df-4ccf-910b-e2a1f4391805"
      },
      "source": [
        "list_a.pop() ###ดึงสมาชิกตัวสุดท้ายออกจากlist"
      ],
      "execution_count": null,
      "outputs": [
        {
          "output_type": "execute_result",
          "data": {
            "application/vnd.google.colaboratory.intrinsic+json": {
              "type": "string"
            },
            "text/plain": [
              "'u'"
            ]
          },
          "metadata": {
            "tags": []
          },
          "execution_count": 56
        }
      ]
    },
    {
      "cell_type": "code",
      "metadata": {
        "id": "N7NcxUYs035n",
        "colab": {
          "base_uri": "https://localhost:8080/"
        },
        "outputId": "761e2e57-013b-43fa-e667-83b5d2c71543"
      },
      "source": [
        "list_d"
      ],
      "execution_count": null,
      "outputs": [
        {
          "output_type": "execute_result",
          "data": {
            "text/plain": [
              "[2, 4, 6, 8]"
            ]
          },
          "metadata": {
            "tags": []
          },
          "execution_count": 60
        }
      ]
    },
    {
      "cell_type": "code",
      "metadata": {
        "id": "L-kdx3IR1COJ",
        "colab": {
          "base_uri": "https://localhost:8080/"
        },
        "outputId": "4370bfbc-ac2f-41e7-95f7-94e542f2c34e"
      },
      "source": [
        "list_d.append(list_a)\r\n",
        "print(list_d)"
      ],
      "execution_count": null,
      "outputs": [
        {
          "output_type": "stream",
          "text": [
            "[2, 4, 6, 8, [25, 'c', 'กด', 255]]\n"
          ],
          "name": "stdout"
        }
      ]
    },
    {
      "cell_type": "code",
      "metadata": {
        "id": "Ex8Kjj4-2L2S",
        "colab": {
          "base_uri": "https://localhost:8080/"
        },
        "outputId": "b5c1664d-7ac6-4acb-f330-c7586496a17b"
      },
      "source": [
        "list_a[-1]    # ตัวที่อยู่ในวงเล็บหลักจากตัวแปร list เรียกว่า index ใช้สำหรับชี้ข้อมูลใน list (ชี้จากข้างหน้า,ชี้จากข้างหลัง) 0 สมชตัวแรก -1 สมชตัวสุดท้าย"
      ],
      "execution_count": null,
      "outputs": [
        {
          "output_type": "execute_result",
          "data": {
            "text/plain": [
              "255"
            ]
          },
          "metadata": {
            "tags": []
          },
          "execution_count": 63
        }
      ]
    },
    {
      "cell_type": "code",
      "metadata": {
        "id": "znXwRN1Z2z13"
      },
      "source": [
        ""
      ],
      "execution_count": null,
      "outputs": []
    },
    {
      "cell_type": "markdown",
      "metadata": {
        "id": "v7bBI9e22_2i"
      },
      "source": [
        "String > list of character"
      ]
    },
    {
      "cell_type": "code",
      "metadata": {
        "id": "-ccLg3Gp3A8v",
        "colab": {
          "base_uri": "https://localhost:8080/"
        },
        "outputId": "3981f38a-b75a-4307-d1bb-ca76e4292aad"
      },
      "source": [
        "t = 'python is easy'\r\n",
        "print(t)"
      ],
      "execution_count": null,
      "outputs": [
        {
          "output_type": "stream",
          "text": [
            "python is easy\n"
          ],
          "name": "stdout"
        }
      ]
    },
    {
      "cell_type": "code",
      "metadata": {
        "id": "dp7DhJxt3C9G",
        "colab": {
          "base_uri": "https://localhost:8080/",
          "height": 34
        },
        "outputId": "5d9b466c-bd6e-4efa-ea4a-275fd8e24cff"
      },
      "source": [
        "t[1]"
      ],
      "execution_count": null,
      "outputs": [
        {
          "output_type": "execute_result",
          "data": {
            "application/vnd.google.colaboratory.intrinsic+json": {
              "type": "string"
            },
            "text/plain": [
              "'y'"
            ]
          },
          "metadata": {
            "tags": []
          },
          "execution_count": 68
        }
      ]
    },
    {
      "cell_type": "code",
      "metadata": {
        "id": "6dcA7M_P3GEF",
        "colab": {
          "base_uri": "https://localhost:8080/",
          "height": 164
        },
        "outputId": "00e4ebeb-673e-4045-aa42-6b44ed1e75fe"
      },
      "source": [
        "t[-4]"
      ],
      "execution_count": 26,
      "outputs": [
        {
          "output_type": "error",
          "ename": "NameError",
          "evalue": "ignored",
          "traceback": [
            "\u001b[0;31m---------------------------------------------------------------------------\u001b[0m",
            "\u001b[0;31mNameError\u001b[0m                                 Traceback (most recent call last)",
            "\u001b[0;32m<ipython-input-26-f827787ee78e>\u001b[0m in \u001b[0;36m<module>\u001b[0;34m()\u001b[0m\n\u001b[0;32m----> 1\u001b[0;31m \u001b[0mt\u001b[0m\u001b[0;34m[\u001b[0m\u001b[0;34m-\u001b[0m\u001b[0;36m4\u001b[0m\u001b[0;34m]\u001b[0m\u001b[0;34m\u001b[0m\u001b[0;34m\u001b[0m\u001b[0m\n\u001b[0m",
            "\u001b[0;31mNameError\u001b[0m: name 't' is not defined"
          ]
        }
      ]
    },
    {
      "cell_type": "code",
      "metadata": {
        "id": "Y24IAAop3Ji9",
        "colab": {
          "base_uri": "https://localhost:8080/",
          "height": 232
        },
        "outputId": "45c67678-02a2-47dc-ee07-85901b9ea01f"
      },
      "source": [
        "list_a = [ ]\r\n",
        "print(list_a)\r\n",
        "list_b = [111, 'c', 'งง', aaa]\r\n",
        "print(list_b)"
      ],
      "execution_count": 52,
      "outputs": [
        {
          "output_type": "stream",
          "text": [
            "[]\n"
          ],
          "name": "stdout"
        },
        {
          "output_type": "error",
          "ename": "NameError",
          "evalue": "ignored",
          "traceback": [
            "\u001b[0;31m---------------------------------------------------------------------------\u001b[0m",
            "\u001b[0;31mNameError\u001b[0m                                 Traceback (most recent call last)",
            "\u001b[0;32m<ipython-input-52-4024f04e426f>\u001b[0m in \u001b[0;36m<module>\u001b[0;34m()\u001b[0m\n\u001b[1;32m      1\u001b[0m \u001b[0mlist_a\u001b[0m \u001b[0;34m=\u001b[0m \u001b[0;34m[\u001b[0m \u001b[0;34m]\u001b[0m\u001b[0;34m\u001b[0m\u001b[0;34m\u001b[0m\u001b[0m\n\u001b[1;32m      2\u001b[0m \u001b[0mprint\u001b[0m\u001b[0;34m(\u001b[0m\u001b[0mlist_a\u001b[0m\u001b[0;34m)\u001b[0m\u001b[0;34m\u001b[0m\u001b[0;34m\u001b[0m\u001b[0m\n\u001b[0;32m----> 3\u001b[0;31m \u001b[0mlist_b\u001b[0m \u001b[0;34m=\u001b[0m \u001b[0;34m[\u001b[0m\u001b[0;36m111\u001b[0m\u001b[0;34m,\u001b[0m \u001b[0;34m'c'\u001b[0m\u001b[0;34m,\u001b[0m \u001b[0;34m'งง'\u001b[0m\u001b[0;34m,\u001b[0m \u001b[0maaa\u001b[0m\u001b[0;34m]\u001b[0m\u001b[0;34m\u001b[0m\u001b[0;34m\u001b[0m\u001b[0m\n\u001b[0m\u001b[1;32m      4\u001b[0m \u001b[0mprint\u001b[0m\u001b[0;34m(\u001b[0m\u001b[0mlist_b\u001b[0m\u001b[0;34m)\u001b[0m\u001b[0;34m\u001b[0m\u001b[0;34m\u001b[0m\u001b[0m\n",
            "\u001b[0;31mNameError\u001b[0m: name 'aaa' is not defined"
          ]
        }
      ]
    },
    {
      "cell_type": "markdown",
      "metadata": {
        "id": "vVHTYZ7hxKzF"
      },
      "source": [
        "#คาบ 3 11 มค 2021"
      ]
    },
    {
      "cell_type": "code",
      "metadata": {
        "id": "LhlIpk4h0Uky",
        "outputId": "83cb9dad-aa0c-4068-9bd6-77f3e2937e2f",
        "colab": {
          "base_uri": "https://localhost:8080/"
        }
      },
      "source": [
        "list_g = [2,'น่ารัก','น้อง',55,35]\r\n",
        "print(list_g)"
      ],
      "execution_count": 27,
      "outputs": [
        {
          "output_type": "stream",
          "text": [
            "[2, 'น่ารัก', 'น้อง', 55, 35]\n"
          ],
          "name": "stdout"
        }
      ]
    },
    {
      "cell_type": "code",
      "metadata": {
        "id": "PgLWO8EM7WHm",
        "outputId": "94022f20-fa16-4390-9641-259918285e1a",
        "colab": {
          "base_uri": "https://localhost:8080/"
        }
      },
      "source": [
        "list_h = ['d',5,'เธอ',63,777]\r\n",
        "print(list_h)"
      ],
      "execution_count": 50,
      "outputs": [
        {
          "output_type": "stream",
          "text": [
            "['d', 5, 'เธอ', 63, 777]\n"
          ],
          "name": "stdout"
        }
      ]
    },
    {
      "cell_type": "code",
      "metadata": {
        "id": "tkp5GyBkxQSP",
        "outputId": "5220562c-70df-4019-97f1-c08c780506aa",
        "colab": {
          "base_uri": "https://localhost:8080/"
        }
      },
      "source": [
        "d = 'sawad dee kub'\r\n",
        "print(d)"
      ],
      "execution_count": 21,
      "outputs": [
        {
          "output_type": "stream",
          "text": [
            "sawad dee kub\n"
          ],
          "name": "stdout"
        }
      ]
    },
    {
      "cell_type": "code",
      "metadata": {
        "id": "NlRoIeX8xY4V",
        "outputId": "9f84a3c4-90c9-41cd-c7e0-15cbbdd96019",
        "colab": {
          "base_uri": "https://localhost:8080/"
        }
      },
      "source": [
        "len(d)"
      ],
      "execution_count": 22,
      "outputs": [
        {
          "output_type": "execute_result",
          "data": {
            "text/plain": [
              "13"
            ]
          },
          "metadata": {
            "tags": []
          },
          "execution_count": 22
        }
      ]
    },
    {
      "cell_type": "code",
      "metadata": {
        "id": "tSV4IODnz4du",
        "outputId": "f63ab641-6147-49e6-a36f-465444155b02",
        "colab": {
          "base_uri": "https://localhost:8080/"
        }
      },
      "source": [
        "list_g"
      ],
      "execution_count": 28,
      "outputs": [
        {
          "output_type": "execute_result",
          "data": {
            "text/plain": [
              "[2, 'น่ารัก', 'น้อง', 55, 35]"
            ]
          },
          "metadata": {
            "tags": []
          },
          "execution_count": 28
        }
      ]
    },
    {
      "cell_type": "code",
      "metadata": {
        "id": "2zPWPJkt0B7Z",
        "outputId": "70e9c44e-c2f3-4821-e4f2-96b230ca8a97",
        "colab": {
          "base_uri": "https://localhost:8080/"
        }
      },
      "source": [
        "len(list_g) # len คือ คำสั่งตรวจสอบความยาวของจำนวนสมาชิก เช่น ในลิสมี 5 ตัว"
      ],
      "execution_count": 29,
      "outputs": [
        {
          "output_type": "execute_result",
          "data": {
            "text/plain": [
              "5"
            ]
          },
          "metadata": {
            "tags": []
          },
          "execution_count": 29
        }
      ]
    },
    {
      "cell_type": "code",
      "metadata": {
        "colab": {
          "base_uri": "https://localhost:8080/"
        },
        "id": "_Zd7LnS7lROX",
        "outputId": "287dcc7f-fc97-4016-96f9-1219f2c1cca2"
      },
      "source": [
        "list_g.append(d)\r\n",
        "print(list_g)"
      ],
      "execution_count": 30,
      "outputs": [
        {
          "output_type": "stream",
          "text": [
            "[2, 'น่ารัก', 'น้อง', 55, 35, 'sawad dee kub']\n"
          ],
          "name": "stdout"
        }
      ]
    },
    {
      "cell_type": "code",
      "metadata": {
        "id": "nDq5DauE1ae4"
      },
      "source": [
        ""
      ],
      "execution_count": null,
      "outputs": []
    },
    {
      "cell_type": "markdown",
      "metadata": {
        "id": "NN1aivBo1fRt"
      },
      "source": [
        "#ตัวที่อยู่ข้างใน [] เราเรียกว่า index (ตัวชี้)"
      ]
    },
    {
      "cell_type": "code",
      "metadata": {
        "id": "gxx4En-U1liP",
        "outputId": "1690687f-2e5b-4764-98fc-454edbd20431",
        "colab": {
          "base_uri": "https://localhost:8080/"
        }
      },
      "source": [
        "print(d)\r\n",
        "print(d[3:5]) #ชี้ว่าตัดตัวที่เท่าไหร่ หน้า : คือจุดเริ่มต้นหลัง : คือจุดสิ้นสุด เช่น 3:5 หรือ\r\n",
        "print(len(d[3:5])) #เอามาแค่สมาชิก 2 ตัว"
      ],
      "execution_count": 31,
      "outputs": [
        {
          "output_type": "stream",
          "text": [
            "sawad dee kub\n",
            "ad\n",
            "2\n"
          ],
          "name": "stdout"
        }
      ]
    },
    {
      "cell_type": "code",
      "metadata": {
        "colab": {
          "base_uri": "https://localhost:8080/",
          "height": 34
        },
        "id": "UGIB-2N7l_99",
        "outputId": "e989c25d-e79c-4027-869c-e54b51484063"
      },
      "source": [
        "d[0:6:3] #ถ้าเกิดเพิ่ม : อีกตัวเวลาเราเลือกถ้าเพิ่มเราเลือกได้ว่าเพิ่มหรือกระโดด"
      ],
      "execution_count": 37,
      "outputs": [
        {
          "output_type": "execute_result",
          "data": {
            "application/vnd.google.colaboratory.intrinsic+json": {
              "type": "string"
            },
            "text/plain": [
              "'sa'"
            ]
          },
          "metadata": {
            "tags": []
          },
          "execution_count": 37
        }
      ]
    },
    {
      "cell_type": "code",
      "metadata": {
        "id": "b7-KQz2MoJzp"
      },
      "source": [
        "z = [1,2,3,4,5,6,7,8,9,10]"
      ],
      "execution_count": 39,
      "outputs": []
    },
    {
      "cell_type": "code",
      "metadata": {
        "colab": {
          "base_uri": "https://localhost:8080/"
        },
        "id": "n0063YO6oNVe",
        "outputId": "5615d355-9207-469b-d8f1-895a7fc664ad"
      },
      "source": [
        "z[1:10:2]"
      ],
      "execution_count": 40,
      "outputs": [
        {
          "output_type": "execute_result",
          "data": {
            "text/plain": [
              "[2, 4, 6, 8, 10]"
            ]
          },
          "metadata": {
            "tags": []
          },
          "execution_count": 40
        }
      ]
    },
    {
      "cell_type": "markdown",
      "metadata": {
        "id": "1wr7kxVt2zfI"
      },
      "source": [
        "#quiz\r\n",
        "ให้ใช้ list slicing เลือกมาเฉพาะเลขคู่"
      ]
    },
    {
      "cell_type": "code",
      "metadata": {
        "colab": {
          "base_uri": "https://localhost:8080/"
        },
        "id": "HFq-rAXeo_ez",
        "outputId": "f0aa0653-2837-4d63-e653-81cbd1741aa7"
      },
      "source": [
        "z[1:10:2] #หรือใช้ print(z[1:10:2])"
      ],
      "execution_count": null,
      "outputs": [
        {
          "output_type": "execute_result",
          "data": {
            "text/plain": [
              "[2, 4, 6, 8, 10]"
            ]
          },
          "metadata": {
            "tags": []
          },
          "execution_count": 72
        }
      ]
    },
    {
      "cell_type": "markdown",
      "metadata": {
        "id": "oGTVx67xpPpG"
      },
      "source": [
        "ถ้าเว้นว่างหน้า : หมายความว่า เริ่มตั้งแต่ตัวแรก(0)\r\n",
        "\r\n",
        "ถ้าเว้นว่างหลัง : หมายความว่า ไปจนถึงตัวสุดท้าย(len(list))"
      ]
    },
    {
      "cell_type": "code",
      "metadata": {
        "colab": {
          "base_uri": "https://localhost:8080/"
        },
        "id": "b5gfNyfQpqRN",
        "outputId": "c598f2cb-7959-45ac-8da7-498a0c4cde1b"
      },
      "source": [
        "print(d)\r\n",
        "print(d[:6]) # เอาตั้งแต่ 0 ถึง 6 ตัว\r\n",
        "print(d[10:]) # เอาตั้งแต่ตัวแรก ถึง ตัวสุดท้าย\r\n",
        "print(d[-4:])\r\n",
        "print(d[:])"
      ],
      "execution_count": 41,
      "outputs": [
        {
          "output_type": "stream",
          "text": [
            "sawad dee kub\n",
            "sawad \n",
            "kub\n",
            " kub\n",
            "sawad dee kub\n"
          ],
          "name": "stdout"
        }
      ]
    },
    {
      "cell_type": "code",
      "metadata": {
        "id": "R3oy4rtA6gAY",
        "outputId": "9f30463a-07e4-49ac-e5cd-e140fed09572",
        "colab": {
          "base_uri": "https://localhost:8080/"
        }
      },
      "source": [
        "list(z[::2]) # เอาทุกตัวแต่ข้ามไป 2 ตัว ถ้าอยากข้าม 3 ตัวก็แทน 3 ลงไป เช่น list(z[::3])"
      ],
      "execution_count": 44,
      "outputs": [
        {
          "output_type": "execute_result",
          "data": {
            "text/plain": [
              "[1, 3, 5, 7, 9]"
            ]
          },
          "metadata": {
            "tags": []
          },
          "execution_count": 44
        }
      ]
    },
    {
      "cell_type": "markdown",
      "metadata": {
        "id": "ptFUqIks6yk8"
      },
      "source": [
        "เราสามารถเอา list มาต่อกันได้ด้วย +"
      ]
    },
    {
      "cell_type": "code",
      "metadata": {
        "id": "aGOc7JcH62X_",
        "outputId": "a5368a22-8ab9-4d0e-e6b1-8fdb9ba0ed63",
        "colab": {
          "base_uri": "https://localhost:8080/",
          "height": 34
        }
      },
      "source": [
        "d +'!!' #เช่น t + สวัสดีครับ "
      ],
      "execution_count": 46,
      "outputs": [
        {
          "output_type": "execute_result",
          "data": {
            "application/vnd.google.colaboratory.intrinsic+json": {
              "type": "string"
            },
            "text/plain": [
              "'sawad dee kub!!'"
            ]
          },
          "metadata": {
            "tags": []
          },
          "execution_count": 46
        }
      ]
    },
    {
      "cell_type": "code",
      "metadata": {
        "id": "pclwBzwlr5eU",
        "outputId": "8db19011-fbc7-4d6d-fd3e-3bfb21db848d",
        "colab": {
          "base_uri": "https://localhost:8080/"
        }
      },
      "source": [
        "print(list_g)\r\n",
        "print(list_h)\r\n",
        "print(list_g+list_h) ## t+list_b ## ไม่สามารถเอา list ปกติมาต่อกับ string ได้ ถ้าเรา Run จะได้ error"
      ],
      "execution_count": 51,
      "outputs": [
        {
          "output_type": "stream",
          "text": [
            "[2, 'น่ารัก', 'น้อง', 55, 35, 'sawad dee kub']\n",
            "['d', 5, 'เธอ', 63, 777]\n",
            "[2, 'น่ารัก', 'น้อง', 55, 35, 'sawad dee kub', 'd', 5, 'เธอ', 63, 777]\n"
          ],
          "name": "stdout"
        }
      ]
    },
    {
      "cell_type": "code",
      "metadata": {
        "id": "2SKDTM7i7TuF",
        "outputId": "829b311c-cf1b-42c0-ea61-366ffc32c535",
        "colab": {
          "base_uri": "https://localhost:8080/"
        }
      },
      "source": [
        "list_g.append(list_a) # คือการเอาสมาชิกมารวมกัน ทำไม list_a คือ [] เพราะว่าเราเพิ่มโค้ด list_a ในบรรทัดที่16 ว่า list_a[] print(list_a)\r\n",
        "print(list_g) # "
      ],
      "execution_count": 53,
      "outputs": [
        {
          "output_type": "stream",
          "text": [
            "[2, 'น่ารัก', 'น้อง', 55, 35, 'sawad dee kub', []]\n"
          ],
          "name": "stdout"
        }
      ]
    },
    {
      "cell_type": "code",
      "metadata": {
        "id": "W2GzrbhZ8MAu"
      },
      "source": [
        ""
      ],
      "execution_count": null,
      "outputs": []
    },
    {
      "cell_type": "markdown",
      "metadata": {
        "id": "oiN7chIW8TRT"
      },
      "source": [
        "การแบ่ง string ตามสัญลักษณ์ที่กำหนด -> split string"
      ]
    },
    {
      "cell_type": "code",
      "metadata": {
        "id": "FvtOghVb8U0J",
        "outputId": "eaad4bd3-2d60-44ba-8d0e-39a539facfb1",
        "colab": {
          "base_uri": "https://localhost:8080/",
          "height": 34
        }
      },
      "source": [
        "d"
      ],
      "execution_count": 54,
      "outputs": [
        {
          "output_type": "execute_result",
          "data": {
            "application/vnd.google.colaboratory.intrinsic+json": {
              "type": "string"
            },
            "text/plain": [
              "'sawad dee kub'"
            ]
          },
          "metadata": {
            "tags": []
          },
          "execution_count": 54
        }
      ]
    },
    {
      "cell_type": "code",
      "metadata": {
        "id": "Bc2dzBXN8ZBa",
        "outputId": "5e1b5db8-385a-4ec7-cb3b-52cba690cc5d",
        "colab": {
          "base_uri": "https://localhost:8080/"
        }
      },
      "source": [
        "d.split(' ') #คำสั่ง split คือ สามารถแบ่งตัว text ได้ เราสามารถแบ่ง text ด้วย สัญลักษณ์อะไรก็ได้ split จะไปหาช่องว่างแล้วก็จะแบ่งข้อความตาม text นั้นๆ"
      ],
      "execution_count": 55,
      "outputs": [
        {
          "output_type": "execute_result",
          "data": {
            "text/plain": [
              "['sawad', 'dee', 'kub']"
            ]
          },
          "metadata": {
            "tags": []
          },
          "execution_count": 55
        }
      ]
    },
    {
      "cell_type": "code",
      "metadata": {
        "id": "LiF_-1ez8arG"
      },
      "source": [
        "time = '10:11:12'"
      ],
      "execution_count": 56,
      "outputs": []
    },
    {
      "cell_type": "code",
      "metadata": {
        "id": "d8yNMdLc8kZL",
        "outputId": "4ee13685-f458-4d7f-9384-0337698e376c",
        "colab": {
          "base_uri": "https://localhost:8080/"
        }
      },
      "source": [
        "time.split(':') # t_sp = t.split"
      ],
      "execution_count": 57,
      "outputs": [
        {
          "output_type": "execute_result",
          "data": {
            "text/plain": [
              "['10', '11', '12']"
            ]
          },
          "metadata": {
            "tags": []
          },
          "execution_count": 57
        }
      ]
    },
    {
      "cell_type": "code",
      "metadata": {
        "id": "qVHnaP1R8nJX",
        "outputId": "f3857843-638a-4c5a-8e5d-02266136af0a",
        "colab": {
          "base_uri": "https://localhost:8080/"
        }
      },
      "source": [
        "t_sp = time.split(' ')\r\n",
        "print(t_sp)"
      ],
      "execution_count": 58,
      "outputs": [
        {
          "output_type": "stream",
          "text": [
            "['10:11:12']\n"
          ],
          "name": "stdout"
        }
      ]
    },
    {
      "cell_type": "code",
      "metadata": {
        "id": "R2u-x4S_8vJy",
        "outputId": "314437b5-0595-42d9-d65b-d8b605911ff3",
        "colab": {
          "base_uri": "https://localhost:8080/"
        }
      },
      "source": [
        "## วิธีรวมกลับ\r\n",
        "print(':'.join(t_sp))"
      ],
      "execution_count": 59,
      "outputs": [
        {
          "output_type": "stream",
          "text": [
            "10:11:12\n"
          ],
          "name": "stdout"
        }
      ]
    },
    {
      "cell_type": "code",
      "metadata": {
        "id": "-22eUwyE81gE"
      },
      "source": [
        "HW คำนวนเวลาเป็นวินาทีของเวลาต่อไปนี้โดยใช้คำสั่ง split()ช่วย(printออกมาให้สวยงาม)\r\n",
        "\r\n",
        "12:30:15\r\n",
        "\r\n",
        "13:41:07\r\n",
        "\r\n",
        "12:53:15\r\n",
        "\r\n",
        "00:59:25\r\n",
        "\r\n",
        "11:11:11\r\n",
        "\r\n",
        "16:06:09\r\n",
        "\r\n",
        "21:12:30\r\n",
        "\r\n",
        "10:06:15\r\n",
        "\r\n",
        "ตัวอย่าง > 00:01:10 = 70 วินาที"
      ],
      "execution_count": null,
      "outputs": []
    },
    {
      "cell_type": "code",
      "metadata": {
        "id": "SVxKnEkUyw8r",
        "colab": {
          "base_uri": "https://localhost:8080/"
        },
        "outputId": "c7e0a2e0-e37e-4f2c-f3ca-8a0a142358e1"
      },
      "source": [
        "q1 = '12:30:15'\r\n",
        "q1.split(':')\r\n",
        "list_q1 = [12,30,15]\r\n",
        "h = list_q1[0]*3600\r\n",
        "m = list_q1[1]*60\r\n",
        "s = list_q1[2]\r\n",
        "total1 = h+m+s # แปลงเวลาทั้งหมดเป็นวินาที\r\n",
        "print(total1)"
      ],
      "execution_count": null,
      "outputs": [
        {
          "output_type": "stream",
          "text": [
            "45015\n"
          ],
          "name": "stdout"
        }
      ]
    },
    {
      "cell_type": "code",
      "metadata": {
        "colab": {
          "base_uri": "https://localhost:8080/"
        },
        "id": "6UxldkCTeNbx",
        "outputId": "0457c847-7861-41f6-ad3d-97f71c153d6d"
      },
      "source": [
        "q2 = '13:41:07'\r\n",
        "q2.split(':')\r\n",
        "list_q2 = [13,41,7]\r\n",
        "h = list_q2[0]*3600\r\n",
        "m = list_q2[1]*60\r\n",
        "s = list_q2[2]\r\n",
        "total2 = h+m+s # แปลงเวลาทั้งหมดเป็นวินาที\r\n",
        "print(total2)"
      ],
      "execution_count": null,
      "outputs": [
        {
          "output_type": "stream",
          "text": [
            "49267\n"
          ],
          "name": "stdout"
        }
      ]
    },
    {
      "cell_type": "code",
      "metadata": {
        "colab": {
          "base_uri": "https://localhost:8080/"
        },
        "id": "sYNbcRqberJh",
        "outputId": "f9f2af3c-4eb9-41f6-dc1f-959cb93259a9"
      },
      "source": [
        "q3 = '12:53:15'\r\n",
        "q3.split(':')\r\n",
        "list_q3 = [13,41,7]\r\n",
        "h = list_q3[0]*3600\r\n",
        "m = list_q3[1]*60\r\n",
        "s = list_q3[2]\r\n",
        "total3 = h+m+s # แปลงเวลาทั้งหมดเป็นวินาที\r\n",
        "print(total3)"
      ],
      "execution_count": null,
      "outputs": [
        {
          "output_type": "stream",
          "text": [
            "49267\n"
          ],
          "name": "stdout"
        }
      ]
    },
    {
      "cell_type": "code",
      "metadata": {
        "colab": {
          "base_uri": "https://localhost:8080/"
        },
        "id": "2WgyFtcWfDwh",
        "outputId": "c0f55809-e384-4c83-c7c4-f34ff0790c24"
      },
      "source": [
        "q4 = '00:59:25'\r\n",
        "q4.split(':')\r\n",
        "list_q4 = [00,59,25]\r\n",
        "h = list_q4[0]*3600\r\n",
        "m = list_q4[1]*60\r\n",
        "s = list_q4[2]\r\n",
        "total4 = h+m+s # แปลงเวลาทั้งหมดเป็นวินาที\r\n",
        "print(total4)"
      ],
      "execution_count": null,
      "outputs": [
        {
          "output_type": "stream",
          "text": [
            "3565\n"
          ],
          "name": "stdout"
        }
      ]
    },
    {
      "cell_type": "code",
      "metadata": {
        "colab": {
          "base_uri": "https://localhost:8080/"
        },
        "id": "G-jYQ2LifqBr",
        "outputId": "161657a2-9b24-4533-9599-4b0b7decf00f"
      },
      "source": [
        "q5 = '11:11:11'\r\n",
        "q5.split(':')\r\n",
        "list_q5 = [11,11,11]\r\n",
        "h = list_q5[0]*3600\r\n",
        "m = list_q5[1]*60\r\n",
        "s = list_q5[2]\r\n",
        "total5 = h+m+s # แปลงเวลาทั้งหมดเป็นวินาที\r\n",
        "print(total5)"
      ],
      "execution_count": null,
      "outputs": [
        {
          "output_type": "stream",
          "text": [
            "40271\n"
          ],
          "name": "stdout"
        }
      ]
    },
    {
      "cell_type": "code",
      "metadata": {
        "colab": {
          "base_uri": "https://localhost:8080/"
        },
        "id": "XkaN5UxIgU2J",
        "outputId": "47a11304-dc7b-49e9-bb71-ebd13cd3707c"
      },
      "source": [
        "q6 = '16:06:09'\r\n",
        "q6.split(':')\r\n",
        "list_q6 = [16,6,9]\r\n",
        "h = list_q6[0]*3600\r\n",
        "m = list_q6[1]*60\r\n",
        "s = list_q6[2]\r\n",
        "total6 = h+m+s # แปลงเวลาทั้งหมดเป็นวินาที\r\n",
        "print(total6)"
      ],
      "execution_count": null,
      "outputs": [
        {
          "output_type": "stream",
          "text": [
            "57969\n"
          ],
          "name": "stdout"
        }
      ]
    },
    {
      "cell_type": "code",
      "metadata": {
        "colab": {
          "base_uri": "https://localhost:8080/"
        },
        "id": "ymg5HJeGgdFu",
        "outputId": "766b7988-42f4-4855-fe59-e7190b9c38da"
      },
      "source": [
        "q7 = '21:12:30'\r\n",
        "q7.split(':')\r\n",
        "list_q7 = [21,12,30]\r\n",
        "h = list_q7[0]*3600\r\n",
        "m = list_q7[1]*60\r\n",
        "s = list_q7[2]\r\n",
        "total7 = h+m+s # แปลงเวลาทั้งหมดเป็นวินาที\r\n",
        "print(total7)"
      ],
      "execution_count": null,
      "outputs": [
        {
          "output_type": "stream",
          "text": [
            "76350\n"
          ],
          "name": "stdout"
        }
      ]
    },
    {
      "cell_type": "code",
      "metadata": {
        "colab": {
          "base_uri": "https://localhost:8080/"
        },
        "id": "s7xxfKnNgqnY",
        "outputId": "3596b4be-bb0f-4d64-8f74-d571d260a738"
      },
      "source": [
        "q8 = '10:06:15'\r\n",
        "q8.split(':')\r\n",
        "list_q8 = [10,6,30]\r\n",
        "h = list_q8[0]*3600\r\n",
        "m = list_q8[1]*60\r\n",
        "s = list_q8[2]\r\n",
        "total8 = h+m+s # แปลงเวลาทั้งหมดเป็นวินาที\r\n",
        "print(total8)"
      ],
      "execution_count": null,
      "outputs": [
        {
          "output_type": "stream",
          "text": [
            "36390\n"
          ],
          "name": "stdout"
        }
      ]
    }
  ]
}