{
  "nbformat": 4,
  "nbformat_minor": 0,
  "metadata": {
    "colab": {
      "name": "Chapter 6 Cluster Analysis.ipynb",
      "provenance": [],
      "authorship_tag": "ABX9TyN0ZwzMmQrtpGzKnFqUw8zJ",
      "include_colab_link": true
    },
    "kernelspec": {
      "name": "python3",
      "display_name": "Python 3"
    },
    "language_info": {
      "name": "python"
    }
  },
  "cells": [
    {
      "cell_type": "markdown",
      "metadata": {
        "id": "view-in-github",
        "colab_type": "text"
      },
      "source": [
        "<a href=\"https://colab.research.google.com/github/team0243/multivariate/blob/main/Chapter_6_Cluster_Analysis.ipynb\" target=\"_parent\"><img src=\"https://colab.research.google.com/assets/colab-badge.svg\" alt=\"Open In Colab\"/></a>"
      ]
    },
    {
      "cell_type": "markdown",
      "metadata": {
        "id": "PW1GSgtwAZvw"
      },
      "source": [
        "จุดมุ่งหมายของการทำ Cluster Analysis คือ การจัดกลุ่มข้อมูลโดยดูจาก attributes ของข้อมูล"
      ]
    },
    {
      "cell_type": "code",
      "metadata": {
        "id": "YmE9w_H2Ad9_"
      },
      "source": [
        "import pandas as pd"
      ],
      "execution_count": 1,
      "outputs": []
    },
    {
      "cell_type": "code",
      "metadata": {
        "colab": {
          "base_uri": "https://localhost:8080/",
          "height": 419
        },
        "id": "atayt2ZqAhru",
        "outputId": "661578ca-d4dc-43ba-ad7c-84421a04c435"
      },
      "source": [
        "example_df = pd.read_csv('https://raw.github.com/pandas-dev/pandas/master/pandas/tests/io/data/csv/iris.csv')\n",
        "example_df"
      ],
      "execution_count": 2,
      "outputs": [
        {
          "output_type": "execute_result",
          "data": {
            "text/html": [
              "<div>\n",
              "<style scoped>\n",
              "    .dataframe tbody tr th:only-of-type {\n",
              "        vertical-align: middle;\n",
              "    }\n",
              "\n",
              "    .dataframe tbody tr th {\n",
              "        vertical-align: top;\n",
              "    }\n",
              "\n",
              "    .dataframe thead th {\n",
              "        text-align: right;\n",
              "    }\n",
              "</style>\n",
              "<table border=\"1\" class=\"dataframe\">\n",
              "  <thead>\n",
              "    <tr style=\"text-align: right;\">\n",
              "      <th></th>\n",
              "      <th>SepalLength</th>\n",
              "      <th>SepalWidth</th>\n",
              "      <th>PetalLength</th>\n",
              "      <th>PetalWidth</th>\n",
              "      <th>Name</th>\n",
              "    </tr>\n",
              "  </thead>\n",
              "  <tbody>\n",
              "    <tr>\n",
              "      <th>0</th>\n",
              "      <td>5.1</td>\n",
              "      <td>3.5</td>\n",
              "      <td>1.4</td>\n",
              "      <td>0.2</td>\n",
              "      <td>Iris-setosa</td>\n",
              "    </tr>\n",
              "    <tr>\n",
              "      <th>1</th>\n",
              "      <td>4.9</td>\n",
              "      <td>3.0</td>\n",
              "      <td>1.4</td>\n",
              "      <td>0.2</td>\n",
              "      <td>Iris-setosa</td>\n",
              "    </tr>\n",
              "    <tr>\n",
              "      <th>2</th>\n",
              "      <td>4.7</td>\n",
              "      <td>3.2</td>\n",
              "      <td>1.3</td>\n",
              "      <td>0.2</td>\n",
              "      <td>Iris-setosa</td>\n",
              "    </tr>\n",
              "    <tr>\n",
              "      <th>3</th>\n",
              "      <td>4.6</td>\n",
              "      <td>3.1</td>\n",
              "      <td>1.5</td>\n",
              "      <td>0.2</td>\n",
              "      <td>Iris-setosa</td>\n",
              "    </tr>\n",
              "    <tr>\n",
              "      <th>4</th>\n",
              "      <td>5.0</td>\n",
              "      <td>3.6</td>\n",
              "      <td>1.4</td>\n",
              "      <td>0.2</td>\n",
              "      <td>Iris-setosa</td>\n",
              "    </tr>\n",
              "    <tr>\n",
              "      <th>...</th>\n",
              "      <td>...</td>\n",
              "      <td>...</td>\n",
              "      <td>...</td>\n",
              "      <td>...</td>\n",
              "      <td>...</td>\n",
              "    </tr>\n",
              "    <tr>\n",
              "      <th>145</th>\n",
              "      <td>6.7</td>\n",
              "      <td>3.0</td>\n",
              "      <td>5.2</td>\n",
              "      <td>2.3</td>\n",
              "      <td>Iris-virginica</td>\n",
              "    </tr>\n",
              "    <tr>\n",
              "      <th>146</th>\n",
              "      <td>6.3</td>\n",
              "      <td>2.5</td>\n",
              "      <td>5.0</td>\n",
              "      <td>1.9</td>\n",
              "      <td>Iris-virginica</td>\n",
              "    </tr>\n",
              "    <tr>\n",
              "      <th>147</th>\n",
              "      <td>6.5</td>\n",
              "      <td>3.0</td>\n",
              "      <td>5.2</td>\n",
              "      <td>2.0</td>\n",
              "      <td>Iris-virginica</td>\n",
              "    </tr>\n",
              "    <tr>\n",
              "      <th>148</th>\n",
              "      <td>6.2</td>\n",
              "      <td>3.4</td>\n",
              "      <td>5.4</td>\n",
              "      <td>2.3</td>\n",
              "      <td>Iris-virginica</td>\n",
              "    </tr>\n",
              "    <tr>\n",
              "      <th>149</th>\n",
              "      <td>5.9</td>\n",
              "      <td>3.0</td>\n",
              "      <td>5.1</td>\n",
              "      <td>1.8</td>\n",
              "      <td>Iris-virginica</td>\n",
              "    </tr>\n",
              "  </tbody>\n",
              "</table>\n",
              "<p>150 rows × 5 columns</p>\n",
              "</div>"
            ],
            "text/plain": [
              "     SepalLength  SepalWidth  PetalLength  PetalWidth            Name\n",
              "0            5.1         3.5          1.4         0.2     Iris-setosa\n",
              "1            4.9         3.0          1.4         0.2     Iris-setosa\n",
              "2            4.7         3.2          1.3         0.2     Iris-setosa\n",
              "3            4.6         3.1          1.5         0.2     Iris-setosa\n",
              "4            5.0         3.6          1.4         0.2     Iris-setosa\n",
              "..           ...         ...          ...         ...             ...\n",
              "145          6.7         3.0          5.2         2.3  Iris-virginica\n",
              "146          6.3         2.5          5.0         1.9  Iris-virginica\n",
              "147          6.5         3.0          5.2         2.0  Iris-virginica\n",
              "148          6.2         3.4          5.4         2.3  Iris-virginica\n",
              "149          5.9         3.0          5.1         1.8  Iris-virginica\n",
              "\n",
              "[150 rows x 5 columns]"
            ]
          },
          "metadata": {
            "tags": []
          },
          "execution_count": 2
        }
      ]
    },
    {
      "cell_type": "markdown",
      "metadata": {
        "id": "_j0jAFKUAl5O"
      },
      "source": [
        "ตัด column สุดท้าย ที่เป็น class ของข้อมูลออก"
      ]
    },
    {
      "cell_type": "code",
      "metadata": {
        "colab": {
          "base_uri": "https://localhost:8080/",
          "height": 419
        },
        "id": "k3R9-oiiAmIw",
        "outputId": "55f9ebcd-a4c0-4b3c-9e10-f50bfbfd977d"
      },
      "source": [
        "example_df_drop = example_df.iloc[:,:-1]\n",
        "example_df_drop"
      ],
      "execution_count": 3,
      "outputs": [
        {
          "output_type": "execute_result",
          "data": {
            "text/html": [
              "<div>\n",
              "<style scoped>\n",
              "    .dataframe tbody tr th:only-of-type {\n",
              "        vertical-align: middle;\n",
              "    }\n",
              "\n",
              "    .dataframe tbody tr th {\n",
              "        vertical-align: top;\n",
              "    }\n",
              "\n",
              "    .dataframe thead th {\n",
              "        text-align: right;\n",
              "    }\n",
              "</style>\n",
              "<table border=\"1\" class=\"dataframe\">\n",
              "  <thead>\n",
              "    <tr style=\"text-align: right;\">\n",
              "      <th></th>\n",
              "      <th>SepalLength</th>\n",
              "      <th>SepalWidth</th>\n",
              "      <th>PetalLength</th>\n",
              "      <th>PetalWidth</th>\n",
              "    </tr>\n",
              "  </thead>\n",
              "  <tbody>\n",
              "    <tr>\n",
              "      <th>0</th>\n",
              "      <td>5.1</td>\n",
              "      <td>3.5</td>\n",
              "      <td>1.4</td>\n",
              "      <td>0.2</td>\n",
              "    </tr>\n",
              "    <tr>\n",
              "      <th>1</th>\n",
              "      <td>4.9</td>\n",
              "      <td>3.0</td>\n",
              "      <td>1.4</td>\n",
              "      <td>0.2</td>\n",
              "    </tr>\n",
              "    <tr>\n",
              "      <th>2</th>\n",
              "      <td>4.7</td>\n",
              "      <td>3.2</td>\n",
              "      <td>1.3</td>\n",
              "      <td>0.2</td>\n",
              "    </tr>\n",
              "    <tr>\n",
              "      <th>3</th>\n",
              "      <td>4.6</td>\n",
              "      <td>3.1</td>\n",
              "      <td>1.5</td>\n",
              "      <td>0.2</td>\n",
              "    </tr>\n",
              "    <tr>\n",
              "      <th>4</th>\n",
              "      <td>5.0</td>\n",
              "      <td>3.6</td>\n",
              "      <td>1.4</td>\n",
              "      <td>0.2</td>\n",
              "    </tr>\n",
              "    <tr>\n",
              "      <th>...</th>\n",
              "      <td>...</td>\n",
              "      <td>...</td>\n",
              "      <td>...</td>\n",
              "      <td>...</td>\n",
              "    </tr>\n",
              "    <tr>\n",
              "      <th>145</th>\n",
              "      <td>6.7</td>\n",
              "      <td>3.0</td>\n",
              "      <td>5.2</td>\n",
              "      <td>2.3</td>\n",
              "    </tr>\n",
              "    <tr>\n",
              "      <th>146</th>\n",
              "      <td>6.3</td>\n",
              "      <td>2.5</td>\n",
              "      <td>5.0</td>\n",
              "      <td>1.9</td>\n",
              "    </tr>\n",
              "    <tr>\n",
              "      <th>147</th>\n",
              "      <td>6.5</td>\n",
              "      <td>3.0</td>\n",
              "      <td>5.2</td>\n",
              "      <td>2.0</td>\n",
              "    </tr>\n",
              "    <tr>\n",
              "      <th>148</th>\n",
              "      <td>6.2</td>\n",
              "      <td>3.4</td>\n",
              "      <td>5.4</td>\n",
              "      <td>2.3</td>\n",
              "    </tr>\n",
              "    <tr>\n",
              "      <th>149</th>\n",
              "      <td>5.9</td>\n",
              "      <td>3.0</td>\n",
              "      <td>5.1</td>\n",
              "      <td>1.8</td>\n",
              "    </tr>\n",
              "  </tbody>\n",
              "</table>\n",
              "<p>150 rows × 4 columns</p>\n",
              "</div>"
            ],
            "text/plain": [
              "     SepalLength  SepalWidth  PetalLength  PetalWidth\n",
              "0            5.1         3.5          1.4         0.2\n",
              "1            4.9         3.0          1.4         0.2\n",
              "2            4.7         3.2          1.3         0.2\n",
              "3            4.6         3.1          1.5         0.2\n",
              "4            5.0         3.6          1.4         0.2\n",
              "..           ...         ...          ...         ...\n",
              "145          6.7         3.0          5.2         2.3\n",
              "146          6.3         2.5          5.0         1.9\n",
              "147          6.5         3.0          5.2         2.0\n",
              "148          6.2         3.4          5.4         2.3\n",
              "149          5.9         3.0          5.1         1.8\n",
              "\n",
              "[150 rows x 4 columns]"
            ]
          },
          "metadata": {
            "tags": []
          },
          "execution_count": 3
        }
      ]
    },
    {
      "cell_type": "markdown",
      "metadata": {
        "id": "DPTjGfK1Apl2"
      },
      "source": [
        "## Kmean"
      ]
    },
    {
      "cell_type": "markdown",
      "metadata": {
        "id": "xiFy1BT9AqB4"
      },
      "source": [
        "#### Import"
      ]
    },
    {
      "cell_type": "code",
      "metadata": {
        "id": "bZVY8BMTAtFP"
      },
      "source": [
        " from sklearn.cluster import KMeans "
      ],
      "execution_count": 6,
      "outputs": []
    },
    {
      "cell_type": "markdown",
      "metadata": {
        "id": "uWzK4fcBAyAm"
      },
      "source": [
        "#### Define"
      ]
    },
    {
      "cell_type": "code",
      "metadata": {
        "id": "edovfMdYAnwO"
      },
      "source": [
        "kmeans = KMeans(random_state=2021)"
      ],
      "execution_count": 7,
      "outputs": []
    },
    {
      "cell_type": "markdown",
      "metadata": {
        "id": "tOY4fWJHA2zP"
      },
      "source": [
        "#### Fit - Transform"
      ]
    },
    {
      "cell_type": "markdown",
      "metadata": {
        "id": "TL4QxJdGA7_O"
      },
      "source": [
        "คำนวณหาจุด cluster centers ของข้อมูล example_df_drop ด้วย วิธี K-means clustering"
      ]
    },
    {
      "cell_type": "code",
      "metadata": {
        "colab": {
          "base_uri": "https://localhost:8080/"
        },
        "id": "1MtyI9oaA-oI",
        "outputId": "5abedb65-c2ac-4455-98ec-be2ac5a685fb"
      },
      "source": [
        "kmeans.fit(example_df_drop) # คำนวณ ด้วย fit"
      ],
      "execution_count": 8,
      "outputs": [
        {
          "output_type": "execute_result",
          "data": {
            "text/plain": [
              "KMeans(algorithm='auto', copy_x=True, init='k-means++', max_iter=300,\n",
              "       n_clusters=8, n_init=10, n_jobs=None, precompute_distances='auto',\n",
              "       random_state=2021, tol=0.0001, verbose=0)"
            ]
          },
          "metadata": {
            "tags": []
          },
          "execution_count": 8
        }
      ]
    },
    {
      "cell_type": "markdown",
      "metadata": {
        "id": "PiH-Db9NA_6f"
      },
      "source": [
        "เเสดง จุด cluster centers ที่คำนวณออกมาได้"
      ]
    },
    {
      "cell_type": "code",
      "metadata": {
        "colab": {
          "base_uri": "https://localhost:8080/"
        },
        "id": "MkaawSnPBBTp",
        "outputId": "1c614d26-81eb-4d41-f196-73d7978022a2"
      },
      "source": [
        "kmeans.cluster_centers_ # จุดศูนย์กลางของเเต่ละกลุ่ม"
      ],
      "execution_count": 9,
      "outputs": [
        {
          "output_type": "execute_result",
          "data": {
            "text/plain": [
              "array([[5.25555556, 3.67037037, 1.5037037 , 0.28888889],\n",
              "       [6.43      , 2.94      , 4.59      , 1.435     ],\n",
              "       [7.475     , 3.125     , 6.3       , 2.05      ],\n",
              "       [4.71304348, 3.12173913, 1.4173913 , 0.19130435],\n",
              "       [5.62083333, 2.69166667, 4.075     , 1.2625    ],\n",
              "       [6.56818182, 3.08636364, 5.53636364, 2.16363636],\n",
              "       [5.        , 2.3       , 3.275     , 1.025     ],\n",
              "       [6.02777778, 2.73333333, 5.02777778, 1.79444444]])"
            ]
          },
          "metadata": {
            "tags": []
          },
          "execution_count": 9
        }
      ]
    },
    {
      "cell_type": "markdown",
      "metadata": {
        "id": "e20LFytJBDpo"
      },
      "source": [
        "ทดสอบการจัดกลุ่มของ Data"
      ]
    },
    {
      "cell_type": "code",
      "metadata": {
        "id": "cDwq3LVIBFI-"
      },
      "source": [
        "y = kmeans.predict(example_df_drop)\n",
        "y"
      ],
      "execution_count": null,
      "outputs": []
    },
    {
      "cell_type": "markdown",
      "metadata": {
        "id": "v9xAnObtBG2W"
      },
      "source": [
        "Quiz 6 ทำ PCA ข้อมูลexample_df_dropเเล้ว plot scatter plot โดยใส่สีตามผลการทำ kmeans clustering เเล้วนำมาเทียบ กราฟ PCA - scatter ของข้อมูลจริง"
      ]
    },
    {
      "cell_type": "markdown",
      "metadata": {
        "id": "i1cZsKeQBLDW"
      },
      "source": [
        "#### Import"
      ]
    },
    {
      "cell_type": "code",
      "metadata": {
        "id": "-cLHeUkOBLdW"
      },
      "source": [
        "from sklearn.decomposition import PCA"
      ],
      "execution_count": 12,
      "outputs": []
    },
    {
      "cell_type": "markdown",
      "metadata": {
        "id": "u14sNiJgBM3H"
      },
      "source": [
        "#### Define"
      ]
    },
    {
      "cell_type": "code",
      "metadata": {
        "id": "RkSGYjJtBOvm"
      },
      "source": [
        "pca = PCA(n_components=2)"
      ],
      "execution_count": 13,
      "outputs": []
    },
    {
      "cell_type": "markdown",
      "metadata": {
        "id": "Y55AvjJjBSVL"
      },
      "source": [
        "#### Fit - Transform"
      ]
    },
    {
      "cell_type": "code",
      "metadata": {
        "id": "MkDjdAKxBToY"
      },
      "source": [
        "new_pca = pca.fit_transform(example_df_drop.to_numpy())"
      ],
      "execution_count": 14,
      "outputs": []
    },
    {
      "cell_type": "code",
      "metadata": {
        "colab": {
          "base_uri": "https://localhost:8080/"
        },
        "id": "ZXHMjZWiBUR2",
        "outputId": "ac2727f5-84d5-4708-bdb3-09b1e2eb5323"
      },
      "source": [
        "new_pca.shape"
      ],
      "execution_count": 15,
      "outputs": [
        {
          "output_type": "execute_result",
          "data": {
            "text/plain": [
              "(150, 2)"
            ]
          },
          "metadata": {
            "tags": []
          },
          "execution_count": 15
        }
      ]
    },
    {
      "cell_type": "code",
      "metadata": {
        "colab": {
          "base_uri": "https://localhost:8080/"
        },
        "id": "G9FxkOYZBY9p",
        "outputId": "7a9b3307-4fb7-432d-faf1-9f0d526e78db"
      },
      "source": [
        "new_pca"
      ],
      "execution_count": 16,
      "outputs": [
        {
          "output_type": "execute_result",
          "data": {
            "text/plain": [
              "array([[-2.68420713,  0.32660731],\n",
              "       [-2.71539062, -0.16955685],\n",
              "       [-2.88981954, -0.13734561],\n",
              "       [-2.7464372 , -0.31112432],\n",
              "       [-2.72859298,  0.33392456],\n",
              "       [-2.27989736,  0.74778271],\n",
              "       [-2.82089068, -0.08210451],\n",
              "       [-2.62648199,  0.17040535],\n",
              "       [-2.88795857, -0.57079803],\n",
              "       [-2.67384469, -0.1066917 ],\n",
              "       [-2.50652679,  0.65193501],\n",
              "       [-2.61314272,  0.02152063],\n",
              "       [-2.78743398, -0.22774019],\n",
              "       [-3.22520045, -0.50327991],\n",
              "       [-2.64354322,  1.1861949 ],\n",
              "       [-2.38386932,  1.34475434],\n",
              "       [-2.6225262 ,  0.81808967],\n",
              "       [-2.64832273,  0.31913667],\n",
              "       [-2.19907796,  0.87924409],\n",
              "       [-2.58734619,  0.52047364],\n",
              "       [-2.3105317 ,  0.39786782],\n",
              "       [-2.54323491,  0.44003175],\n",
              "       [-3.21585769,  0.14161557],\n",
              "       [-2.30312854,  0.10552268],\n",
              "       [-2.35617109, -0.03120959],\n",
              "       [-2.50791723, -0.13905634],\n",
              "       [-2.469056  ,  0.13788731],\n",
              "       [-2.56239095,  0.37468456],\n",
              "       [-2.63982127,  0.31929007],\n",
              "       [-2.63284791, -0.19007583],\n",
              "       [-2.58846205, -0.19739308],\n",
              "       [-2.41007734,  0.41808001],\n",
              "       [-2.64763667,  0.81998263],\n",
              "       [-2.59715948,  1.10002193],\n",
              "       [-2.67384469, -0.1066917 ],\n",
              "       [-2.86699985,  0.0771931 ],\n",
              "       [-2.62522846,  0.60680001],\n",
              "       [-2.67384469, -0.1066917 ],\n",
              "       [-2.98184266, -0.48025005],\n",
              "       [-2.59032303,  0.23605934],\n",
              "       [-2.77013891,  0.27105942],\n",
              "       [-2.85221108, -0.93286537],\n",
              "       [-2.99829644, -0.33430757],\n",
              "       [-2.4055141 ,  0.19591726],\n",
              "       [-2.20883295,  0.44269603],\n",
              "       [-2.71566519, -0.24268148],\n",
              "       [-2.53757337,  0.51036755],\n",
              "       [-2.8403213 , -0.22057634],\n",
              "       [-2.54268576,  0.58628103],\n",
              "       [-2.70391231,  0.11501085],\n",
              "       [ 1.28479459,  0.68543919],\n",
              "       [ 0.93241075,  0.31919809],\n",
              "       [ 1.46406132,  0.50418983],\n",
              "       [ 0.18096721, -0.82560394],\n",
              "       [ 1.08713449,  0.07539039],\n",
              "       [ 0.64043675, -0.41732348],\n",
              "       [ 1.09522371,  0.28389121],\n",
              "       [-0.75146714, -1.00110751],\n",
              "       [ 1.04329778,  0.22895691],\n",
              "       [-0.01019007, -0.72057487],\n",
              "       [-0.5110862 , -1.26249195],\n",
              "       [ 0.51109806, -0.10228411],\n",
              "       [ 0.26233576, -0.5478933 ],\n",
              "       [ 0.98404455, -0.12436042],\n",
              "       [-0.174864  , -0.25181557],\n",
              "       [ 0.92757294,  0.46823621],\n",
              "       [ 0.65959279, -0.35197629],\n",
              "       [ 0.23454059, -0.33192183],\n",
              "       [ 0.94236171, -0.54182226],\n",
              "       [ 0.0432464 , -0.58148945],\n",
              "       [ 1.11624072, -0.08421401],\n",
              "       [ 0.35678657, -0.06682383],\n",
              "       [ 1.29646885, -0.32756152],\n",
              "       [ 0.92050265, -0.18239036],\n",
              "       [ 0.71400821,  0.15037915],\n",
              "       [ 0.89964086,  0.32961098],\n",
              "       [ 1.33104142,  0.24466952],\n",
              "       [ 1.55739627,  0.26739258],\n",
              "       [ 0.81245555, -0.16233157],\n",
              "       [-0.30733476, -0.36508661],\n",
              "       [-0.07034289, -0.70253793],\n",
              "       [-0.19188449, -0.67749054],\n",
              "       [ 0.13499495, -0.31170964],\n",
              "       [ 1.37873698, -0.42120514],\n",
              "       [ 0.58727485, -0.48328427],\n",
              "       [ 0.8072055 ,  0.19505396],\n",
              "       [ 1.22042897,  0.40803534],\n",
              "       [ 0.81286779, -0.370679  ],\n",
              "       [ 0.24519516, -0.26672804],\n",
              "       [ 0.16451343, -0.67966147],\n",
              "       [ 0.46303099, -0.66952655],\n",
              "       [ 0.89016045, -0.03381244],\n",
              "       [ 0.22887905, -0.40225762],\n",
              "       [-0.70708128, -1.00842476],\n",
              "       [ 0.35553304, -0.50321849],\n",
              "       [ 0.33112695, -0.21118014],\n",
              "       [ 0.37523823, -0.29162202],\n",
              "       [ 0.64169028,  0.01907118],\n",
              "       [-0.90846333, -0.75156873],\n",
              "       [ 0.29780791, -0.34701652],\n",
              "       [ 2.53172698, -0.01184224],\n",
              "       [ 1.41407223, -0.57492506],\n",
              "       [ 2.61648461,  0.34193529],\n",
              "       [ 1.97081495, -0.18112569],\n",
              "       [ 2.34975798, -0.04188255],\n",
              "       [ 3.39687992,  0.54716805],\n",
              "       [ 0.51938325, -1.19135169],\n",
              "       [ 2.9320051 ,  0.35237701],\n",
              "       [ 2.31967279, -0.24554817],\n",
              "       [ 2.91813423,  0.78038063],\n",
              "       [ 1.66193495,  0.2420384 ],\n",
              "       [ 1.80234045, -0.21615461],\n",
              "       [ 2.16537886,  0.21528028],\n",
              "       [ 1.34459422, -0.77641543],\n",
              "       [ 1.5852673 , -0.53930705],\n",
              "       [ 1.90474358,  0.11881899],\n",
              "       [ 1.94924878,  0.04073026],\n",
              "       [ 3.48876538,  1.17154454],\n",
              "       [ 3.79468686,  0.25326557],\n",
              "       [ 1.29832982, -0.76101394],\n",
              "       [ 2.42816726,  0.37678197],\n",
              "       [ 1.19809737, -0.60557896],\n",
              "       [ 3.49926548,  0.45677347],\n",
              "       [ 1.38766825, -0.20403099],\n",
              "       [ 2.27585365,  0.33338653],\n",
              "       [ 2.61419383,  0.55836695],\n",
              "       [ 1.25762518, -0.179137  ],\n",
              "       [ 1.29066965, -0.11642525],\n",
              "       [ 2.12285398, -0.21085488],\n",
              "       [ 2.3875644 ,  0.46251925],\n",
              "       [ 2.84096093,  0.37274259],\n",
              "       [ 3.2323429 ,  1.37052404],\n",
              "       [ 2.15873837, -0.21832553],\n",
              "       [ 1.4431026 , -0.14380129],\n",
              "       [ 1.77964011, -0.50146479],\n",
              "       [ 3.07652162,  0.68576444],\n",
              "       [ 2.14498686,  0.13890661],\n",
              "       [ 1.90486293,  0.04804751],\n",
              "       [ 1.16885347, -0.1645025 ],\n",
              "       [ 2.10765373,  0.37148225],\n",
              "       [ 2.31430339,  0.18260885],\n",
              "       [ 1.92245088,  0.40927118],\n",
              "       [ 1.41407223, -0.57492506],\n",
              "       [ 2.56332271,  0.2759745 ],\n",
              "       [ 2.41939122,  0.30350394],\n",
              "       [ 1.94401705,  0.18741522],\n",
              "       [ 1.52566363, -0.37502085],\n",
              "       [ 1.76404594,  0.07851919],\n",
              "       [ 1.90162908,  0.11587675],\n",
              "       [ 1.38966613, -0.28288671]])"
            ]
          },
          "metadata": {
            "tags": []
          },
          "execution_count": 16
        }
      ]
    }
  ]
}