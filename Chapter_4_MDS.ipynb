{
  "nbformat": 4,
  "nbformat_minor": 0,
  "metadata": {
    "colab": {
      "name": "Chapter 4 MDS.ipynb",
      "provenance": [],
      "authorship_tag": "ABX9TyPdxYF5Jx8afWh9nrBSE1bn",
      "include_colab_link": true
    },
    "kernelspec": {
      "name": "python3",
      "display_name": "Python 3"
    },
    "language_info": {
      "name": "python"
    }
  },
  "cells": [
    {
      "cell_type": "markdown",
      "metadata": {
        "id": "view-in-github",
        "colab_type": "text"
      },
      "source": [
        "<a href=\"https://colab.research.google.com/github/team0243/multivariate/blob/main/Chapter_4_MDS.ipynb\" target=\"_parent\"><img src=\"https://colab.research.google.com/assets/colab-badge.svg\" alt=\"Open In Colab\"/></a>"
      ]
    },
    {
      "cell_type": "code",
      "metadata": {
        "id": "2VpAVekQaPgj"
      },
      "source": [
        ""
      ],
      "execution_count": null,
      "outputs": []
    },
    {
      "cell_type": "markdown",
      "metadata": {
        "id": "TrtVSgXwbKa0"
      },
      "source": [
        "# Multidimension Scaling คือ การลดขนาดของตัวเเปร จากที่มีเยอะให้เหลือน้อยๆ"
      ]
    },
    {
      "cell_type": "markdown",
      "metadata": {
        "id": "nN9x2ax6bMl-"
      },
      "source": [
        "## Example on Iris dataset"
      ]
    },
    {
      "cell_type": "code",
      "metadata": {
        "id": "sTNy8d4MbUhc"
      },
      "source": [
        "import pandas as pd"
      ],
      "execution_count": null,
      "outputs": []
    },
    {
      "cell_type": "code",
      "metadata": {
        "colab": {
          "base_uri": "https://localhost:8080/",
          "height": 419
        },
        "id": "CChT0-qxbWne",
        "outputId": "54584aed-20db-43a0-f762-c4689f0f0011"
      },
      "source": [
        "example_df = pd.read_csv(\n",
        "    'https://raw.github.com/pandas-dev/'\n",
        "    'pandas/master/pandas/tests/io/data/csv/iris.csv'\n",
        ")\n",
        "example_df"
      ],
      "execution_count": null,
      "outputs": [
        {
          "output_type": "execute_result",
          "data": {
            "text/html": [
              "<div>\n",
              "<style scoped>\n",
              "    .dataframe tbody tr th:only-of-type {\n",
              "        vertical-align: middle;\n",
              "    }\n",
              "\n",
              "    .dataframe tbody tr th {\n",
              "        vertical-align: top;\n",
              "    }\n",
              "\n",
              "    .dataframe thead th {\n",
              "        text-align: right;\n",
              "    }\n",
              "</style>\n",
              "<table border=\"1\" class=\"dataframe\">\n",
              "  <thead>\n",
              "    <tr style=\"text-align: right;\">\n",
              "      <th></th>\n",
              "      <th>SepalLength</th>\n",
              "      <th>SepalWidth</th>\n",
              "      <th>PetalLength</th>\n",
              "      <th>PetalWidth</th>\n",
              "      <th>Name</th>\n",
              "    </tr>\n",
              "  </thead>\n",
              "  <tbody>\n",
              "    <tr>\n",
              "      <th>0</th>\n",
              "      <td>5.1</td>\n",
              "      <td>3.5</td>\n",
              "      <td>1.4</td>\n",
              "      <td>0.2</td>\n",
              "      <td>Iris-setosa</td>\n",
              "    </tr>\n",
              "    <tr>\n",
              "      <th>1</th>\n",
              "      <td>4.9</td>\n",
              "      <td>3.0</td>\n",
              "      <td>1.4</td>\n",
              "      <td>0.2</td>\n",
              "      <td>Iris-setosa</td>\n",
              "    </tr>\n",
              "    <tr>\n",
              "      <th>2</th>\n",
              "      <td>4.7</td>\n",
              "      <td>3.2</td>\n",
              "      <td>1.3</td>\n",
              "      <td>0.2</td>\n",
              "      <td>Iris-setosa</td>\n",
              "    </tr>\n",
              "    <tr>\n",
              "      <th>3</th>\n",
              "      <td>4.6</td>\n",
              "      <td>3.1</td>\n",
              "      <td>1.5</td>\n",
              "      <td>0.2</td>\n",
              "      <td>Iris-setosa</td>\n",
              "    </tr>\n",
              "    <tr>\n",
              "      <th>4</th>\n",
              "      <td>5.0</td>\n",
              "      <td>3.6</td>\n",
              "      <td>1.4</td>\n",
              "      <td>0.2</td>\n",
              "      <td>Iris-setosa</td>\n",
              "    </tr>\n",
              "    <tr>\n",
              "      <th>...</th>\n",
              "      <td>...</td>\n",
              "      <td>...</td>\n",
              "      <td>...</td>\n",
              "      <td>...</td>\n",
              "      <td>...</td>\n",
              "    </tr>\n",
              "    <tr>\n",
              "      <th>145</th>\n",
              "      <td>6.7</td>\n",
              "      <td>3.0</td>\n",
              "      <td>5.2</td>\n",
              "      <td>2.3</td>\n",
              "      <td>Iris-virginica</td>\n",
              "    </tr>\n",
              "    <tr>\n",
              "      <th>146</th>\n",
              "      <td>6.3</td>\n",
              "      <td>2.5</td>\n",
              "      <td>5.0</td>\n",
              "      <td>1.9</td>\n",
              "      <td>Iris-virginica</td>\n",
              "    </tr>\n",
              "    <tr>\n",
              "      <th>147</th>\n",
              "      <td>6.5</td>\n",
              "      <td>3.0</td>\n",
              "      <td>5.2</td>\n",
              "      <td>2.0</td>\n",
              "      <td>Iris-virginica</td>\n",
              "    </tr>\n",
              "    <tr>\n",
              "      <th>148</th>\n",
              "      <td>6.2</td>\n",
              "      <td>3.4</td>\n",
              "      <td>5.4</td>\n",
              "      <td>2.3</td>\n",
              "      <td>Iris-virginica</td>\n",
              "    </tr>\n",
              "    <tr>\n",
              "      <th>149</th>\n",
              "      <td>5.9</td>\n",
              "      <td>3.0</td>\n",
              "      <td>5.1</td>\n",
              "      <td>1.8</td>\n",
              "      <td>Iris-virginica</td>\n",
              "    </tr>\n",
              "  </tbody>\n",
              "</table>\n",
              "<p>150 rows × 5 columns</p>\n",
              "</div>"
            ],
            "text/plain": [
              "     SepalLength  SepalWidth  PetalLength  PetalWidth            Name\n",
              "0            5.1         3.5          1.4         0.2     Iris-setosa\n",
              "1            4.9         3.0          1.4         0.2     Iris-setosa\n",
              "2            4.7         3.2          1.3         0.2     Iris-setosa\n",
              "3            4.6         3.1          1.5         0.2     Iris-setosa\n",
              "4            5.0         3.6          1.4         0.2     Iris-setosa\n",
              "..           ...         ...          ...         ...             ...\n",
              "145          6.7         3.0          5.2         2.3  Iris-virginica\n",
              "146          6.3         2.5          5.0         1.9  Iris-virginica\n",
              "147          6.5         3.0          5.2         2.0  Iris-virginica\n",
              "148          6.2         3.4          5.4         2.3  Iris-virginica\n",
              "149          5.9         3.0          5.1         1.8  Iris-virginica\n",
              "\n",
              "[150 rows x 5 columns]"
            ]
          },
          "metadata": {
            "tags": []
          },
          "execution_count": 2
        }
      ]
    },
    {
      "cell_type": "markdown",
      "metadata": {
        "id": "wNLT9L2VbcJw"
      },
      "source": [
        "**ลอง plot PCA เพื่อเปรียบเทียบกับ วิธี MDS**"
      ]
    },
    {
      "cell_type": "code",
      "metadata": {
        "id": "zdCn6fe7bd1f"
      },
      "source": [
        "from sklearn.decomposition import PCA"
      ],
      "execution_count": null,
      "outputs": []
    },
    {
      "cell_type": "code",
      "metadata": {
        "id": "fU0ZDgcOblXn"
      },
      "source": [
        "pca = PCA(n_components=2) # เอาเเค่สองเเกนหลัก"
      ],
      "execution_count": null,
      "outputs": []
    },
    {
      "cell_type": "code",
      "metadata": {
        "id": "389bq1u0bn9f"
      },
      "source": [
        "new_pca = pca.fit_transform(example_df.iloc[:,:-1])"
      ],
      "execution_count": null,
      "outputs": []
    },
    {
      "cell_type": "code",
      "metadata": {
        "id": "ai8uXwT5bo_y"
      },
      "source": [
        "from matplotlib import pyplot as plt"
      ],
      "execution_count": null,
      "outputs": []
    },
    {
      "cell_type": "code",
      "metadata": {
        "colab": {
          "base_uri": "https://localhost:8080/",
          "height": 286
        },
        "id": "TFdaEdokbqUv",
        "outputId": "4a1ac419-cc2e-4b97-b62e-edbc7371e6f2"
      },
      "source": [
        "plt.plot(new_pca[:50,0],new_pca[:50,1],'or',label='Setosa')  # พร็อตเเบ่งสามพันธุ์\n",
        "plt.plot(new_pca[50:100,0],new_pca[50:100,1],'oc',label='Versicolor') \n",
        "plt.plot(new_pca[100:,0],new_pca[100:,1],'om',label='Virginica')\n",
        "plt.legend()"
      ],
      "execution_count": null,
      "outputs": [
        {
          "output_type": "execute_result",
          "data": {
            "text/plain": [
              "<matplotlib.legend.Legend at 0x7fabafda7290>"
            ]
          },
          "metadata": {
            "tags": []
          },
          "execution_count": 13
        },
        {
          "output_type": "display_data",
          "data": {
            "image/png": "[encoded data removed]",
            "text/plain": [
              "<Figure size 432x288 with 1 Axes>"
            ]
          },
          "metadata": {
            "tags": [],
            "needs_background": "light"
          }
        }
      ]
    },
    {
      "cell_type": "markdown",
      "metadata": {
        "id": "4MKHkrYHca-L"
      },
      "source": [
        "## MDS(Multidimensional Scaling)"
      ]
    },
    {
      "cell_type": "markdown",
      "metadata": {
        "id": "vnSHCiSGccWb"
      },
      "source": [
        "Distance คือ ระยะห่างระหว่างจุด"
      ]
    },
    {
      "cell_type": "code",
      "metadata": {
        "colab": {
          "base_uri": "https://localhost:8080/"
        },
        "id": "2jCmE4dycc9N",
        "outputId": "f3cbda18-1419-4149-9f5b-3d812f0bd776"
      },
      "source": [
        "X1 = example_df.iloc[0,:-1].to_numpy() # เอาตั้งเเต่จุดที่หนึ่งยกเว้นชื่อมัน\n",
        "X1"
      ],
      "execution_count": null,
      "outputs": [
        {
          "output_type": "execute_result",
          "data": {
            "text/plain": [
              "array([5.1, 3.5, 1.4, 0.2], dtype=object)"
            ]
          },
          "metadata": {
            "tags": []
          },
          "execution_count": 16
        }
      ]
    },
    {
      "cell_type": "code",
      "metadata": {
        "colab": {
          "base_uri": "https://localhost:8080/"
        },
        "id": "XyhVLmF5cfcq",
        "outputId": "ed5c6cca-d9b1-492a-b4c2-1936d003cadf"
      },
      "source": [
        "X2 = example_df.iloc[1,:-1].to_numpy() # เอาตั้งเเต่จุดที่ 2 ยกเว้นชื่อมัน\n",
        "X2"
      ],
      "execution_count": null,
      "outputs": [
        {
          "output_type": "execute_result",
          "data": {
            "text/plain": [
              "array([4.9, 3.0, 1.4, 0.2], dtype=object)"
            ]
          },
          "metadata": {
            "tags": []
          },
          "execution_count": 15
        }
      ]
    },
    {
      "cell_type": "code",
      "metadata": {
        "id": "_Bcup8dRcg7K"
      },
      "source": [
        "import numpy as np"
      ],
      "execution_count": null,
      "outputs": []
    },
    {
      "cell_type": "code",
      "metadata": {
        "colab": {
          "base_uri": "https://localhost:8080/"
        },
        "id": "Vilm-QwtcisL",
        "outputId": "406502b7-ec9c-4fee-84d2-a7ceef368ecc"
      },
      "source": [
        "dist = np.linalg.norm(X1-X2) # ระยะห่างระหว่างจุดที่ 1 กับ 2\n",
        "dist"
      ],
      "execution_count": null,
      "outputs": [
        {
          "output_type": "execute_result",
          "data": {
            "text/plain": [
              "0.5385164807134502"
            ]
          },
          "metadata": {
            "tags": []
          },
          "execution_count": 18
        }
      ]
    },
    {
      "cell_type": "code",
      "metadata": {
        "colab": {
          "base_uri": "https://localhost:8080/"
        },
        "id": "QDrfC1cSckx6",
        "outputId": "8a83b97c-511e-4e9e-a939-9c23fb5bd075"
      },
      "source": [
        "(0.04 + 0.25)**(0.5) # sqrt การยกกำลัง 0.5"
      ],
      "execution_count": null,
      "outputs": [
        {
          "output_type": "execute_result",
          "data": {
            "text/plain": [
              "0.5385164807134504"
            ]
          },
          "metadata": {
            "tags": []
          },
          "execution_count": 19
        }
      ]
    },
    {
      "cell_type": "markdown",
      "metadata": {
        "id": "mPB7UyIJcnA3"
      },
      "source": [
        "## Distance Matrix คือ เเสดงถึงระยะห่างของเเต่ละจุด"
      ]
    },
    {
      "cell_type": "code",
      "metadata": {
        "id": "cu6Ea9OwcnZT"
      },
      "source": [
        "from sklearn.metrics import pairwise_distances\n",
        "dis_matrix = pairwise_distances(example_df.iloc[:,:-1])\n",
        "dis_matrix\n",
        "# 0.53851648 ระยะห่างระหว่างจุด 1 กับ จุด 2"
      ],
      "execution_count": null,
      "outputs": []
    },
    {
      "cell_type": "code",
      "metadata": {
        "colab": {
          "base_uri": "https://localhost:8080/",
          "height": 286
        },
        "id": "Xwk5nfhucoyJ",
        "outputId": "7afef353-866c-4cce-b059-a71280b7f7c6"
      },
      "source": [
        "plt.imshow(dis_matrix) # เเต่ละจุดในmatrix มาพร็อตเป็นสี ยิ่งค่ามาก สีสว่าง ยิ่งค่าน้อย(พันธุ์เดียวกัน) สีเข้ม"
      ],
      "execution_count": null,
      "outputs": [
        {
          "output_type": "execute_result",
          "data": {
            "text/plain": [
              "<matplotlib.image.AxesImage at 0x7fabc6489e10>"
            ]
          },
          "metadata": {
            "tags": []
          },
          "execution_count": 21
        },
        {
          "output_type": "display_data",
          "data": {
            "image/png": "[encoded data removed]",
            "text/plain": [
              "<Figure size 432x288 with 1 Axes>"
            ]
          },
          "metadata": {
            "tags": [],
            "needs_background": "light"
          }
        }
      ]
    },
    {
      "cell_type": "markdown",
      "metadata": {
        "id": "ZFbB3foictMW"
      },
      "source": [
        "#ทำ MDS"
      ]
    },
    {
      "cell_type": "code",
      "metadata": {
        "id": "qtkAuoajcu36"
      },
      "source": [
        "from sklearn.manifold import MDS # อยู่ในโฟลเดอร์ย่อย"
      ],
      "execution_count": null,
      "outputs": []
    },
    {
      "cell_type": "code",
      "metadata": {
        "id": "eCxDJlAUcv9r"
      },
      "source": [
        "mds = MDS(n_components=2)"
      ],
      "execution_count": null,
      "outputs": []
    },
    {
      "cell_type": "code",
      "metadata": {
        "id": "_jltPqTbcw4C"
      },
      "source": [
        "new_mds = mds.fit_transform(example_df.iloc[:,:-1])"
      ],
      "execution_count": null,
      "outputs": []
    },
    {
      "cell_type": "code",
      "metadata": {
        "id": "GB9M6nMNcx3r"
      },
      "source": [
        "new_mds"
      ],
      "execution_count": null,
      "outputs": []
    },
    {
      "cell_type": "markdown",
      "metadata": {
        "id": "3-VH6wZ5c0X3"
      },
      "source": [
        "**สนใจว่าจุดไหนห่างจากจุดไหนมากที่สุด**"
      ]
    },
    {
      "cell_type": "code",
      "metadata": {
        "colab": {
          "base_uri": "https://localhost:8080/",
          "height": 282
        },
        "id": "Q9v2FGyic4jt",
        "outputId": "458406e3-e670-4ba9-e9af-c9e811ed4463"
      },
      "source": [
        "plt.plot(new_mds[:50,0],new_mds[:50,1],'or',label='Setosa')  # พร็อตเเบ่งสามพันธุ์\n",
        "plt.plot(new_mds[50:100,0],new_mds[50:100,1],'og',label='Versicolor') \n",
        "plt.plot(new_mds[100:,0],new_mds[100:,1],'oy',label='Virginica')\n",
        "plt.legend()"
      ],
      "execution_count": null,
      "outputs": [
        {
          "output_type": "execute_result",
          "data": {
            "text/plain": [
              "<matplotlib.legend.Legend at 0x7faba3e23390>"
            ]
          },
          "metadata": {
            "tags": []
          },
          "execution_count": 26
        },
        {
          "output_type": "display_data",
          "data": {
            "image/png": "[encoded data removed]",
            "text/plain": [
              "<Figure size 432x288 with 1 Axes>"
            ]
          },
          "metadata": {
            "tags": [],
            "needs_background": "light"
          }
        }
      ]
    },
    {
      "cell_type": "code",
      "metadata": {
        "colab": {
          "base_uri": "https://localhost:8080/",
          "height": 282
        },
        "id": "gozcA5CxdAVr",
        "outputId": "f97b908a-e911-46cc-8b43-8349f3df4ffc"
      },
      "source": [
        "plt.plot(new_mds[:50,0],new_mds[:50,1],'or',label='Setosa')  # พร็อตเเบ่งสามพันธุ์\n",
        "plt.plot(new_mds[50:100,0],new_mds[50:100,1],'og',label='Versicolor') \n",
        "plt.plot(new_mds[100:,0],new_mds[100:,1],'oy',label='Virginica')\n",
        "plt.plot(new_mds[6,0],new_mds[6,1],'*k') # สุ่มจุด\n",
        "plt.plot(new_mds[56,0],new_mds[56,1],'*m')  # m คือ สีม่วง\n",
        "plt.plot(new_mds[116,0],new_mds[116,1],'*b')\n",
        "plt.legend()  "
      ],
      "execution_count": null,
      "outputs": [
        {
          "output_type": "execute_result",
          "data": {
            "text/plain": [
              "<matplotlib.legend.Legend at 0x7faba3d88450>"
            ]
          },
          "metadata": {
            "tags": []
          },
          "execution_count": 27
        },
        {
          "output_type": "display_data",
          "data": {
            "image/png": "[encoded data removed]",
            "text/plain": [
              "<Figure size 432x288 with 1 Axes>"
            ]
          },
          "metadata": {
            "tags": [],
            "needs_background": "light"
          }
        }
      ]
    },
    {
      "cell_type": "markdown",
      "metadata": {
        "id": "JU34dRlgdCVA"
      },
      "source": [
        "## การใช้ Pre-computed Distance Matrix"
      ]
    },
    {
      "cell_type": "code",
      "metadata": {
        "id": "kBZqZnkTdCxw"
      },
      "source": [
        "dis_matrix = pairwise_distances(example_df.iloc[:,:-1],metric = 'cityblock') ## 'cityblock'"
      ],
      "execution_count": null,
      "outputs": []
    },
    {
      "cell_type": "code",
      "metadata": {
        "id": "2SoGRmYBdD4F"
      },
      "source": [
        "mds2 = MDS(n_components=2,dissimilarity ='precomputed')"
      ],
      "execution_count": null,
      "outputs": []
    },
    {
      "cell_type": "code",
      "metadata": {
        "colab": {
          "base_uri": "https://localhost:8080/"
        },
        "id": "EePzKD7hdFBH",
        "outputId": "4d166a44-2d8d-419f-873d-d5ea1acc65fa"
      },
      "source": [
        "new_mds2 = mds.fit_transform(dis_matrix)"
      ],
      "execution_count": null,
      "outputs": [
        {
          "output_type": "stream",
          "text": [
            "/usr/local/lib/python3.7/dist-packages/sklearn/manifold/_mds.py:419: UserWarning: The MDS API has changed. ``fit`` now constructs an dissimilarity matrix from data. To use a custom dissimilarity matrix, set ``dissimilarity='precomputed'``.\n",
            "  warnings.warn(\"The MDS API has changed. ``fit`` now constructs an\"\n"
          ],
          "name": "stderr"
        }
      ]
    },
    {
      "cell_type": "code",
      "metadata": {
        "colab": {
          "base_uri": "https://localhost:8080/",
          "height": 282
        },
        "id": "Yc_QY4x3dGIr",
        "outputId": "1b83a398-beb8-45c6-fc27-bb8709ca182a"
      },
      "source": [
        "plt.plot(new_mds[:50,0],new_mds[:50,1],'or',label='Setosa')  # พร็อตเเบ่งสามพันธุ์\n",
        "plt.plot(new_mds[50:100,0],new_mds[50:100,1],'og',label='Versicolor') \n",
        "plt.plot(new_mds[100:,0],new_mds[100:,1],'oy',label='Virginica')\n",
        "plt.plot(new_mds[6,0],new_mds[6,1],'*k') # สุ่มจุด\n",
        "plt.plot(new_mds[56,0],new_mds[56,1],'*m')  # m คือ สีม่วง\n",
        "plt.plot(new_mds[116,0],new_mds[116,1],'*b')\n",
        "plt.legend() "
      ],
      "execution_count": null,
      "outputs": [
        {
          "output_type": "execute_result",
          "data": {
            "text/plain": [
              "<matplotlib.legend.Legend at 0x7faba3cc5f50>"
            ]
          },
          "metadata": {
            "tags": []
          },
          "execution_count": 31
        },
        {
          "output_type": "display_data",
          "data": {
            "image/png": "[encoded data removed]",
            "text/plain": [
              "<Figure size 432x288 with 1 Axes>"
            ]
          },
          "metadata": {
            "tags": [],
            "needs_background": "light"
          }
        }
      ]
    },
    {
      "cell_type": "markdown",
      "metadata": {
        "id": "_ngbMoRK6_YM"
      },
      "source": [
        "##EX 2\n",
        "\n",
        "https://jakevdp.github.io/PythonDataScienceHandbook/05.10-manifold-learning.html"
      ]
    },
    {
      "cell_type": "code",
      "metadata": {
        "id": "LbmqNsxV7CQd"
      },
      "source": [
        ""
      ],
      "execution_count": null,
      "outputs": []
    },
    {
      "cell_type": "code",
      "metadata": {
        "id": "CZkkvQ4Q7HOn"
      },
      "source": [
        "import matplotlib.pyplot as plt\n",
        "import seaborn as sns; sns.set() # seaborn ไว้สำหรับวาดกราฟที่สวยงามได้มากกว่า matplotlib\n",
        "import numpy as np"
      ],
      "execution_count": 1,
      "outputs": []
    },
    {
      "cell_type": "code",
      "metadata": {
        "id": "oaT1PcCM7Jt2"
      },
      "source": [
        "def make_hello(N=1000, rseed=42): # N = จำนวนจุด\n",
        "    # Make a plot with \"HELLO\" text; save as PNG\n",
        "    fig, ax = plt.subplots(figsize=(4, 1))\n",
        "    fig.subplots_adjust(left=0, right=1, bottom=0, top=1)\n",
        "    ax.axis('off')\n",
        "    ax.text(0.5, 0.4, 'HELLO', va='center', ha='center', weight='bold', size=85)\n",
        "    fig.savefig('hello.png')\n",
        "    plt.close(fig)\n",
        "    \n",
        "    # Open this PNG and draw random points from it\n",
        "    from matplotlib.image import imread\n",
        "    data = imread('hello.png')[::-1, :, 0].T\n",
        "    rng = np.random.RandomState(rseed)\n",
        "    X = rng.rand(4 * N, 2)\n",
        "    i, j = (X * data.shape).astype(int).T\n",
        "    mask = (data[i, j] < 1)\n",
        "    X = X[mask]\n",
        "    X[:, 0] *= (data.shape[0] / data.shape[1])\n",
        "    X = X[:N]\n",
        "    return X[np.argsort(X[:, 0])]"
      ],
      "execution_count": null,
      "outputs": []
    },
    {
      "cell_type": "code",
      "metadata": {
        "id": "lhAi_m0f7MU8"
      },
      "source": [
        "X = make_hello(1000)"
      ],
      "execution_count": null,
      "outputs": []
    },
    {
      "cell_type": "code",
      "metadata": {
        "id": "HV9SmZK_7Mrj"
      },
      "source": [
        "X.shape # ดูขนาดของ X 1000 จุด 2 คือ จุด x กับ y"
      ],
      "execution_count": null,
      "outputs": []
    },
    {
      "cell_type": "markdown",
      "metadata": {
        "id": "JOIxPePW7OyI"
      },
      "source": [
        "*ไม่ใส่สี*"
      ]
    },
    {
      "cell_type": "code",
      "metadata": {
        "id": "9BspR2ML7TL1"
      },
      "source": [
        "plt.scatter(X[:,0],X[:,1])\n",
        "plt.axis('equal');    # plt.axis ทำให้สเกลของเเต่ละเเกนเท่ากัน"
      ],
      "execution_count": null,
      "outputs": []
    },
    {
      "cell_type": "markdown",
      "metadata": {
        "id": "Kku8VnM57YFu"
      },
      "source": [
        "## เรีกกดูฟังก์ชั่น เเละ พลอตสี"
      ]
    },
    {
      "cell_type": "code",
      "metadata": {
        "id": "kDDz_pFu7blO"
      },
      "source": [
        "colorize = dict(c=X[:, 0], cmap=plt.cm.get_cmap('rainbow', 5)) # c คือ ค่าในเเนวเเกน X"
      ],
      "execution_count": null,
      "outputs": []
    },
    {
      "cell_type": "code",
      "metadata": {
        "id": "Y3qdeAwb7d5M"
      },
      "source": [
        "colorize # ดูขนาดของdictionary"
      ],
      "execution_count": null,
      "outputs": []
    },
    {
      "cell_type": "code",
      "metadata": {
        "id": "f0kFAAYH7gHk"
      },
      "source": [
        "colorize['c'].shape # c = 1000 ตัว"
      ],
      "execution_count": null,
      "outputs": []
    },
    {
      "cell_type": "code",
      "metadata": {
        "id": "GX4-2CcE7hHy"
      },
      "source": [
        "colorize['cmap'] # cmap คือ เรนโบว์"
      ],
      "execution_count": null,
      "outputs": []
    },
    {
      "cell_type": "code",
      "metadata": {
        "id": "6zBABP7R7iH8"
      },
      "source": [
        "plt.scatter(X[:, 0], X[:, 1], **colorize) # เเบบใส่สีเเล้ว\n",
        "plt.axis('equal');"
      ],
      "execution_count": null,
      "outputs": []
    },
    {
      "cell_type": "markdown",
      "metadata": {
        "id": "7FJRflVp7j3m"
      },
      "source": [
        "## หมุน data"
      ]
    },
    {
      "cell_type": "code",
      "metadata": {
        "id": "urcI05Nn7pZL"
      },
      "source": [
        ""
      ],
      "execution_count": null,
      "outputs": []
    },
    {
      "cell_type": "code",
      "metadata": {
        "id": "lDyEu9wR7qIQ"
      },
      "source": [
        "def rotate(X, angle): # ใส่ data \n",
        "    theta = np.deg2rad(angle)\n",
        "    R = [[np.cos(theta), np.sin(theta)],\n",
        "         [-np.sin(theta), np.cos(theta)]]\n",
        "    return np.dot(X, R)"
      ],
      "execution_count": null,
      "outputs": []
    },
    {
      "cell_type": "code",
      "metadata": {
        "id": "h3A0BlS77rKW"
      },
      "source": [
        "X2 = rotate(X, 20)  # หมุนในมุมกี่องศา หมุนใน 20 องศา\n",
        "plt.scatter(X2[:, 0], X2[:, 1], **colorize)\n",
        "plt.axis('equal');"
      ],
      "execution_count": null,
      "outputs": []
    },
    {
      "cell_type": "code",
      "metadata": {
        "id": "QykMfblu7tYf"
      },
      "source": [
        "X2 = rotate(X, 20) + 5 # เลื่อนไปเเนวเเกน x เเละ y 5\n",
        "plt.scatter(X2[:, 0], X2[:, 1], **colorize)\n",
        "plt.axis('equal');"
      ],
      "execution_count": null,
      "outputs": []
    },
    {
      "cell_type": "markdown",
      "metadata": {
        "id": "oNvvAnTX7v90"
      },
      "source": [
        "## MDS"
      ]
    },
    {
      "cell_type": "code",
      "metadata": {
        "id": "NHpSnFB57xyx"
      },
      "source": [
        "from sklearn.metrics import pairwise_distances # ดูระยะห่างของจุดเเต่ละจุด\n",
        "D = pairwise_distances(X)\n",
        "D.shape"
      ],
      "execution_count": null,
      "outputs": []
    },
    {
      "cell_type": "code",
      "metadata": {
        "id": "HMc5idLh7zlW"
      },
      "source": [
        "plt.imshow(D, zorder=2, cmap='Blues', interpolation='nearest')\n",
        "plt.colorbar(); # บอกถึงสเกลทั้งหมดเป็นอย่างไร ยิ่งสีขาว เข้าใกล้ 0 ยิ่งสีเข้มเข้าใกล้ 4 สีน้ำเงินเข้ม คือ จุดที่ 1 เทียบกับจุดที่ 1000 เเปลว่าห่างกันประมาณ 4.0  "
      ],
      "execution_count": null,
      "outputs": []
    },
    {
      "cell_type": "code",
      "metadata": {
        "id": "b2U7Pdzi8Bum"
      },
      "source": [
        "D2 = pairwise_distances(X2)"
      ],
      "execution_count": null,
      "outputs": []
    },
    {
      "cell_type": "code",
      "metadata": {
        "id": "1skFKQrX8Ct2"
      },
      "source": [
        "from sklearn.manifold import MDS\n",
        "model = MDS(n_components=2, dissimilarity='precomputed', random_state=1) # random_state สามารถฟิกได้ว่าตัวเเรกที่มาพร็อตคือตัวไหน ทำให้เหมือนกัน\n",
        "out = model.fit_transform(D)\n",
        "plt.scatter(out[:, 0], out[:, 1], **colorize)\n",
        "plt.axis('equal');"
      ],
      "execution_count": null,
      "outputs": []
    },
    {
      "cell_type": "markdown",
      "metadata": {
        "id": "A81z8zTX8FEG"
      },
      "source": [
        "* random_state\n",
        "* zorder in plt.imshow \n",
        "* np.allclose()"
      ]
    },
    {
      "cell_type": "code",
      "metadata": {
        "id": "Y2jxQMCw8GMU"
      },
      "source": [
        "model = MDS(n_components=2, dissimilarity='precomputed') \n",
        "out = model.fit_transform(D)\n",
        "plt.scatter(out[:, 0], out[:, 1], **colorize)\n",
        "plt.axis('equal');"
      ],
      "execution_count": null,
      "outputs": []
    },
    {
      "cell_type": "markdown",
      "metadata": {
        "id": "_lc9YrZc8IwN"
      },
      "source": [
        "### ทดลองทำ PCA กับ ข้อมูล ```X``` เเล้ว plotgraph\n",
        "### เเละดูผลว่าการกระจายของข้อมูลเปลี่ยนไปหรือไม่ อย่างไร\n",
        "ส่งก่อน 14.15 commit ว่า quiz 4 "
      ]
    },
    {
      "cell_type": "code",
      "metadata": {
        "id": "vfDsqA468Ki9"
      },
      "source": [
        "from sklearn.decomposition import PCA"
      ],
      "execution_count": null,
      "outputs": []
    },
    {
      "cell_type": "code",
      "metadata": {
        "id": "zEO8aM3l8Nj4"
      },
      "source": [
        "pca = PCA(n_components=2)"
      ],
      "execution_count": null,
      "outputs": []
    }
  ]
}